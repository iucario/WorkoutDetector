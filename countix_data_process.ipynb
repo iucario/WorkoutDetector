{
 "cells": [
  {
   "cell_type": "code",
   "execution_count": 5,
   "metadata": {},
   "outputs": [],
   "source": [
    "import pandas as pd\n",
    "import numpy as np"
   ]
  },
  {
   "cell_type": "code",
   "execution_count": 6,
   "metadata": {},
   "outputs": [
    {
     "name": "stdout",
     "output_type": "stream",
     "text": [
      "<class 'pandas.core.frame.DataFrame'>\n",
      "RangeIndex: 1433 entries, 0 to 1432\n",
      "Data columns (total 7 columns):\n",
      " #   Column            Non-Null Count  Dtype  \n",
      "---  ------            --------------  -----  \n",
      " 0   video_id          1433 non-null   object \n",
      " 1   class             1433 non-null   object \n",
      " 2   kinetics_start    1433 non-null   int64  \n",
      " 3   kinetics_end      1433 non-null   int64  \n",
      " 4   repetition_start  1433 non-null   float64\n",
      " 5   repetition_end    1433 non-null   float64\n",
      " 6   count             1433 non-null   int64  \n",
      "dtypes: float64(2), int64(3), object(2)\n",
      "memory usage: 78.5+ KB\n"
     ]
    }
   ],
   "source": [
    "df = pd.read_csv(open('countix/countix_val.csv'))\n",
    "df.info()"
   ]
  },
  {
   "cell_type": "code",
   "execution_count": 9,
   "metadata": {},
   "outputs": [],
   "source": [
    "def df2link(df):\n",
    "    return 'https://youtube.com/watch?v=' + df['video_id'] + '&t=' + \\\n",
    "        df['kinetics_start'].astype(str) + 's'"
   ]
  },
  {
   "cell_type": "code",
   "execution_count": 10,
   "metadata": {},
   "outputs": [
    {
     "data": {
      "text/html": [
       "<a href=https://youtube.com/watch?v=6T4eOXDSzY8&t=10s>https://youtube.com/watch?v=6T4eOXDSzY8&t=10s</a>"
      ],
      "text/plain": [
       "<IPython.core.display.HTML object>"
      ]
     },
     "execution_count": 10,
     "metadata": {},
     "output_type": "execute_result"
    }
   ],
   "source": [
    "from IPython.display import HTML\n",
    "\n",
    "cate = df[df['class'] == 'situp'].sample(n=1)\n",
    "x = df2link(cate).item()\n",
    "HTML(f\"\"\"<a href={x}>{x}</a>\"\"\")"
   ]
  },
  {
   "cell_type": "code",
   "execution_count": 11,
   "metadata": {},
   "outputs": [],
   "source": [
    "actions = ['exercising arm', 'bench pressing', 'front raises', 'squat', 'jumping jacks',\n",
    "     'lunge', 'mountain climber (exercise)', 'pull ups', 'push up', 'situp']\n",
    "\n",
    "df[df['class'].isin(actions)].to_csv('workouts_val.csv')"
   ]
  },
  {
   "cell_type": "code",
   "execution_count": 12,
   "metadata": {},
   "outputs": [
    {
     "data": {
      "text/html": [
       "<div>\n",
       "<style scoped>\n",
       "    .dataframe tbody tr th:only-of-type {\n",
       "        vertical-align: middle;\n",
       "    }\n",
       "\n",
       "    .dataframe tbody tr th {\n",
       "        vertical-align: top;\n",
       "    }\n",
       "\n",
       "    .dataframe thead th {\n",
       "        text-align: right;\n",
       "    }\n",
       "</style>\n",
       "<table border=\"1\" class=\"dataframe\">\n",
       "  <thead>\n",
       "    <tr style=\"text-align: right;\">\n",
       "      <th></th>\n",
       "      <th>video_id</th>\n",
       "      <th>class</th>\n",
       "      <th>kinetics_start</th>\n",
       "      <th>kinetics_end</th>\n",
       "      <th>repetition_start</th>\n",
       "      <th>repetition_end</th>\n",
       "      <th>count</th>\n",
       "    </tr>\n",
       "    <tr>\n",
       "      <th>index</th>\n",
       "      <th></th>\n",
       "      <th></th>\n",
       "      <th></th>\n",
       "      <th></th>\n",
       "      <th></th>\n",
       "      <th></th>\n",
       "      <th></th>\n",
       "    </tr>\n",
       "  </thead>\n",
       "  <tbody>\n",
       "    <tr>\n",
       "      <th>47</th>\n",
       "      <td>eovgxTEV-sE</td>\n",
       "      <td>jumping jacks</td>\n",
       "      <td>0</td>\n",
       "      <td>10</td>\n",
       "      <td>0.000000</td>\n",
       "      <td>10.000000</td>\n",
       "      <td>2</td>\n",
       "    </tr>\n",
       "    <tr>\n",
       "      <th>49</th>\n",
       "      <td>QFcCRwncPmM</td>\n",
       "      <td>bench pressing</td>\n",
       "      <td>0</td>\n",
       "      <td>10</td>\n",
       "      <td>4.960000</td>\n",
       "      <td>9.560000</td>\n",
       "      <td>2</td>\n",
       "    </tr>\n",
       "    <tr>\n",
       "      <th>50</th>\n",
       "      <td>QiJ1swCeKQQ</td>\n",
       "      <td>bench pressing</td>\n",
       "      <td>46</td>\n",
       "      <td>56</td>\n",
       "      <td>46.806072</td>\n",
       "      <td>53.724861</td>\n",
       "      <td>2</td>\n",
       "    </tr>\n",
       "    <tr>\n",
       "      <th>51</th>\n",
       "      <td>QkGng8veoS8</td>\n",
       "      <td>bench pressing</td>\n",
       "      <td>1</td>\n",
       "      <td>11</td>\n",
       "      <td>1.066733</td>\n",
       "      <td>9.241575</td>\n",
       "      <td>2</td>\n",
       "    </tr>\n",
       "    <tr>\n",
       "      <th>52</th>\n",
       "      <td>Q5YcyqFRvRM</td>\n",
       "      <td>bench pressing</td>\n",
       "      <td>97</td>\n",
       "      <td>107</td>\n",
       "      <td>97.033367</td>\n",
       "      <td>104.941275</td>\n",
       "      <td>2</td>\n",
       "    </tr>\n",
       "  </tbody>\n",
       "</table>\n",
       "</div>"
      ],
      "text/plain": [
       "          video_id           class  kinetics_start  kinetics_end  \\\n",
       "index                                                              \n",
       "47     eovgxTEV-sE   jumping jacks               0            10   \n",
       "49     QFcCRwncPmM  bench pressing               0            10   \n",
       "50     QiJ1swCeKQQ  bench pressing              46            56   \n",
       "51     QkGng8veoS8  bench pressing               1            11   \n",
       "52     Q5YcyqFRvRM  bench pressing              97           107   \n",
       "\n",
       "       repetition_start  repetition_end  count  \n",
       "index                                           \n",
       "47             0.000000       10.000000      2  \n",
       "49             4.960000        9.560000      2  \n",
       "50            46.806072       53.724861      2  \n",
       "51             1.066733        9.241575      2  \n",
       "52            97.033367      104.941275      2  "
      ]
     },
     "execution_count": 12,
     "metadata": {},
     "output_type": "execute_result"
    }
   ],
   "source": [
    "df = pd.read_csv('workouts_val.csv', index_col=0)\n",
    "df.index.name = 'index'\n",
    "df.head()"
   ]
  },
  {
   "cell_type": "markdown",
   "metadata": {},
   "source": [
    "## Download"
   ]
  },
  {
   "cell_type": "code",
   "execution_count": 13,
   "metadata": {},
   "outputs": [
    {
     "name": "stdout",
     "output_type": "stream",
     "text": [
      "Note: you may need to restart the kernel to use updated packages.\n"
     ]
    }
   ],
   "source": [
    "%pip install yt-dlp -q\n",
    "import yt_dlp"
   ]
  },
  {
   "cell_type": "code",
   "execution_count": null,
   "metadata": {},
   "outputs": [],
   "source": [
    "def download_ytb(vid, folder):\n",
    "    url = 'https://www.youtube.com/watch?v='\n",
    "    link = url + vid\n",
    "    ydl_opts = {\n",
    "        'outtmpl': f'{folder}/{vid}',\n",
    "        'quiet': True,\n",
    "        'ignoreerrors': True,\n",
    "        'format': 136, # 136 for mp4 1280x720 30fps no audio \n",
    "    }\n",
    "    with yt_dlp.YoutubeDL(ydl_opts) as ydl:\n",
    "        ydl.download([link])\n",
    "\n",
    "# TODO use multi-thread\n",
    "df.apply(lambda row: download_ytb(row['video_id'], 'downloads'), axis=1)"
   ]
  },
  {
   "cell_type": "markdown",
   "metadata": {},
   "source": [
    "## Process videos"
   ]
  },
  {
   "cell_type": "code",
   "execution_count": null,
   "metadata": {},
   "outputs": [],
   "source": [
    "import os\n",
    "import subprocess\n",
    "\n",
    "vids = os.listdir('/content/ALL')\n",
    "dest = '/content/clips/'\n",
    "print(len(vids))\n",
    "def cut():\n",
    "    for vid in vids:\n",
    "        print(vid)\n",
    "        v = df[df['video_id'] == vid.split('.')[0]].iloc[0]\n",
    "        if not len(v): # .DS_store\n",
    "            continue\n",
    "        name = v['video_id']\n",
    "        ss = v['kinetics_start']\n",
    "        to = v['kinetics_end']\n",
    "        infile = os.path.join('/content/ALL/', vid)\n",
    "        outfile = os.path.join(dest, name+'.mp4')\n",
    "        cmd = f\"ffmpeg -i {infile} -ss {ss} -t 10 -an {outfile}\"\n",
    "        print(cmd)\n",
    "        subprocess.run([cmd], shell=True, capture_output=True)"
   ]
  },
  {
   "cell_type": "code",
   "execution_count": null,
   "metadata": {},
   "outputs": [],
   "source": [
    "import base64\n",
    "\n",
    "def download_onedrive(link):\n",
    "    b = base64.urlsafe_b64encode(link.strip().encode('ascii'))\n",
    "    s = b.decode('ascii') # seems that 'Qnc=' is fine\n",
    "    res = f'https://api.onedrive.com/v1.0/shares/u!{s}/root/content'\n",
    "    return res\n",
    "\n",
    "link = 'https://1drv.ms/u/s!'\n",
    "download_onedrive(link)"
   ]
  }
 ],
 "metadata": {
  "interpreter": {
   "hash": "e7cb1b9ae4d417fedf7f40a8eec98f7cfbd359e096bd857395a915f4609834ce"
  },
  "kernelspec": {
   "display_name": "Python 3.8.11 ('base')",
   "language": "python",
   "name": "python3"
  },
  "language_info": {
   "codemirror_mode": {
    "name": "ipython",
    "version": 3
   },
   "file_extension": ".py",
   "mimetype": "text/x-python",
   "name": "python",
   "nbconvert_exporter": "python",
   "pygments_lexer": "ipython3",
   "version": "3.8.11"
  },
  "orig_nbformat": 4
 },
 "nbformat": 4,
 "nbformat_minor": 2
}
