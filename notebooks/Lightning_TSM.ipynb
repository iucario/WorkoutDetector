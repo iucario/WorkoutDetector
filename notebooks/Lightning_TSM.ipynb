{
  "cells": [
    {
      "cell_type": "markdown",
      "metadata": {},
      "source": [
        "# Colab notebook for pytorch-lightning and time shift module"
      ]
    },
    {
      "cell_type": "code",
      "execution_count": null,
      "metadata": {
        "colab": {
          "base_uri": "https://localhost:8080/",
          "height": 159
        },
        "id": "vbsNv1DtwaNl",
        "outputId": "dbfaa81d-54c7-4839-a754-510bf2b90cd0"
      },
      "outputs": [],
      "source": [
        "%pip install wandb -qqq\n",
        "import wandb\n",
        "wandb.login()"
      ]
    },
    {
      "cell_type": "code",
      "execution_count": null,
      "metadata": {
        "colab": {
          "base_uri": "https://localhost:8080/"
        },
        "id": "HpakWwnde3Fq",
        "outputId": "95ec3c77-60a2-49b2-cba5-5f8d924bedf8"
      },
      "outputs": [],
      "source": [
        "%cd /content/\n",
        "!rm -r WorkoutDetector\n",
        "!git clone --recursive https://github.com/iucario/WorkoutDetector.git -q\n",
        "\n",
        "%cd WorkoutDetector\n",
        "!git checkout colab\n",
        "%pip install -e ."
      ]
    },
    {
      "cell_type": "code",
      "execution_count": null,
      "metadata": {
        "colab": {
          "base_uri": "https://localhost:8080/"
        },
        "id": "lhJvUh9cCYTr",
        "outputId": "af5c4a06-820b-4c41-c527-a48227bae40f"
      },
      "outputs": [],
      "source": [
        "%pip install einops -q\n",
        "%pip install fvcore -q\n",
        "%pip install timm -q\n",
        "%pip install onnx onnxruntime-gpu -q\n",
        "%pip install pytorch_lightning -q"
      ]
    },
    {
      "cell_type": "markdown",
      "metadata": {},
      "source": [
        "Install mmaction2 just to supress import error.\n",
        "It's not used in this notebook."
      ]
    },
    {
      "cell_type": "code",
      "execution_count": null,
      "metadata": {
        "colab": {
          "base_uri": "https://localhost:8080/"
        },
        "id": "N4LvvfEYH8Dt",
        "outputId": "210ea6d6-4813-4a3f-cdef-b81bc53eaabe"
      },
      "outputs": [],
      "source": [
        "%pip install git+https://github.com/open-mmlab/mim.git -q\n",
        "!mim install mmcv-full==1.5.0 > /dev/null\n",
        "%pip install git+https://github.com/open-mmlab/mmaction2 "
      ]
    },
    {
      "cell_type": "code",
      "execution_count": null,
      "metadata": {
        "colab": {
          "base_uri": "https://localhost:8080/"
        },
        "id": "DBZyFmZcLW1Y",
        "outputId": "5217b9e7-799f-4a36-d08f-ef735e5db803"
      },
      "outputs": [],
      "source": [
        "import base64\n",
        "\n",
        "def parse_onedrive(link: str) -> str:\n",
        "    \"\"\"Parse onedrive link to download link.\n",
        "\n",
        "    Args:\n",
        "        link: str, start with `https://1drv.ms/u/s!`\n",
        "\n",
        "    Returns:\n",
        "        str, download link.\n",
        "    \"\"\"\n",
        "    assert link.startswith('https://1drv.ms/u/s!')\n",
        "    b = base64.urlsafe_b64encode(link.strip().encode('ascii'))\n",
        "    s = b.decode('ascii')\n",
        "    res = f'https://api.onedrive.com/v1.0/shares/u!{s}/root/content'\n",
        "    return res\n",
        "\n",
        "URL_VIDEO = parse_onedrive('https://1drv.ms/u/s!AiohV3HRf-34ipk0i1y2P1txpKYXFw')\n",
        "URL_ANNO = parse_onedrive('https://1drv.ms/u/s!AiohV3HRf-34i_YvMob5Vpgvxjc3mQ')\n"
      ]
    },
    {
      "cell_type": "markdown",
      "metadata": {},
      "source": [
        "Download video dataset. But it's not used. Raw frames dataset is used."
      ]
    },
    {
      "cell_type": "code",
      "execution_count": null,
      "metadata": {
        "colab": {
          "base_uri": "https://localhost:8080/"
        },
        "id": "GN7QzOE7L9Ym",
        "outputId": "b790645d-1d14-4a27-de88-b01925a16db9"
      },
      "outputs": [],
      "source": [
        "# !wget $URL_VIDEO -O /content/videos.zip\n",
        "# !wget $URL_ANNO -O /content/annotation.csv\n",
        "# !zip -FF videos.zip --out video.zip > /dev/null\n",
        "# !unzip video.zip > /dev/null"
      ]
    },
    {
      "cell_type": "code",
      "execution_count": null,
      "metadata": {
        "colab": {
          "base_uri": "https://localhost:8080/",
          "height": 105,
          "referenced_widgets": [
            "89732e9b040a4ddbbc8f18af59c34b0d",
            "13396b6c32634573a353df7d1eb2d805",
            "ff8be384f1e24f35a431cc77b8556b64",
            "6fb16db9dd8a4f888e120570b58981ea",
            "1f97827ba0a4477a9d493e85172745d1",
            "fd8beb3cc7834701bdd65cd384b9b7e0",
            "b52d33ed75fd4ecd97a021f864f304ab",
            "b6b5fd00aaa646aa8c4d4c11223d63b3",
            "55301f74c63f44adbb3fbda335b23a0f",
            "c43b89fc1ece42afb4422d1022bda3fe",
            "bfc373a421f04642ab8dfbf7a58166fa"
          ]
        },
        "id": "x42-8wmG9emX",
        "outputId": "9f6b6a88-fb8b-4a89-fbd7-158790795836"
      },
      "outputs": [],
      "source": [
        "import os\n",
        "ROOT = '/content/WorkoutDetector'\n",
        "from workoutdetector.datasets import RepcountDataset\n",
        "data_root = os.path.join(ROOT, 'data')\n",
        "repcount = RepcountDataset(root=data_root, split='train', download=True)"
      ]
    },
    {
      "cell_type": "code",
      "execution_count": null,
      "metadata": {
        "colab": {
          "base_uri": "https://localhost:8080/"
        },
        "id": "TUxpjmH6D5BM",
        "outputId": "596f217b-5fca-406a-d660-08ec698f0536"
      },
      "outputs": [],
      "source": [
        "from workoutdetector.settings import PROJ_ROOT\n",
        "from workoutdetector.scripts.build_label_list import build_with_start\n",
        "\n",
        "print('project root:', PROJ_ROOT)\n",
        "data_root = os.path.join(PROJ_ROOT, 'data')\n",
        "dst_dir = os.path.join(data_root, 'Binary')\n",
        "build_with_start(data_root, dst_dir)\n",
        "print('save label list to', dst_dir)"
      ]
    },
    {
      "cell_type": "markdown",
      "metadata": {
        "id": "Rys1JjyzKfiw"
      },
      "source": [
        "## Train"
      ]
    },
    {
      "cell_type": "code",
      "execution_count": null,
      "metadata": {
        "id": "Srkq-3NHNbiH"
      },
      "outputs": [],
      "source": [
        "!wget https://hanlab.mit.edu/projects/tsm/models/TSM_somethingv2_RGB_resnet50_shift8_blockres_avg_segment8_e45.pth \\\n",
        "    -P /content/WorkoutDetector/checkpoints/"
      ]
    },
    {
      "cell_type": "code",
      "execution_count": null,
      "metadata": {
        "colab": {
          "base_uri": "https://localhost:8080/"
        },
        "id": "G6kdlpr8Khfq",
        "outputId": "86718e40-ba28-4c17-8bb8-b3e71b4bbb4e"
      },
      "outputs": [],
      "source": [
        "!python /content/WorkoutDetector/workoutdetector/trainer.py"
      ]
    }
  ],
  "metadata": {
    "accelerator": "GPU",
    "colab": {
      "name": "Lightning TSM.ipynb",
      "provenance": []
    },
    "gpuClass": "standard",
    "kernelspec": {
      "display_name": "Python 3",
      "name": "python3"
    },
    "language_info": {
      "name": "python"
    },
    "widgets": {
      "application/vnd.jupyter.widget-state+json": {
        "13396b6c32634573a353df7d1eb2d805": {
          "model_module": "@jupyter-widgets/controls",
          "model_module_version": "1.5.0",
          "model_name": "HTMLModel",
          "state": {
            "_dom_classes": [],
            "_model_module": "@jupyter-widgets/controls",
            "_model_module_version": "1.5.0",
            "_model_name": "HTMLModel",
            "_view_count": null,
            "_view_module": "@jupyter-widgets/controls",
            "_view_module_version": "1.5.0",
            "_view_name": "HTMLView",
            "description": "",
            "description_tooltip": null,
            "layout": "IPY_MODEL_fd8beb3cc7834701bdd65cd384b9b7e0",
            "placeholder": "​",
            "style": "IPY_MODEL_b52d33ed75fd4ecd97a021f864f304ab",
            "value": ""
          }
        },
        "1f97827ba0a4477a9d493e85172745d1": {
          "model_module": "@jupyter-widgets/base",
          "model_module_version": "1.2.0",
          "model_name": "LayoutModel",
          "state": {
            "_model_module": "@jupyter-widgets/base",
            "_model_module_version": "1.2.0",
            "_model_name": "LayoutModel",
            "_view_count": null,
            "_view_module": "@jupyter-widgets/base",
            "_view_module_version": "1.2.0",
            "_view_name": "LayoutView",
            "align_content": null,
            "align_items": null,
            "align_self": null,
            "border": null,
            "bottom": null,
            "display": null,
            "flex": null,
            "flex_flow": null,
            "grid_area": null,
            "grid_auto_columns": null,
            "grid_auto_flow": null,
            "grid_auto_rows": null,
            "grid_column": null,
            "grid_gap": null,
            "grid_row": null,
            "grid_template_areas": null,
            "grid_template_columns": null,
            "grid_template_rows": null,
            "height": null,
            "justify_content": null,
            "justify_items": null,
            "left": null,
            "margin": null,
            "max_height": null,
            "max_width": null,
            "min_height": null,
            "min_width": null,
            "object_fit": null,
            "object_position": null,
            "order": null,
            "overflow": null,
            "overflow_x": null,
            "overflow_y": null,
            "padding": null,
            "right": null,
            "top": null,
            "visibility": null,
            "width": null
          }
        },
        "55301f74c63f44adbb3fbda335b23a0f": {
          "model_module": "@jupyter-widgets/controls",
          "model_module_version": "1.5.0",
          "model_name": "ProgressStyleModel",
          "state": {
            "_model_module": "@jupyter-widgets/controls",
            "_model_module_version": "1.5.0",
            "_model_name": "ProgressStyleModel",
            "_view_count": null,
            "_view_module": "@jupyter-widgets/base",
            "_view_module_version": "1.2.0",
            "_view_name": "StyleView",
            "bar_color": null,
            "description_width": ""
          }
        },
        "6fb16db9dd8a4f888e120570b58981ea": {
          "model_module": "@jupyter-widgets/controls",
          "model_module_version": "1.5.0",
          "model_name": "HTMLModel",
          "state": {
            "_dom_classes": [],
            "_model_module": "@jupyter-widgets/controls",
            "_model_module_version": "1.5.0",
            "_model_name": "HTMLModel",
            "_view_count": null,
            "_view_module": "@jupyter-widgets/controls",
            "_view_module_version": "1.5.0",
            "_view_name": "HTMLView",
            "description": "",
            "description_tooltip": null,
            "layout": "IPY_MODEL_c43b89fc1ece42afb4422d1022bda3fe",
            "placeholder": "​",
            "style": "IPY_MODEL_bfc373a421f04642ab8dfbf7a58166fa",
            "value": " 8569893888/? [04:50&lt;00:00, 43648039.02it/s]"
          }
        },
        "89732e9b040a4ddbbc8f18af59c34b0d": {
          "model_module": "@jupyter-widgets/controls",
          "model_module_version": "1.5.0",
          "model_name": "HBoxModel",
          "state": {
            "_dom_classes": [],
            "_model_module": "@jupyter-widgets/controls",
            "_model_module_version": "1.5.0",
            "_model_name": "HBoxModel",
            "_view_count": null,
            "_view_module": "@jupyter-widgets/controls",
            "_view_module_version": "1.5.0",
            "_view_name": "HBoxView",
            "box_style": "",
            "children": [
              "IPY_MODEL_13396b6c32634573a353df7d1eb2d805",
              "IPY_MODEL_ff8be384f1e24f35a431cc77b8556b64",
              "IPY_MODEL_6fb16db9dd8a4f888e120570b58981ea"
            ],
            "layout": "IPY_MODEL_1f97827ba0a4477a9d493e85172745d1"
          }
        },
        "b52d33ed75fd4ecd97a021f864f304ab": {
          "model_module": "@jupyter-widgets/controls",
          "model_module_version": "1.5.0",
          "model_name": "DescriptionStyleModel",
          "state": {
            "_model_module": "@jupyter-widgets/controls",
            "_model_module_version": "1.5.0",
            "_model_name": "DescriptionStyleModel",
            "_view_count": null,
            "_view_module": "@jupyter-widgets/base",
            "_view_module_version": "1.2.0",
            "_view_name": "StyleView",
            "description_width": ""
          }
        },
        "b6b5fd00aaa646aa8c4d4c11223d63b3": {
          "model_module": "@jupyter-widgets/base",
          "model_module_version": "1.2.0",
          "model_name": "LayoutModel",
          "state": {
            "_model_module": "@jupyter-widgets/base",
            "_model_module_version": "1.2.0",
            "_model_name": "LayoutModel",
            "_view_count": null,
            "_view_module": "@jupyter-widgets/base",
            "_view_module_version": "1.2.0",
            "_view_name": "LayoutView",
            "align_content": null,
            "align_items": null,
            "align_self": null,
            "border": null,
            "bottom": null,
            "display": null,
            "flex": null,
            "flex_flow": null,
            "grid_area": null,
            "grid_auto_columns": null,
            "grid_auto_flow": null,
            "grid_auto_rows": null,
            "grid_column": null,
            "grid_gap": null,
            "grid_row": null,
            "grid_template_areas": null,
            "grid_template_columns": null,
            "grid_template_rows": null,
            "height": null,
            "justify_content": null,
            "justify_items": null,
            "left": null,
            "margin": null,
            "max_height": null,
            "max_width": null,
            "min_height": null,
            "min_width": null,
            "object_fit": null,
            "object_position": null,
            "order": null,
            "overflow": null,
            "overflow_x": null,
            "overflow_y": null,
            "padding": null,
            "right": null,
            "top": null,
            "visibility": null,
            "width": null
          }
        },
        "bfc373a421f04642ab8dfbf7a58166fa": {
          "model_module": "@jupyter-widgets/controls",
          "model_module_version": "1.5.0",
          "model_name": "DescriptionStyleModel",
          "state": {
            "_model_module": "@jupyter-widgets/controls",
            "_model_module_version": "1.5.0",
            "_model_name": "DescriptionStyleModel",
            "_view_count": null,
            "_view_module": "@jupyter-widgets/base",
            "_view_module_version": "1.2.0",
            "_view_name": "StyleView",
            "description_width": ""
          }
        },
        "c43b89fc1ece42afb4422d1022bda3fe": {
          "model_module": "@jupyter-widgets/base",
          "model_module_version": "1.2.0",
          "model_name": "LayoutModel",
          "state": {
            "_model_module": "@jupyter-widgets/base",
            "_model_module_version": "1.2.0",
            "_model_name": "LayoutModel",
            "_view_count": null,
            "_view_module": "@jupyter-widgets/base",
            "_view_module_version": "1.2.0",
            "_view_name": "LayoutView",
            "align_content": null,
            "align_items": null,
            "align_self": null,
            "border": null,
            "bottom": null,
            "display": null,
            "flex": null,
            "flex_flow": null,
            "grid_area": null,
            "grid_auto_columns": null,
            "grid_auto_flow": null,
            "grid_auto_rows": null,
            "grid_column": null,
            "grid_gap": null,
            "grid_row": null,
            "grid_template_areas": null,
            "grid_template_columns": null,
            "grid_template_rows": null,
            "height": null,
            "justify_content": null,
            "justify_items": null,
            "left": null,
            "margin": null,
            "max_height": null,
            "max_width": null,
            "min_height": null,
            "min_width": null,
            "object_fit": null,
            "object_position": null,
            "order": null,
            "overflow": null,
            "overflow_x": null,
            "overflow_y": null,
            "padding": null,
            "right": null,
            "top": null,
            "visibility": null,
            "width": null
          }
        },
        "fd8beb3cc7834701bdd65cd384b9b7e0": {
          "model_module": "@jupyter-widgets/base",
          "model_module_version": "1.2.0",
          "model_name": "LayoutModel",
          "state": {
            "_model_module": "@jupyter-widgets/base",
            "_model_module_version": "1.2.0",
            "_model_name": "LayoutModel",
            "_view_count": null,
            "_view_module": "@jupyter-widgets/base",
            "_view_module_version": "1.2.0",
            "_view_name": "LayoutView",
            "align_content": null,
            "align_items": null,
            "align_self": null,
            "border": null,
            "bottom": null,
            "display": null,
            "flex": null,
            "flex_flow": null,
            "grid_area": null,
            "grid_auto_columns": null,
            "grid_auto_flow": null,
            "grid_auto_rows": null,
            "grid_column": null,
            "grid_gap": null,
            "grid_row": null,
            "grid_template_areas": null,
            "grid_template_columns": null,
            "grid_template_rows": null,
            "height": null,
            "justify_content": null,
            "justify_items": null,
            "left": null,
            "margin": null,
            "max_height": null,
            "max_width": null,
            "min_height": null,
            "min_width": null,
            "object_fit": null,
            "object_position": null,
            "order": null,
            "overflow": null,
            "overflow_x": null,
            "overflow_y": null,
            "padding": null,
            "right": null,
            "top": null,
            "visibility": null,
            "width": null
          }
        },
        "ff8be384f1e24f35a431cc77b8556b64": {
          "model_module": "@jupyter-widgets/controls",
          "model_module_version": "1.5.0",
          "model_name": "FloatProgressModel",
          "state": {
            "_dom_classes": [],
            "_model_module": "@jupyter-widgets/controls",
            "_model_module_version": "1.5.0",
            "_model_name": "FloatProgressModel",
            "_view_count": null,
            "_view_module": "@jupyter-widgets/controls",
            "_view_module_version": "1.5.0",
            "_view_name": "ProgressView",
            "bar_style": "success",
            "description": "",
            "description_tooltip": null,
            "layout": "IPY_MODEL_b6b5fd00aaa646aa8c4d4c11223d63b3",
            "max": 8569892988,
            "min": 0,
            "orientation": "horizontal",
            "style": "IPY_MODEL_55301f74c63f44adbb3fbda335b23a0f",
            "value": 8569892988
          }
        }
      }
    }
  },
  "nbformat": 4,
  "nbformat_minor": 0
}
