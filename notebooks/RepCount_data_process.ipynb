{
 "cells": [
  {
   "cell_type": "markdown",
   "metadata": {},
   "source": [
    "# RepCount dataset processing\n",
    "\n",
    "This notebook cleans the dataset and creates a new csv file with name `annotation.csv` in current folder.\n",
    "\n",
    "Advice: Don't trust the original annotations.\n",
    "\n",
    "Known errors:\n",
    "1. Video missing frames. (One video in bench_pressing)\n",
    "2. Annotation of repetition is incorrect. (Many rows in bench_pressing)\n",
    "3. Column `type` has typos.\n",
    "4. Repetition unit is incorrect. Uses second rather than frame index. `stu6_68.mp4`."
   ]
  },
  {
   "cell_type": "code",
   "execution_count": 1,
   "metadata": {},
   "outputs": [],
   "source": [
    "import pandas as pd\n",
    "import numpy as np\n",
    "import os\n",
    "from os.path import join as osj\n",
    "from pathlib import Path\n",
    "base = osj('../datasets/RepCount/')"
   ]
  },
  {
   "cell_type": "code",
   "execution_count": 2,
   "metadata": {},
   "outputs": [
    {
     "name": "stdout",
     "output_type": "stream",
     "text": [
      "758 152 131\n",
      "total: 1041\n"
     ]
    },
    {
     "data": {
      "text/html": [
       "<div>\n",
       "<style scoped>\n",
       "    .dataframe tbody tr th:only-of-type {\n",
       "        vertical-align: middle;\n",
       "    }\n",
       "\n",
       "    .dataframe tbody tr th {\n",
       "        vertical-align: top;\n",
       "    }\n",
       "\n",
       "    .dataframe thead th {\n",
       "        text-align: right;\n",
       "    }\n",
       "</style>\n",
       "<table border=\"1\" class=\"dataframe\">\n",
       "  <thead>\n",
       "    <tr style=\"text-align: right;\">\n",
       "      <th></th>\n",
       "      <th>type</th>\n",
       "      <th>name</th>\n",
       "      <th>count</th>\n",
       "      <th>L1</th>\n",
       "      <th>L2</th>\n",
       "      <th>L3</th>\n",
       "      <th>L4</th>\n",
       "      <th>L5</th>\n",
       "      <th>L6</th>\n",
       "      <th>L7</th>\n",
       "      <th>...</th>\n",
       "      <th>L293</th>\n",
       "      <th>L294</th>\n",
       "      <th>L295</th>\n",
       "      <th>L296</th>\n",
       "      <th>L297</th>\n",
       "      <th>L298</th>\n",
       "      <th>L299</th>\n",
       "      <th>L300</th>\n",
       "      <th>L301</th>\n",
       "      <th>L302</th>\n",
       "    </tr>\n",
       "  </thead>\n",
       "  <tbody>\n",
       "    <tr>\n",
       "      <th>0</th>\n",
       "      <td>frontraise</td>\n",
       "      <td>train951.mp4</td>\n",
       "      <td>4.0</td>\n",
       "      <td>6.0</td>\n",
       "      <td>72.0</td>\n",
       "      <td>72.0</td>\n",
       "      <td>132.0</td>\n",
       "      <td>132.0</td>\n",
       "      <td>204.0</td>\n",
       "      <td>204.0</td>\n",
       "      <td>...</td>\n",
       "      <td>NaN</td>\n",
       "      <td>NaN</td>\n",
       "      <td>NaN</td>\n",
       "      <td>NaN</td>\n",
       "      <td>NaN</td>\n",
       "      <td>NaN</td>\n",
       "      <td>NaN</td>\n",
       "      <td>NaN</td>\n",
       "      <td>NaN</td>\n",
       "      <td>NaN</td>\n",
       "    </tr>\n",
       "    <tr>\n",
       "      <th>1</th>\n",
       "      <td>frontraise</td>\n",
       "      <td>train952.mp4</td>\n",
       "      <td>10.0</td>\n",
       "      <td>13.0</td>\n",
       "      <td>62.0</td>\n",
       "      <td>62.0</td>\n",
       "      <td>103.0</td>\n",
       "      <td>103.0</td>\n",
       "      <td>126.0</td>\n",
       "      <td>126.0</td>\n",
       "      <td>...</td>\n",
       "      <td>NaN</td>\n",
       "      <td>NaN</td>\n",
       "      <td>NaN</td>\n",
       "      <td>NaN</td>\n",
       "      <td>NaN</td>\n",
       "      <td>NaN</td>\n",
       "      <td>NaN</td>\n",
       "      <td>NaN</td>\n",
       "      <td>NaN</td>\n",
       "      <td>NaN</td>\n",
       "    </tr>\n",
       "    <tr>\n",
       "      <th>2</th>\n",
       "      <td>pullups</td>\n",
       "      <td>test1463.mp4</td>\n",
       "      <td>7.0</td>\n",
       "      <td>21.0</td>\n",
       "      <td>60.0</td>\n",
       "      <td>60.0</td>\n",
       "      <td>98.0</td>\n",
       "      <td>98.0</td>\n",
       "      <td>132.0</td>\n",
       "      <td>132.0</td>\n",
       "      <td>...</td>\n",
       "      <td>NaN</td>\n",
       "      <td>NaN</td>\n",
       "      <td>NaN</td>\n",
       "      <td>NaN</td>\n",
       "      <td>NaN</td>\n",
       "      <td>NaN</td>\n",
       "      <td>NaN</td>\n",
       "      <td>NaN</td>\n",
       "      <td>NaN</td>\n",
       "      <td>NaN</td>\n",
       "    </tr>\n",
       "    <tr>\n",
       "      <th>3</th>\n",
       "      <td>squant</td>\n",
       "      <td>test2340.mp4</td>\n",
       "      <td>4.0</td>\n",
       "      <td>0.0</td>\n",
       "      <td>86.0</td>\n",
       "      <td>86.0</td>\n",
       "      <td>155.0</td>\n",
       "      <td>155.0</td>\n",
       "      <td>218.0</td>\n",
       "      <td>219.0</td>\n",
       "      <td>...</td>\n",
       "      <td>NaN</td>\n",
       "      <td>NaN</td>\n",
       "      <td>NaN</td>\n",
       "      <td>NaN</td>\n",
       "      <td>NaN</td>\n",
       "      <td>NaN</td>\n",
       "      <td>NaN</td>\n",
       "      <td>NaN</td>\n",
       "      <td>NaN</td>\n",
       "      <td>NaN</td>\n",
       "    </tr>\n",
       "    <tr>\n",
       "      <th>4</th>\n",
       "      <td>front_raise</td>\n",
       "      <td>stu5_11.mp4</td>\n",
       "      <td>6.0</td>\n",
       "      <td>104.0</td>\n",
       "      <td>179.0</td>\n",
       "      <td>179.0</td>\n",
       "      <td>255.0</td>\n",
       "      <td>255.0</td>\n",
       "      <td>330.0</td>\n",
       "      <td>426.0</td>\n",
       "      <td>...</td>\n",
       "      <td>NaN</td>\n",
       "      <td>NaN</td>\n",
       "      <td>NaN</td>\n",
       "      <td>NaN</td>\n",
       "      <td>NaN</td>\n",
       "      <td>NaN</td>\n",
       "      <td>NaN</td>\n",
       "      <td>NaN</td>\n",
       "      <td>NaN</td>\n",
       "      <td>NaN</td>\n",
       "    </tr>\n",
       "  </tbody>\n",
       "</table>\n",
       "<p>5 rows × 305 columns</p>\n",
       "</div>"
      ],
      "text/plain": [
       "          type          name  count     L1     L2     L3     L4     L5     L6  \\\n",
       "0   frontraise  train951.mp4    4.0    6.0   72.0   72.0  132.0  132.0  204.0   \n",
       "1   frontraise  train952.mp4   10.0   13.0   62.0   62.0  103.0  103.0  126.0   \n",
       "2      pullups  test1463.mp4    7.0   21.0   60.0   60.0   98.0   98.0  132.0   \n",
       "3       squant  test2340.mp4    4.0    0.0   86.0   86.0  155.0  155.0  218.0   \n",
       "4  front_raise   stu5_11.mp4    6.0  104.0  179.0  179.0  255.0  255.0  330.0   \n",
       "\n",
       "      L7  ...  L293  L294  L295  L296  L297  L298  L299  L300  L301  L302  \n",
       "0  204.0  ...   NaN   NaN   NaN   NaN   NaN   NaN   NaN   NaN   NaN   NaN  \n",
       "1  126.0  ...   NaN   NaN   NaN   NaN   NaN   NaN   NaN   NaN   NaN   NaN  \n",
       "2  132.0  ...   NaN   NaN   NaN   NaN   NaN   NaN   NaN   NaN   NaN   NaN  \n",
       "3  219.0  ...   NaN   NaN   NaN   NaN   NaN   NaN   NaN   NaN   NaN   NaN  \n",
       "4  426.0  ...   NaN   NaN   NaN   NaN   NaN   NaN   NaN   NaN   NaN   NaN  \n",
       "\n",
       "[5 rows x 305 columns]"
      ]
     },
     "execution_count": 2,
     "metadata": {},
     "output_type": "execute_result"
    }
   ],
   "source": [
    "train_csv = os.path.join(base, 'annotation/train.csv')\n",
    "test_csv = os.path.join(base, 'annotation/test.csv')\n",
    "val_csv = os.path.join(base, 'annotation/val.csv')\n",
    "\n",
    "train_df = pd.read_csv(train_csv, index_col=0)\n",
    "test_df = pd.read_csv(test_csv, index_col=0)\n",
    "val_df = pd.read_csv(val_csv, index_col=0)\n",
    "\n",
    "print(len(train_df), len(test_df), len(val_df))\n",
    "print('total:', len(train_df) + len(test_df) + len(val_df))\n",
    "\n",
    "\n",
    "train_df.dropna(subset=['count'], inplace=True)\n",
    "train_df.head()\n"
   ]
  },
  {
   "cell_type": "markdown",
   "metadata": {},
   "source": [
    "## CLEAN"
   ]
  },
  {
   "cell_type": "code",
   "execution_count": 3,
   "metadata": {},
   "outputs": [],
   "source": [
    "# Mislabelled data. Should be situp.\n",
    "train_df[train_df['name'] == 'stu2_48.mp4']\n",
    "train_df.loc[train_df['name'] == 'stu2_48.mp4', 'type'] = 'situp'"
   ]
  },
  {
   "cell_type": "code",
   "execution_count": 4,
   "metadata": {},
   "outputs": [
    {
     "name": "stdout",
     "output_type": "stream",
     "text": [
      "20\n",
      "[0.0, 25.0, 27.0, 57.0, 58.0, 85.0, 87.0, 117.0, 118.0, 148.0, 149.0, 179.0, 180.0, 208.0, 208.0, 239.0, 239.0, 267.0, 268.0, 297.0]\n"
     ]
    }
   ],
   "source": [
    "def get_reps(df, name):\n",
    "    reps = df[df['name'] == name].values[0][3:]\n",
    "    reps = [r for r in reps if pd.notnull(r)]\n",
    "    count = df[df['name'] == name].values[0][2]\n",
    "    return reps\n",
    "\n",
    "reps = get_reps(test_df, 'train1615.mp4')\n",
    "print(len(reps))\n",
    "print(reps)"
   ]
  },
  {
   "cell_type": "code",
   "execution_count": 5,
   "metadata": {},
   "outputs": [],
   "source": [
    "# Labelled frame is longer than actual frame length. I don't know why. \n",
    "# It does have 1841 frames. But only 1681 frames in rawframe dir.\n",
    "# I know why. The video is broken.\n",
    "train_df[train_df['name'] == 'stu1_10.mp4']\n",
    "train_df = train_df[train_df['name'] != 'stu1_10.mp4']"
   ]
  },
  {
   "cell_type": "code",
   "execution_count": 6,
   "metadata": {},
   "outputs": [
    {
     "name": "stdout",
     "output_type": "stream",
     "text": [
      "[63.0 163.0 163.0 306.0 534.0 598.0 598.0 675.0 675.0 762.0 856.0 957.0\n",
      " 1020.0 1105.0 1105.0 1186.0 1186.0 1186.0 1186.0 1303.0 1303.0 1398.0\n",
      " 1399.0 1550.0 nan]\n"
     ]
    }
   ],
   "source": [
    "print(train_df[train_df['name'] == 'stu6_5.mp4'].values[0][3:28])\n",
    "train_df = train_df[train_df['name'] != 'stu6_5.mp4']\n",
    "train_df.drop(train_df[train_df['name'] == 'stu4_3'].index, inplace=True)"
   ]
  },
  {
   "cell_type": "code",
   "execution_count": 7,
   "metadata": {},
   "outputs": [
    {
     "name": "stdout",
     "output_type": "stream",
     "text": [
      "[342.0 343.0 362.0 362.0 379.0 379.0 403.0 403.0 418.0 418.0 446.0 446.0\n",
      " 464.0 464.0 482.0 482.0 504.0 505.0 526.0 527.0]\n"
     ]
    }
   ],
   "source": [
    "print(test_df[test_df['name'] == 'stu4_5.mp4'].values[0][30:50])\n",
    "# why are there so many same frames in the repetition?\n",
    "# And the video is situp, not bench press.\n",
    "# Drop this.\n",
    "test_df = test_df[test_df['name'] != 'stu4_5.mp4']"
   ]
  },
  {
   "cell_type": "code",
   "execution_count": 8,
   "metadata": {},
   "outputs": [
    {
     "name": "stdout",
     "output_type": "stream",
     "text": [
      "['squat' 'stu6_68.mp4' 6 4.0 7.0 8.0 11.0 11.0 14.0 14.0 18.0 18.0 21.0\n",
      " 23.0 26.0 nan nan nan nan nan]\n"
     ]
    }
   ],
   "source": [
    "# The reps are annotated in seconds. Convert to frames. Nope, drop this.\n",
    "print(test_df[test_df['name'] == 'stu6_68.mp4'].values[0][0:20])\n",
    "test_df.drop(test_df[test_df['name'] == 'stu6_68.mp4'].index, inplace=True)"
   ]
  },
  {
   "cell_type": "markdown",
   "metadata": {},
   "source": [
    "## Original YouTube data"
   ]
  },
  {
   "cell_type": "code",
   "execution_count": 9,
   "metadata": {},
   "outputs": [
    {
     "name": "stdout",
     "output_type": "stream",
     "text": [
      "800\n"
     ]
    },
    {
     "data": {
      "text/html": [
       "<div>\n",
       "<style scoped>\n",
       "    .dataframe tbody tr th:only-of-type {\n",
       "        vertical-align: middle;\n",
       "    }\n",
       "\n",
       "    .dataframe tbody tr th {\n",
       "        vertical-align: top;\n",
       "    }\n",
       "\n",
       "    .dataframe thead th {\n",
       "        text-align: right;\n",
       "    }\n",
       "</style>\n",
       "<table border=\"1\" class=\"dataframe\">\n",
       "  <thead>\n",
       "    <tr style=\"text-align: right;\">\n",
       "      <th></th>\n",
       "      <th>class</th>\n",
       "      <th>vid_st</th>\n",
       "      <th>vid</th>\n",
       "      <th>stuid</th>\n",
       "      <th>rename</th>\n",
       "    </tr>\n",
       "  </thead>\n",
       "  <tbody>\n",
       "    <tr>\n",
       "      <th>693</th>\n",
       "      <td>squat</td>\n",
       "      <td>REjznoKN8Q8_143.mp4</td>\n",
       "      <td>REjznoKN8Q8</td>\n",
       "      <td>8</td>\n",
       "      <td>stu8_69</td>\n",
       "    </tr>\n",
       "    <tr>\n",
       "      <th>694</th>\n",
       "      <td>squat</td>\n",
       "      <td>REjznoKN8Q8_188.mp4</td>\n",
       "      <td>REjznoKN8Q8</td>\n",
       "      <td>3</td>\n",
       "      <td>stu3_67</td>\n",
       "    </tr>\n",
       "    <tr>\n",
       "      <th>779</th>\n",
       "      <td>squat</td>\n",
       "      <td>REjznoKN8Q8_188.mp4</td>\n",
       "      <td>REjznoKN8Q8</td>\n",
       "      <td>8</td>\n",
       "      <td>stu8_75</td>\n",
       "    </tr>\n",
       "  </tbody>\n",
       "</table>\n",
       "</div>"
      ],
      "text/plain": [
       "     class               vid_st          vid  stuid   rename\n",
       "693  squat  REjznoKN8Q8_143.mp4  REjznoKN8Q8      8  stu8_69\n",
       "694  squat  REjznoKN8Q8_188.mp4  REjznoKN8Q8      3  stu3_67\n",
       "779  squat  REjznoKN8Q8_188.mp4  REjznoKN8Q8      8  stu8_75"
      ]
     },
     "execution_count": 9,
     "metadata": {},
     "output_type": "execute_result"
    }
   ],
   "source": [
    "original_data = Path(base, 'original_data/filename_mapping.xlsx')\n",
    "ori = pd.read_excel(original_data, index_col=0)\n",
    "print(len(ori))\n",
    "ori[ori['vid']=='REjznoKN8Q8'].head(10)"
   ]
  },
  {
   "cell_type": "code",
   "execution_count": 10,
   "metadata": {},
   "outputs": [],
   "source": [
    "def min2sec(t):\n",
    "    m, s = t.split(':')\n",
    "    return int(m)*60 + int(s)\n",
    "\n",
    "d_ = dict()\n",
    "download_link_dir = Path(base, 'original_data/DownloadLink')\n",
    "for fname in os.listdir(download_link_dir):\n",
    "    with open(Path(download_link_dir, fname), 'r') as f:\n",
    "        lines = f.readlines()\n",
    "        for line in lines:\n",
    "            vid, st, et = line.strip().split()\n",
    "            st = min2sec(st)\n",
    "            et = min2sec(et)\n",
    "            vid_st = f'{vid}_{st}.mp4'\n",
    "            d_[vid_st] = et\n",
    "\n",
    "for row in ori.itertuples():\n",
    "    vid_st = row.vid_st\n",
    "    if vid_st in d_:\n",
    "        ori.at[row.Index, 'et'] = int(d_[vid_st])\n",
    "        ori.at[row.Index, 'st'] = int(vid_st[12:-4])"
   ]
  },
  {
   "cell_type": "code",
   "execution_count": 11,
   "metadata": {},
   "outputs": [
    {
     "data": {
      "text/html": [
       "<div>\n",
       "<style scoped>\n",
       "    .dataframe tbody tr th:only-of-type {\n",
       "        vertical-align: middle;\n",
       "    }\n",
       "\n",
       "    .dataframe tbody tr th {\n",
       "        vertical-align: top;\n",
       "    }\n",
       "\n",
       "    .dataframe thead th {\n",
       "        text-align: right;\n",
       "    }\n",
       "</style>\n",
       "<table border=\"1\" class=\"dataframe\">\n",
       "  <thead>\n",
       "    <tr style=\"text-align: right;\">\n",
       "      <th></th>\n",
       "      <th>vid_st</th>\n",
       "      <th>vid</th>\n",
       "      <th>stuid</th>\n",
       "      <th>rename</th>\n",
       "      <th>et</th>\n",
       "      <th>st</th>\n",
       "      <th>name</th>\n",
       "    </tr>\n",
       "  </thead>\n",
       "  <tbody>\n",
       "    <tr>\n",
       "      <th>0</th>\n",
       "      <td>1pzpaYrhdOo_13.mp4</td>\n",
       "      <td>1pzpaYrhdOo</td>\n",
       "      <td>1</td>\n",
       "      <td>stu1_0</td>\n",
       "      <td>22.0</td>\n",
       "      <td>13.0</td>\n",
       "      <td>stu1_0.mp4</td>\n",
       "    </tr>\n",
       "    <tr>\n",
       "      <th>1</th>\n",
       "      <td>1pzpaYrhdOo_93.mp4</td>\n",
       "      <td>1pzpaYrhdOo</td>\n",
       "      <td>4</td>\n",
       "      <td>stu4_0</td>\n",
       "      <td>105.0</td>\n",
       "      <td>93.0</td>\n",
       "      <td>stu4_0.mp4</td>\n",
       "    </tr>\n",
       "    <tr>\n",
       "      <th>2</th>\n",
       "      <td>7wDx6mZDxA8_0.mp4</td>\n",
       "      <td>7wDx6mZDxA8</td>\n",
       "      <td>3</td>\n",
       "      <td>stu3_0</td>\n",
       "      <td>12.0</td>\n",
       "      <td>0.0</td>\n",
       "      <td>stu3_0.mp4</td>\n",
       "    </tr>\n",
       "    <tr>\n",
       "      <th>3</th>\n",
       "      <td>DcRj7jtKhk4_52.mp4</td>\n",
       "      <td>DcRj7jtKhk4</td>\n",
       "      <td>10</td>\n",
       "      <td>stu10_0</td>\n",
       "      <td>62.0</td>\n",
       "      <td>52.0</td>\n",
       "      <td>stu10_0.mp4</td>\n",
       "    </tr>\n",
       "    <tr>\n",
       "      <th>4</th>\n",
       "      <td>FyGBSs1X1qM_105.mp4</td>\n",
       "      <td>FyGBSs1X1qM</td>\n",
       "      <td>3</td>\n",
       "      <td>stu3_1</td>\n",
       "      <td>114.0</td>\n",
       "      <td>105.0</td>\n",
       "      <td>stu3_1.mp4</td>\n",
       "    </tr>\n",
       "  </tbody>\n",
       "</table>\n",
       "</div>"
      ],
      "text/plain": [
       "                vid_st          vid  stuid   rename     et     st         name\n",
       "0   1pzpaYrhdOo_13.mp4  1pzpaYrhdOo      1   stu1_0   22.0   13.0   stu1_0.mp4\n",
       "1   1pzpaYrhdOo_93.mp4  1pzpaYrhdOo      4   stu4_0  105.0   93.0   stu4_0.mp4\n",
       "2    7wDx6mZDxA8_0.mp4  7wDx6mZDxA8      3   stu3_0   12.0    0.0   stu3_0.mp4\n",
       "3   DcRj7jtKhk4_52.mp4  DcRj7jtKhk4     10  stu10_0   62.0   52.0  stu10_0.mp4\n",
       "4  FyGBSs1X1qM_105.mp4  FyGBSs1X1qM      3   stu3_1  114.0  105.0   stu3_1.mp4"
      ]
     },
     "execution_count": 11,
     "metadata": {},
     "output_type": "execute_result"
    }
   ],
   "source": [
    "# add column 'name' to ori\n",
    "ori['name'] = ori['rename'].apply(lambda x: x+'.mp4')\n",
    "ori.drop(columns=['class'], inplace=True)\n",
    "ori[ori['et'].notna()].head()"
   ]
  },
  {
   "cell_type": "code",
   "execution_count": 12,
   "metadata": {},
   "outputs": [
    {
     "data": {
      "text/plain": [
       "'13 62 62 103 103 126 126 146 146 171 171 194 194 215 215 239 239 260 260 281'"
      ]
     },
     "execution_count": 12,
     "metadata": {},
     "output_type": "execute_result"
    }
   ],
   "source": [
    "# reps to one column\n",
    "\n",
    "train_df['reps'] = train_df.apply(lambda x: ' '.join([str(int(y)) for y in x.values[3:] if pd.notna(y)]), axis=1)\n",
    "val_df['reps'] = val_df.apply(lambda x: ' '.join([str(int(y)) for y in x.values[3:] if pd.notna(y)]), axis=1)\n",
    "test_df['reps'] = test_df.apply(lambda x: ' '.join([str(int(y)) for y in x.values[3:] if pd.notna(y)]), axis=1)\n",
    "\n",
    "train_df.drop(train_df.columns[3:-1], axis=1, inplace=True)\n",
    "val_df.drop(val_df.columns[3:-1], axis=1, inplace=True)\n",
    "test_df.drop(test_df.columns[3:-1], axis=1, inplace=True)\n",
    "\n",
    "# train_df.apply(lambda x: print(int(x['count']), x['reps']), axis=1)\n",
    "\n",
    "# train_df['reps'] = train_df.apply(lambda x: ' '.join([str(int(y)) for y in x['reps'] if y>=0]), axis=1)\n",
    "# val_df['reps'] = val_df.apply(lambda x: ' '.join([str(int(y)) for y in x['reps'] if y>=0]), axis=1)\n",
    "# test_df['reps'] = test_df.apply(lambda x: ' '.join([str(int(y)) for y in x['reps'] if y>=0 ]), axis=1)\n",
    "\n",
    "train_df.at[train_df.index[1], 'reps']"
   ]
  },
  {
   "cell_type": "code",
   "execution_count": 13,
   "metadata": {},
   "outputs": [],
   "source": [
    "# add YouTube ID and start time to annotation\n",
    "def func(name):\n",
    "    name = name.split('.')[0]\n",
    "    row = ori[ori['rename'] == name]\n",
    "    if len(row) == 0 or any(row['vid'].isna()):\n",
    "        return None\n",
    "    vid_st = row['vid_st'].values[0]\n",
    "\n",
    "    vid = vid_st[:11]\n",
    "    st = vid_st[12:-4]\n",
    "    return vid, int(st)\n",
    "\n",
    "train_df = train_df.merge(ori, how='left', on='name', suffixes=[None, None])\n",
    "val_df = val_df.merge(ori, how='left', on='name', suffixes=[None, None])\n",
    "test_df = test_df.merge(ori, how='left', on='name', suffixes=[None, None])"
   ]
  },
  {
   "cell_type": "code",
   "execution_count": 14,
   "metadata": {},
   "outputs": [
    {
     "name": "stdout",
     "output_type": "stream",
     "text": [
      "506 91 107\n"
     ]
    }
   ],
   "source": [
    "print(len(train_df[train_df['vid'].notna()]), len(val_df[val_df['vid'].notna()]), len(test_df[test_df['vid'].notna()]))"
   ]
  },
  {
   "cell_type": "markdown",
   "metadata": {},
   "source": [
    "## Fixing the data\n",
    "Many different names for the same thing.\n",
    "Fixing it."
   ]
  },
  {
   "cell_type": "code",
   "execution_count": 15,
   "metadata": {},
   "outputs": [],
   "source": [
    "pushups = train_df[train_df['type'] == 'pushups']\n",
    "pullups = train_df[train_df['type'] == 'pullups']\n",
    "push_up = train_df[train_df['type'] == 'push_up']\n",
    "pull_up = train_df[train_df['type'] == 'pull_up']\n",
    "\n",
    "# replace column pushups to push_up, pullups to pull_up, squant to squat, jumpjacks to jump_jack\n",
    "train_df['type'] = train_df['type'].replace(\n",
    "    ['pushups', 'pullups', 'squant', 'jumpjacks', 'benchpressing', 'frontraise'],\n",
    "    ['push_up', 'pull_up', 'squat', 'jump_jack', 'bench_pressing', 'front_raise'])\n",
    "\n",
    "# val and test too\n",
    "val_df['type'] = val_df['type'].replace(\n",
    "    ['pushups', 'pullups', 'squant', 'jumpjacks', 'benchpressing', 'frontraise'],\n",
    "    ['push_up', 'pull_up', 'squat', 'jump_jack', 'bench_pressing', 'front_raise'])\n",
    "\n",
    "test_df['type'] = test_df['type'].replace(\n",
    "    ['pushups', 'pullups', 'squant', 'jumpjacks', 'benchpressing', 'frontraise'],\n",
    "    ['push_up', 'pull_up', 'squat', 'jump_jack', 'bench_pressing', 'front_raise'])\n"
   ]
  },
  {
   "cell_type": "code",
   "execution_count": 16,
   "metadata": {},
   "outputs": [
    {
     "data": {
      "text/html": [
       "<div>\n",
       "<style scoped>\n",
       "    .dataframe tbody tr th:only-of-type {\n",
       "        vertical-align: middle;\n",
       "    }\n",
       "\n",
       "    .dataframe tbody tr th {\n",
       "        vertical-align: top;\n",
       "    }\n",
       "\n",
       "    .dataframe thead th {\n",
       "        text-align: right;\n",
       "    }\n",
       "</style>\n",
       "<table border=\"1\" class=\"dataframe\">\n",
       "  <thead>\n",
       "    <tr style=\"text-align: right;\">\n",
       "      <th></th>\n",
       "      <th>type</th>\n",
       "      <th>count_train</th>\n",
       "      <th>count_val</th>\n",
       "      <th>count_test</th>\n",
       "    </tr>\n",
       "  </thead>\n",
       "  <tbody>\n",
       "    <tr>\n",
       "      <th>9</th>\n",
       "      <td>squat</td>\n",
       "      <td>101</td>\n",
       "      <td>16</td>\n",
       "      <td>17</td>\n",
       "    </tr>\n",
       "    <tr>\n",
       "      <th>6</th>\n",
       "      <td>pull_up</td>\n",
       "      <td>94</td>\n",
       "      <td>14</td>\n",
       "      <td>19</td>\n",
       "    </tr>\n",
       "    <tr>\n",
       "      <th>8</th>\n",
       "      <td>situp</td>\n",
       "      <td>94</td>\n",
       "      <td>18</td>\n",
       "      <td>20</td>\n",
       "    </tr>\n",
       "    <tr>\n",
       "      <th>2</th>\n",
       "      <td>front_raise</td>\n",
       "      <td>93</td>\n",
       "      <td>19</td>\n",
       "      <td>18</td>\n",
       "    </tr>\n",
       "    <tr>\n",
       "      <th>1</th>\n",
       "      <td>bench_pressing</td>\n",
       "      <td>91</td>\n",
       "      <td>13</td>\n",
       "      <td>18</td>\n",
       "    </tr>\n",
       "    <tr>\n",
       "      <th>7</th>\n",
       "      <td>push_up</td>\n",
       "      <td>87</td>\n",
       "      <td>18</td>\n",
       "      <td>16</td>\n",
       "    </tr>\n",
       "    <tr>\n",
       "      <th>3</th>\n",
       "      <td>jump_jack</td>\n",
       "      <td>76</td>\n",
       "      <td>15</td>\n",
       "      <td>26</td>\n",
       "    </tr>\n",
       "    <tr>\n",
       "      <th>5</th>\n",
       "      <td>pommelhorse</td>\n",
       "      <td>69</td>\n",
       "      <td>15</td>\n",
       "      <td>15</td>\n",
       "    </tr>\n",
       "    <tr>\n",
       "      <th>4</th>\n",
       "      <td>others</td>\n",
       "      <td>37</td>\n",
       "      <td>0</td>\n",
       "      <td>1</td>\n",
       "    </tr>\n",
       "    <tr>\n",
       "      <th>0</th>\n",
       "      <td>battle_rope</td>\n",
       "      <td>13</td>\n",
       "      <td>3</td>\n",
       "      <td>0</td>\n",
       "    </tr>\n",
       "  </tbody>\n",
       "</table>\n",
       "</div>"
      ],
      "text/plain": [
       "             type  count_train  count_val  count_test\n",
       "9           squat          101         16          17\n",
       "6         pull_up           94         14          19\n",
       "8           situp           94         18          20\n",
       "2     front_raise           93         19          18\n",
       "1  bench_pressing           91         13          18\n",
       "7         push_up           87         18          16\n",
       "3       jump_jack           76         15          26\n",
       "5     pommelhorse           69         15          15\n",
       "4          others           37          0           1\n",
       "0     battle_rope           13          3           0"
      ]
     },
     "execution_count": 16,
     "metadata": {},
     "output_type": "execute_result"
    }
   ],
   "source": [
    "classes = train_df['type'].unique()\n",
    "df1 = train_df.groupby('type').count()\n",
    "df1 = df1[['count']].rename(columns={'count': 'count_train'})\n",
    "\n",
    "df2 = val_df.groupby('type').count()\n",
    "df2 = df2[['count']].rename(columns={'count': 'count_val'})\n",
    "\n",
    "df3 = test_df.groupby('type').count()\n",
    "df3 = df3[['count']].rename(columns={'count': 'count_test'})\n",
    "\n",
    "# show df1 df2 df3 in one table\n",
    "df = pd.concat([df1, df2, df3], axis=1)\n",
    "df.index.name = 'type'\n",
    "df.fillna(0, inplace=True)\n",
    "df = df.astype(int)\n",
    "df = df.reset_index()\n",
    "df.sort_values('count_train', ascending=False)"
   ]
  },
  {
   "cell_type": "markdown",
   "metadata": {},
   "source": [
    "### Save all to new csv\n",
    "\n",
    "Remove ['battle_rope', 'others', 'pommelhorse']"
   ]
  },
  {
   "cell_type": "code",
   "execution_count": 17,
   "metadata": {},
   "outputs": [],
   "source": [
    "train_df['split'] = 'train'\n",
    "val_df['split'] = 'val'\n",
    "test_df['split'] = 'test'\n",
    "all_df = pd.concat([train_df, val_df, test_df], axis=0)\n",
    "all_df.reset_index(inplace=True) # Important!"
   ]
  },
  {
   "cell_type": "code",
   "execution_count": 18,
   "metadata": {},
   "outputs": [
    {
     "data": {
      "text/html": [
       "<div>\n",
       "<style scoped>\n",
       "    .dataframe tbody tr th:only-of-type {\n",
       "        vertical-align: middle;\n",
       "    }\n",
       "\n",
       "    .dataframe tbody tr th {\n",
       "        vertical-align: top;\n",
       "    }\n",
       "\n",
       "    .dataframe thead th {\n",
       "        text-align: right;\n",
       "    }\n",
       "</style>\n",
       "<table border=\"1\" class=\"dataframe\">\n",
       "  <thead>\n",
       "    <tr style=\"text-align: right;\">\n",
       "      <th></th>\n",
       "      <th>class_</th>\n",
       "      <th>split</th>\n",
       "      <th>name</th>\n",
       "      <th>vid</th>\n",
       "      <th>start</th>\n",
       "      <th>end</th>\n",
       "      <th>count</th>\n",
       "      <th>reps</th>\n",
       "    </tr>\n",
       "  </thead>\n",
       "  <tbody>\n",
       "    <tr>\n",
       "      <th>0</th>\n",
       "      <td>front_raise</td>\n",
       "      <td>train</td>\n",
       "      <td>train951.mp4</td>\n",
       "      <td>NaN</td>\n",
       "      <td>NaN</td>\n",
       "      <td>NaN</td>\n",
       "      <td>4.0</td>\n",
       "      <td>6 72 72 132 132 204 204 271</td>\n",
       "    </tr>\n",
       "    <tr>\n",
       "      <th>1</th>\n",
       "      <td>front_raise</td>\n",
       "      <td>train</td>\n",
       "      <td>train952.mp4</td>\n",
       "      <td>NaN</td>\n",
       "      <td>NaN</td>\n",
       "      <td>NaN</td>\n",
       "      <td>10.0</td>\n",
       "      <td>13 62 62 103 103 126 126 146 146 171 171 194 1...</td>\n",
       "    </tr>\n",
       "    <tr>\n",
       "      <th>2</th>\n",
       "      <td>pull_up</td>\n",
       "      <td>train</td>\n",
       "      <td>test1463.mp4</td>\n",
       "      <td>NaN</td>\n",
       "      <td>NaN</td>\n",
       "      <td>NaN</td>\n",
       "      <td>7.0</td>\n",
       "      <td>21 60 60 98 98 132 132 172 172 210 210 246 246...</td>\n",
       "    </tr>\n",
       "    <tr>\n",
       "      <th>3</th>\n",
       "      <td>squat</td>\n",
       "      <td>train</td>\n",
       "      <td>test2340.mp4</td>\n",
       "      <td>NaN</td>\n",
       "      <td>NaN</td>\n",
       "      <td>NaN</td>\n",
       "      <td>4.0</td>\n",
       "      <td>0 86 86 155 155 218 219 285</td>\n",
       "    </tr>\n",
       "    <tr>\n",
       "      <th>4</th>\n",
       "      <td>front_raise</td>\n",
       "      <td>train</td>\n",
       "      <td>stu5_11.mp4</td>\n",
       "      <td>0_b43RbenY8</td>\n",
       "      <td>34.0</td>\n",
       "      <td>70.0</td>\n",
       "      <td>6.0</td>\n",
       "      <td>104 179 179 255 255 330 426 501 703 789 790 853</td>\n",
       "    </tr>\n",
       "    <tr>\n",
       "      <th>...</th>\n",
       "      <td>...</td>\n",
       "      <td>...</td>\n",
       "      <td>...</td>\n",
       "      <td>...</td>\n",
       "      <td>...</td>\n",
       "      <td>...</td>\n",
       "      <td>...</td>\n",
       "      <td>...</td>\n",
       "    </tr>\n",
       "    <tr>\n",
       "      <th>648</th>\n",
       "      <td>push_up</td>\n",
       "      <td>train</td>\n",
       "      <td>stu1_44.mp4</td>\n",
       "      <td>3Gz_k31lazA</td>\n",
       "      <td>85.0</td>\n",
       "      <td>115.0</td>\n",
       "      <td>6.0</td>\n",
       "      <td>172 236 236 303 303 396 396 478 478 557 557 638</td>\n",
       "    </tr>\n",
       "    <tr>\n",
       "      <th>649</th>\n",
       "      <td>squat</td>\n",
       "      <td>train</td>\n",
       "      <td>stu9_66.mp4</td>\n",
       "      <td>Eir-KRad0zw</td>\n",
       "      <td>120.0</td>\n",
       "      <td>180.0</td>\n",
       "      <td>35.0</td>\n",
       "      <td>9 55 55 103 103 150 150 197 197 248 248 297 29...</td>\n",
       "    </tr>\n",
       "    <tr>\n",
       "      <th>650</th>\n",
       "      <td>squat</td>\n",
       "      <td>train</td>\n",
       "      <td>train3912.mp4</td>\n",
       "      <td>NaN</td>\n",
       "      <td>NaN</td>\n",
       "      <td>NaN</td>\n",
       "      <td>4.0</td>\n",
       "      <td>5 87 87 137 137 202 203 249</td>\n",
       "    </tr>\n",
       "    <tr>\n",
       "      <th>651</th>\n",
       "      <td>push_up</td>\n",
       "      <td>train</td>\n",
       "      <td>stu6_40.mp4</td>\n",
       "      <td>h5gWnuYEceY</td>\n",
       "      <td>32.0</td>\n",
       "      <td>85.0</td>\n",
       "      <td>8.0</td>\n",
       "      <td>59 151 155 262 265 364 364 463 891 978 981 108...</td>\n",
       "    </tr>\n",
       "    <tr>\n",
       "      <th>652</th>\n",
       "      <td>squat</td>\n",
       "      <td>train</td>\n",
       "      <td>test2298.mp4</td>\n",
       "      <td>NaN</td>\n",
       "      <td>NaN</td>\n",
       "      <td>NaN</td>\n",
       "      <td>2.0</td>\n",
       "      <td>22 94 149 220</td>\n",
       "    </tr>\n",
       "  </tbody>\n",
       "</table>\n",
       "<p>636 rows × 8 columns</p>\n",
       "</div>"
      ],
      "text/plain": [
       "          class_  split           name          vid  start    end  count  \\\n",
       "0    front_raise  train   train951.mp4          NaN    NaN    NaN    4.0   \n",
       "1    front_raise  train   train952.mp4          NaN    NaN    NaN   10.0   \n",
       "2        pull_up  train   test1463.mp4          NaN    NaN    NaN    7.0   \n",
       "3          squat  train   test2340.mp4          NaN    NaN    NaN    4.0   \n",
       "4    front_raise  train    stu5_11.mp4  0_b43RbenY8   34.0   70.0    6.0   \n",
       "..           ...    ...            ...          ...    ...    ...    ...   \n",
       "648      push_up  train    stu1_44.mp4  3Gz_k31lazA   85.0  115.0    6.0   \n",
       "649        squat  train    stu9_66.mp4  Eir-KRad0zw  120.0  180.0   35.0   \n",
       "650        squat  train  train3912.mp4          NaN    NaN    NaN    4.0   \n",
       "651      push_up  train    stu6_40.mp4  h5gWnuYEceY   32.0   85.0    8.0   \n",
       "652        squat  train   test2298.mp4          NaN    NaN    NaN    2.0   \n",
       "\n",
       "                                                  reps  \n",
       "0                          6 72 72 132 132 204 204 271  \n",
       "1    13 62 62 103 103 126 126 146 146 171 171 194 1...  \n",
       "2    21 60 60 98 98 132 132 172 172 210 210 246 246...  \n",
       "3                          0 86 86 155 155 218 219 285  \n",
       "4      104 179 179 255 255 330 426 501 703 789 790 853  \n",
       "..                                                 ...  \n",
       "648    172 236 236 303 303 396 396 478 478 557 557 638  \n",
       "649  9 55 55 103 103 150 150 197 197 248 248 297 29...  \n",
       "650                        5 87 87 137 137 202 203 249  \n",
       "651  59 151 155 262 265 364 364 463 891 978 981 108...  \n",
       "652                                      22 94 149 220  \n",
       "\n",
       "[636 rows x 8 columns]"
      ]
     },
     "execution_count": 18,
     "metadata": {},
     "output_type": "execute_result"
    }
   ],
   "source": [
    "# drop types battle_rope, others, pommelhorse\n",
    "to_drop = all_df[all_df['type'].isin(['battle_rope', 'others', 'pommelhorse'])].index\n",
    "all_df.drop(to_drop, inplace=True)\n",
    "all_df.rename(columns={'type': 'class_', 'st': 'start', 'et': 'end'}, inplace=True)\n",
    "# reorder columns\n",
    "keep_cols = ['class_', 'split', 'name', 'vid', 'start', 'end', 'count', 'reps']\n",
    "\n",
    "all_df = all_df[keep_cols]\n",
    "\n",
    "all_df[all_df['split']=='train']"
   ]
  },
  {
   "cell_type": "code",
   "execution_count": 19,
   "metadata": {},
   "outputs": [
    {
     "name": "stdout",
     "output_type": "stream",
     "text": [
      "val 113\n",
      "test 134\n"
     ]
    }
   ],
   "source": [
    "print('val', len(all_df[all_df['split']=='val']))\n",
    "print('test', len(all_df[all_df['split']=='test']))"
   ]
  },
  {
   "cell_type": "code",
   "execution_count": 20,
   "metadata": {},
   "outputs": [
    {
     "name": "stdout",
     "output_type": "stream",
     "text": [
      "883\n",
      "       class_ split         name          vid  start    end  count  \\\n",
      "1020  pull_up  test  stu1_36.mp4  ok0F_-opRFo  104.0  140.0    9.0   \n",
      "\n",
      "                                                   reps  \n",
      "1020  52 109 109 165 165 245 245 315 840 880 880 935...  \n"
     ]
    }
   ],
   "source": [
    "all_df.to_csv(Path(base, 'annotation.csv'), index=False)\n",
    "print(len(all_df))\n",
    "print(all_df.tail(1))"
   ]
  },
  {
   "cell_type": "code",
   "execution_count": 21,
   "metadata": {},
   "outputs": [
    {
     "name": "stdout",
     "output_type": "stream",
     "text": [
      "883\n"
     ]
    }
   ],
   "source": [
    "load_df = pd.read_csv(Path(base, 'annotation.csv'))\n",
    "print(len(load_df))"
   ]
  },
  {
   "cell_type": "code",
   "execution_count": 22,
   "metadata": {},
   "outputs": [
    {
     "data": {
      "text/plain": [
       "0        True\n",
       "1        True\n",
       "2        True\n",
       "3        True\n",
       "4        True\n",
       "        ...  \n",
       "1016    False\n",
       "1017    False\n",
       "1018    False\n",
       "1019    False\n",
       "1020    False\n",
       "Name: split, Length: 883, dtype: bool"
      ]
     },
     "execution_count": 22,
     "metadata": {},
     "output_type": "execute_result"
    }
   ],
   "source": [
    "all_df['split'] == 'train'"
   ]
  },
  {
   "cell_type": "markdown",
   "metadata": {},
   "source": [
    "## Add FPS column"
   ]
  },
  {
   "cell_type": "code",
   "execution_count": 24,
   "metadata": {},
   "outputs": [
    {
     "name": "stdout",
     "output_type": "stream",
     "text": [
      "        class_  split          name  vid  start  end  count  \\\n",
      "0  front_raise  train  train951.mp4  NaN    NaN  NaN    4.0   \n",
      "\n",
      "                          reps   fps  \n",
      "0  6 72 72 132 132 204 204 271  30.0  \n"
     ]
    }
   ],
   "source": [
    "from torchvision.io import VideoReader\n",
    "\n",
    "data_root = os.path.expanduser('~/data/RepCount/videos')\n",
    "fps_dict = {}\n",
    "for row in all_df.itertuples():\n",
    "    path = os.path.join(data_root,row.split, row.name)\n",
    "    vid = VideoReader(path)\n",
    "    meta = vid.get_metadata()\n",
    "    fps = meta['video']['fps'][0]\n",
    "    fps_dict[row.name] = fps\n",
    "\n",
    "all_df['fps'] = all_df['name'].apply(lambda x: fps_dict[x])\n",
    "all_df.to_csv(Path(base, 'annotation.csv'))\n",
    "\n",
    "print(all_df.head(1))"
   ]
  }
 ],
 "metadata": {
  "interpreter": {
   "hash": "9ac44e3a5a0596b514731e2f84c219b304de7b3485523626a2f8b154e2423b93"
  },
  "kernelspec": {
   "display_name": "Python 3.8.13 ('mmlab')",
   "language": "python",
   "name": "python3"
  },
  "language_info": {
   "codemirror_mode": {
    "name": "ipython",
    "version": 3
   },
   "file_extension": ".py",
   "mimetype": "text/x-python",
   "name": "python",
   "nbconvert_exporter": "python",
   "pygments_lexer": "ipython3",
   "version": "3.8.13"
  },
  "orig_nbformat": 4
 },
 "nbformat": 4,
 "nbformat_minor": 2
}
