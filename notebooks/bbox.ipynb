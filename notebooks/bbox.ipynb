{
 "cells": [
  {
   "cell_type": "code",
   "execution_count": 1,
   "metadata": {},
   "outputs": [
    {
     "name": "stderr",
     "output_type": "stream",
     "text": [
      "/home/user/.local/lib/python3.8/site-packages/tqdm/auto.py:22: TqdmWarning: IProgress not found. Please update jupyter and ipywidgets. See https://ipywidgets.readthedocs.io/en/stable/user_install.html\n",
      "  from .autonotebook import tqdm as notebook_tqdm\n"
     ]
    }
   ],
   "source": [
    "import torch\n",
    "import torch.nn as nn\n",
    "from torchvision.io import read_image, read_video\n",
    "import torchvision.transforms as T\n",
    "from workoutdetector.datasets import build_dataset\n",
    "from fvcore.common.config import CfgNode\n",
    "import yaml"
   ]
  },
  {
   "cell_type": "code",
   "execution_count": 2,
   "metadata": {},
   "outputs": [
    {
     "name": "stdout",
     "output_type": "stream",
     "text": [
      "anno_col: 4\n",
      "batch_size: 4\n",
      "data_root: /home/user/data\n",
      "dataset_type: FrameDataset\n",
      "filename_tmpl: img_{:05}.jpg\n",
      "num_segments: 8\n",
      "num_workers: 8\n",
      "test:\n",
      "  anno: /home/user/data/Binary/all-test.txt\n",
      "  data_prefix: None\n",
      "  transform:\n",
      "    person_crop: False\n",
      "train:\n",
      "  anno: /home/user/data/Binary/all-train.txt\n",
      "  data_prefix: None\n",
      "  transform:\n",
      "    person_crop: False\n",
      "val:\n",
      "  anno: /home/user/data/Binary/all-val.txt\n",
      "  data_prefix: None\n",
      "  transform:\n",
      "    person_crop: False\n"
     ]
    }
   ],
   "source": [
    "cfg = CfgNode(init_dict=yaml.safe_load(open('../workoutdetector/configs/defaults.yaml')))\n",
<<<<<<< Updated upstream
<<<<<<< Updated upstream
=======
=======
>>>>>>> Stashed changes
    "cfg.data.data_root = '/home/user/data'\n",
    "cfg.data.train.anno = '/home/user/data/Binary/all-train.txt'\n",
    "cfg.data.test.anno = '/home/user/data/Binary/all-test.txt'\n",
    "cfg.data.val.anno = '/home/user/data/Binary/all-val.txt'\n",
    "\n",
<<<<<<< Updated upstream
>>>>>>> Stashed changes
=======
>>>>>>> Stashed changes
    "print(cfg.data)"
   ]
  },
  {
   "cell_type": "code",
   "execution_count": 3,
   "metadata": {},
   "outputs": [],
   "source": [
<<<<<<< Updated upstream
<<<<<<< Updated upstream
    "cfg.data.val.transform.person_crop = True"
=======
    "cfg.data.val.transform.person_crop = True\n",
    "cfg.data.test.transform.person_crop = True"
>>>>>>> Stashed changes
=======
    "cfg.data.val.transform.person_crop = True\n",
    "cfg.data.test.transform.person_crop = True"
>>>>>>> Stashed changes
   ]
  },
  {
   "cell_type": "code",
   "execution_count": 4,
   "metadata": {},
   "outputs": [],
   "source": [
    "dataset = build_dataset(cfg.data, 'val')"
   ]
  },
  {
   "cell_type": "code",
   "execution_count": 5,
   "metadata": {},
   "outputs": [
    {
<<<<<<< Updated upstream
<<<<<<< Updated upstream
     "name": "stderr",
     "output_type": "stream",
     "text": [
      "/usr/local/lib/python3.8/dist-packages/torch/functional.py:445: UserWarning: torch.meshgrid: in an upcoming release, it will be required to pass the indexing argument. (Triggered internally at  ../aten/src/ATen/native/TensorShape.cpp:2157.)\n",
      "  return _VF.meshgrid(tensors, **kwargs)  # type: ignore[attr-defined]\n"
     ]
    },
    {
     "name": "stdout",
     "output_type": "stream",
     "text": [
      "torch.Size([8, 3, 224, 224]) 6\n"
=======
=======
>>>>>>> Stashed changes
     "name": "stdout",
     "output_type": "stream",
     "text": [
      "torch.Size([8, 3, 224, 224]) 6\n"
     ]
    },
    {
     "name": "stderr",
     "output_type": "stream",
     "text": [
      "/usr/local/lib/python3.8/dist-packages/torch/functional.py:445: UserWarning: torch.meshgrid: in an upcoming release, it will be required to pass the indexing argument. (Triggered internally at  ../aten/src/ATen/native/TensorShape.cpp:2157.)\n",
      "  return _VF.meshgrid(tensors, **kwargs)  # type: ignore[attr-defined]\n"
<<<<<<< Updated upstream
>>>>>>> Stashed changes
=======
>>>>>>> Stashed changes
     ]
    }
   ],
   "source": [
    "x, y = dataset[0]\n",
    "print(x.shape, y)"
   ]
  },
  {
   "cell_type": "code",
<<<<<<< Updated upstream
<<<<<<< Updated upstream
   "execution_count": null,
   "metadata": {},
   "outputs": [],
   "source": [
    "import onnx\n",
    "import onnxruntime\n",
    "import numpy as np"
   ]
  },
  {
   "cell_type": "code",
   "execution_count": null,
   "metadata": {},
   "outputs": [],
   "source": [
    "checkpoint = '../checkpoints/repcount-12/rep_12_20220705_220720.onnx'\n",
    "model = onnx.load(checkpoint)\n",
    "ort_session = onnxruntime.InferenceSession(checkpoint)\n",
    "input_name = ort_session.get_inputs()[0].name"
=======
=======
>>>>>>> Stashed changes
   "execution_count": 6,
   "metadata": {},
   "outputs": [
    {
     "name": "stderr",
     "output_type": "stream",
     "text": [
      "/home/user/.local/lib/python3.8/site-packages/scipy/__init__.py:146: UserWarning: A NumPy version >=1.16.5 and <1.23.0 is required for this version of SciPy (detected version 1.23.0\n",
      "  warnings.warn(f\"A NumPy version >={np_minversion} and <{np_maxversion}\"\n"
     ]
    }
   ],
   "source": [
    "import onnx\n",
    "import onnxruntime\n",
    "import numpy as np\n",
    "from workoutdetector.utils.inference_count import inference_dataset"
<<<<<<< Updated upstream
>>>>>>> Stashed changes
=======
>>>>>>> Stashed changes
   ]
  }
 ],
 "metadata": {
  "kernelspec": {
   "display_name": "Python 3.8.10 64-bit",
   "language": "python",
   "name": "python3"
  },
  "language_info": {
   "codemirror_mode": {
    "name": "ipython",
    "version": 3
   },
   "file_extension": ".py",
   "mimetype": "text/x-python",
   "name": "python",
   "nbconvert_exporter": "python",
   "pygments_lexer": "ipython3",
   "version": "3.8.10"
  },
  "orig_nbformat": 4,
  "vscode": {
   "interpreter": {
    "hash": "916dbcbb3f70747c44a77c7bcd40155683ae19c65e1c03b4aa3499c5328201f1"
   }
  }
 },
 "nbformat": 4,
 "nbformat_minor": 2
}
