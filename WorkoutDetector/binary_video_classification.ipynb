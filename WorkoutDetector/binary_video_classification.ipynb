{
 "cells": [
  {
   "cell_type": "code",
   "execution_count": 1,
   "metadata": {},
   "outputs": [
    {
     "name": "stdout",
     "output_type": "stream",
     "text": [
      "1.11.0+cu113 True\n",
      "0.24.0\n",
      "11.3\n",
      "GCC 7.3\n"
     ]
    }
   ],
   "source": [
    "# Check Pytorch installation\n",
    "import torch, torchvision\n",
    "print(torch.__version__, torch.cuda.is_available())\n",
    "\n",
    "# Check MMAction2 installation\n",
    "import mmaction\n",
    "print(mmaction.__version__)\n",
    "\n",
    "# Check MMCV installation\n",
    "from mmcv.ops import get_compiling_cuda_version, get_compiler_version\n",
    "print(get_compiling_cuda_version())\n",
    "print(get_compiler_version())\n",
    "\n",
    "import warnings\n",
    "warnings.filterwarnings('ignore')\n",
    "import time\n",
    "from tqdm.auto import tqdm"
   ]
  },
  {
   "cell_type": "markdown",
   "metadata": {},
   "source": [
    "### Config"
   ]
  },
  {
   "cell_type": "code",
   "execution_count": 2,
   "metadata": {},
   "outputs": [],
   "source": [
    "config = '../mmaction2/configs/recognition/tsm/tsm_my_config.py'\n",
    "checkpoint = 'https://download.openmmlab.com/mmaction/recognition/tsm/tsm_r50_1x1x8_50e_sthv2_rgb/tsm_r50_256h_1x1x8_50e_sthv2_rgb_20210816-032aa4da.pth'\n",
    "\n",
    "# config = '../mmaction2/configs/recognition/timesformer/timesformer_divST_8x32x1_15e_kinetics400_rgb.py'\n",
    "# checkpoint = 'https://download.openmmlab.com/mmaction/recognition/timesformer/timesformer_divST_8x32x1_15e_kinetics400_rgb/timesformer_divST_8x32x1_15e_kinetics400_rgb-3f8e5d03.pth'\n"
   ]
  },
  {
   "cell_type": "code",
   "execution_count": 11,
   "metadata": {},
   "outputs": [],
   "source": [
    "from mmcv import Config\n",
    "import os.path as osp\n",
    "cfg = Config.fromfile(config)\n",
    "\n",
    "from mmcv.runner import set_random_seed\n",
    "DATASET = '/home/umi/projects/WorkoutDetector/data/Binary/'\n",
    "\n",
    "# Modify dataset type and path\n",
    "cfg.dataset_type = 'RawframeDataset'\n",
    "cfg.data_root = DATASET\n",
    "cfg.data_root_val = DATASET\n",
    "cfg.ann_file_train = DATASET +'squat-train.txt'\n",
    "cfg.ann_file_val = DATASET +'squat-val.txt'\n",
    "cfg.ann_file_test = DATASET +'squat-test.txt'\n",
    "\n",
    "cfg.data.test.ann_file = cfg.ann_file_test\n",
    "cfg.data.test.data_prefix = DATASET\n",
    "\n",
    "cfg.data.train.ann_file = cfg.ann_file_train\n",
    "cfg.data.train.data_prefix = cfg.data_root\n",
    "\n",
    "cfg.data.val.ann_file = cfg.ann_file_val\n",
    "cfg.data.val.data_prefix = cfg.data_root_val\n",
    "\n",
    "cfg.setdefault('omnisource', False)\n",
    "\n",
    "cfg.model.cls_head.num_classes = 2\n",
    "\n",
    "# The original learning rate (LR) is set for 8-GPU training.\n",
    "# We divide it by 8 since we only use one GPU.\n",
    "cfg.data.videos_per_gpu =  max(1, cfg.data.videos_per_gpu // 8)\n",
    "cfg.optimizer.lr = cfg.optimizer.lr / 8 / 16\n",
    "cfg.total_epochs = 30\n",
    "cfg.load_from = checkpoint\n",
    "cfg.checkpoint_config.interval = 5\n",
    "\n",
    "cfg.seed = 0\n",
    "set_random_seed(0, deterministic=False)\n",
    "cfg.gpu_ids = range(1)\n",
    "\n",
    "# Save the best\n",
    "cfg.evaluation.save_best='auto'\n",
    "\n",
    "cfg.log_config = dict(\n",
    "    interval=50,\n",
    "    hooks=[\n",
    "        # dict(type='TextLoggerHook'),\n",
    "        dict(type='TensorboardLoggerHook'),\n",
    "        dict(type='WandbLoggerHook', init_kwargs=dict(project='Binary-squat', \n",
    "                                                      config={**cfg})),\n",
    "])\n",
    "cfg.work_dir = './work_dirs/tsm_8_binary_squat_20220607_1956'\n",
    "cfg.resume_from = osp.join(cfg.work_dir, 'latest.pth')\n",
    "\n",
    "# print(cfg.pretty_text)\n"
   ]
  },
  {
   "cell_type": "markdown",
   "metadata": {},
   "source": [
    "### Train a new recognizer"
   ]
  },
  {
   "cell_type": "code",
   "execution_count": 12,
   "metadata": {},
   "outputs": [
    {
     "name": "stderr",
     "output_type": "stream",
     "text": [
      "2022-06-07 20:31:25,622 - mmaction - INFO - These parameters in pretrained checkpoint are not loaded: {'fc.bias', 'fc.weight'}\n",
      "2022-06-07 20:31:25,719 - mmaction - INFO - load checkpoint from local path: ./work_dirs/tsm_8_binary_squat_20220607_1956/latest.pth\n"
     ]
    },
    {
     "name": "stdout",
     "output_type": "stream",
     "text": [
      "load checkpoint from torchvision path: torchvision://resnet50\n"
     ]
    },
    {
     "name": "stderr",
     "output_type": "stream",
     "text": [
      "2022-06-07 20:31:25,996 - mmaction - INFO - resumed epoch 10, iter 22180\n",
      "2022-06-07 20:31:25,997 - mmaction - INFO - Start running, host: umi@Machine, work_dir: /home/umi/projects/WorkoutDetector/WorkoutDetector/work_dirs/tsm_8_binary_squat_20220607_1956\n",
      "2022-06-07 20:31:25,997 - mmaction - INFO - Hooks will be executed in the following order:\n",
      "before_run:\n",
      "(VERY_HIGH   ) StepLrUpdaterHook                  \n",
      "(NORMAL      ) CheckpointHook                     \n",
      "(LOW         ) EvalHook                           \n",
      "(VERY_LOW    ) TensorboardLoggerHook              \n",
      "(VERY_LOW    ) WandbLoggerHook                    \n",
      " -------------------- \n",
      "before_train_epoch:\n",
      "(VERY_HIGH   ) StepLrUpdaterHook                  \n",
      "(LOW         ) IterTimerHook                      \n",
      "(LOW         ) EvalHook                           \n",
      "(VERY_LOW    ) TensorboardLoggerHook              \n",
      "(VERY_LOW    ) WandbLoggerHook                    \n",
      " -------------------- \n",
      "before_train_iter:\n",
      "(VERY_HIGH   ) StepLrUpdaterHook                  \n",
      "(LOW         ) IterTimerHook                      \n",
      "(LOW         ) EvalHook                           \n",
      " -------------------- \n",
      "after_train_iter:\n",
      "(ABOVE_NORMAL) OptimizerHook                      \n",
      "(NORMAL      ) CheckpointHook                     \n",
      "(LOW         ) IterTimerHook                      \n",
      "(LOW         ) EvalHook                           \n",
      "(VERY_LOW    ) TensorboardLoggerHook              \n",
      "(VERY_LOW    ) WandbLoggerHook                    \n",
      " -------------------- \n",
      "after_train_epoch:\n",
      "(NORMAL      ) CheckpointHook                     \n",
      "(LOW         ) EvalHook                           \n",
      "(VERY_LOW    ) TensorboardLoggerHook              \n",
      "(VERY_LOW    ) WandbLoggerHook                    \n",
      " -------------------- \n",
      "before_val_epoch:\n",
      "(LOW         ) IterTimerHook                      \n",
      "(VERY_LOW    ) TensorboardLoggerHook              \n",
      "(VERY_LOW    ) WandbLoggerHook                    \n",
      " -------------------- \n",
      "before_val_iter:\n",
      "(LOW         ) IterTimerHook                      \n",
      " -------------------- \n",
      "after_val_iter:\n",
      "(LOW         ) IterTimerHook                      \n",
      " -------------------- \n",
      "after_val_epoch:\n",
      "(VERY_LOW    ) TensorboardLoggerHook              \n",
      "(VERY_LOW    ) WandbLoggerHook                    \n",
      " -------------------- \n",
      "after_run:\n",
      "(VERY_LOW    ) TensorboardLoggerHook              \n",
      "(VERY_LOW    ) WandbLoggerHook                    \n",
      " -------------------- \n",
      "2022-06-07 20:31:25,998 - mmaction - INFO - workflow: [('train', 1)], max: 30 epochs\n",
      "2022-06-07 20:31:25,998 - mmaction - INFO - Checkpoints will be saved to /home/umi/projects/WorkoutDetector/WorkoutDetector/work_dirs/tsm_8_binary_squat_20220607_1956 by HardDiskBackend.\n"
     ]
    },
    {
     "data": {
      "text/html": [
       "wandb version 0.12.17 is available!  To upgrade, please run:\n",
       " $ pip install wandb --upgrade"
      ],
      "text/plain": [
       "<IPython.core.display.HTML object>"
      ]
     },
     "metadata": {},
     "output_type": "display_data"
    },
    {
     "data": {
      "text/html": [
       "Tracking run with wandb version 0.12.16"
      ],
      "text/plain": [
       "<IPython.core.display.HTML object>"
      ]
     },
     "metadata": {},
     "output_type": "display_data"
    },
    {
     "data": {
      "text/html": [
       "Run data is saved locally in <code>/home/umi/projects/WorkoutDetector/WorkoutDetector/wandb/run-20220607_203126-2xmaf015</code>"
      ],
      "text/plain": [
       "<IPython.core.display.HTML object>"
      ]
     },
     "metadata": {},
     "output_type": "display_data"
    },
    {
     "data": {
      "text/html": [
       "Syncing run <strong><a href=\"https://wandb.ai/gundam/Binary-squat/runs/2xmaf015\" target=\"_blank\">azure-terrain-2</a></strong> to <a href=\"https://wandb.ai/gundam/Binary-squat\" target=\"_blank\">Weights & Biases</a> (<a href=\"https://wandb.me/run\" target=\"_blank\">docs</a>)<br/>"
      ],
      "text/plain": [
       "<IPython.core.display.HTML object>"
      ]
     },
     "metadata": {},
     "output_type": "display_data"
    },
    {
     "name": "stdout",
     "output_type": "stream",
     "text": [
      "[>>>>>>>>>>>>>>>>>>>>>>>>>>>>>] 422/422, 34.6 task/s, elapsed: 12s, ETA:     0s"
     ]
    },
    {
     "name": "stderr",
     "output_type": "stream",
     "text": [
      "2022-06-07 20:34:01,089 - mmaction - INFO - Evaluating top_k_accuracy ...\n",
      "2022-06-07 20:34:01,090 - mmaction - INFO - \n",
      "top1_acc\t0.9763\n",
      "2022-06-07 20:34:01,090 - mmaction - INFO - Evaluating mean_class_accuracy ...\n",
      "2022-06-07 20:34:01,091 - mmaction - INFO - \n",
      "mean_acc\t0.9763\n"
     ]
    },
    {
     "name": "stdout",
     "output_type": "stream",
     "text": [
      "[>>>>>>>>>>>>>>>>>>>>>>>>>>>>>] 422/422, 34.6 task/s, elapsed: 12s, ETA:     0s"
     ]
    },
    {
     "name": "stderr",
     "output_type": "stream",
     "text": [
      "2022-06-07 20:36:25,297 - mmaction - INFO - Evaluating top_k_accuracy ...\n",
      "2022-06-07 20:36:25,298 - mmaction - INFO - \n",
      "top1_acc\t0.9739\n",
      "2022-06-07 20:36:25,298 - mmaction - INFO - Evaluating mean_class_accuracy ...\n",
      "2022-06-07 20:36:25,299 - mmaction - INFO - \n",
      "mean_acc\t0.9739\n"
     ]
    },
    {
     "name": "stdout",
     "output_type": "stream",
     "text": [
      "[>>>>>>>>>>>>>>>>>>>>>>>>>>>>>] 422/422, 35.2 task/s, elapsed: 12s, ETA:     0s"
     ]
    },
    {
     "name": "stderr",
     "output_type": "stream",
     "text": [
      "2022-06-07 20:38:50,540 - mmaction - INFO - Evaluating top_k_accuracy ...\n",
      "2022-06-07 20:38:50,541 - mmaction - INFO - \n",
      "top1_acc\t0.9834\n",
      "2022-06-07 20:38:50,542 - mmaction - INFO - Evaluating mean_class_accuracy ...\n",
      "2022-06-07 20:38:50,543 - mmaction - INFO - \n",
      "mean_acc\t0.9834\n",
      "2022-06-07 20:38:50,551 - mmaction - INFO - The previous best checkpoint /home/umi/projects/WorkoutDetector/WorkoutDetector/work_dirs/tsm_8_binary_squat_20220607_1956/best_top1_acc_epoch_7.pth was removed\n",
      "2022-06-07 20:38:50,842 - mmaction - INFO - Now best checkpoint is saved as best_top1_acc_epoch_13.pth.\n",
      "2022-06-07 20:38:50,842 - mmaction - INFO - Best top1_acc is 0.9834 at 13 epoch.\n"
     ]
    },
    {
     "name": "stdout",
     "output_type": "stream",
     "text": [
      "[>>>>>>>>>>>>>>>>>>>>>>>>>>>>>] 422/422, 34.8 task/s, elapsed: 12s, ETA:     0s"
     ]
    },
    {
     "name": "stderr",
     "output_type": "stream",
     "text": [
      "2022-06-07 20:41:16,139 - mmaction - INFO - Evaluating top_k_accuracy ...\n",
      "2022-06-07 20:41:16,140 - mmaction - INFO - \n",
      "top1_acc\t0.9810\n",
      "2022-06-07 20:41:16,140 - mmaction - INFO - Evaluating mean_class_accuracy ...\n",
      "2022-06-07 20:41:16,141 - mmaction - INFO - \n",
      "mean_acc\t0.9810\n",
      "2022-06-07 20:43:29,302 - mmaction - INFO - Saving checkpoint at 15 epochs\n"
     ]
    },
    {
     "name": "stdout",
     "output_type": "stream",
     "text": [
      "[>>>>>>>>>>>>>>>>>>>>>>>>>>>>>] 422/422, 35.1 task/s, elapsed: 12s, ETA:     0s"
     ]
    },
    {
     "name": "stderr",
     "output_type": "stream",
     "text": [
      "2022-06-07 20:43:41,587 - mmaction - INFO - Evaluating top_k_accuracy ...\n",
      "2022-06-07 20:43:41,588 - mmaction - INFO - \n",
      "top1_acc\t0.9621\n",
      "2022-06-07 20:43:41,588 - mmaction - INFO - Evaluating mean_class_accuracy ...\n",
      "2022-06-07 20:43:41,589 - mmaction - INFO - \n",
      "mean_acc\t0.9621\n"
     ]
    },
    {
     "name": "stdout",
     "output_type": "stream",
     "text": [
      "[>>>>>>>>>>>>>>>>>>>>>>>>>>>>>] 422/422, 35.1 task/s, elapsed: 12s, ETA:     0s"
     ]
    },
    {
     "name": "stderr",
     "output_type": "stream",
     "text": [
      "2022-06-07 20:46:05,592 - mmaction - INFO - Evaluating top_k_accuracy ...\n",
      "2022-06-07 20:46:05,593 - mmaction - INFO - \n",
      "top1_acc\t0.9905\n",
      "2022-06-07 20:46:05,593 - mmaction - INFO - Evaluating mean_class_accuracy ...\n",
      "2022-06-07 20:46:05,594 - mmaction - INFO - \n",
      "mean_acc\t0.9905\n",
      "2022-06-07 20:46:05,606 - mmaction - INFO - The previous best checkpoint /home/umi/projects/WorkoutDetector/WorkoutDetector/work_dirs/tsm_8_binary_squat_20220607_1956/best_top1_acc_epoch_13.pth was removed\n",
      "2022-06-07 20:46:05,889 - mmaction - INFO - Now best checkpoint is saved as best_top1_acc_epoch_16.pth.\n",
      "2022-06-07 20:46:05,890 - mmaction - INFO - Best top1_acc is 0.9905 at 16 epoch.\n"
     ]
    },
    {
     "name": "stdout",
     "output_type": "stream",
     "text": [
      "[>>>>>>>>>>>>>>>>>>>>>>>>>>>>>] 422/422, 35.5 task/s, elapsed: 12s, ETA:     0s"
     ]
    },
    {
     "name": "stderr",
     "output_type": "stream",
     "text": [
      "2022-06-07 20:48:30,659 - mmaction - INFO - Evaluating top_k_accuracy ...\n",
      "2022-06-07 20:48:30,661 - mmaction - INFO - \n",
      "top1_acc\t0.9858\n",
      "2022-06-07 20:48:30,661 - mmaction - INFO - Evaluating mean_class_accuracy ...\n",
      "2022-06-07 20:48:30,662 - mmaction - INFO - \n",
      "mean_acc\t0.9858\n"
     ]
    },
    {
     "name": "stdout",
     "output_type": "stream",
     "text": [
      "[>>>>>>>>>>>>>>>>>>>>>>>>>>>>>] 422/422, 35.2 task/s, elapsed: 12s, ETA:     0s"
     ]
    },
    {
     "name": "stderr",
     "output_type": "stream",
     "text": [
      "2022-06-07 20:50:57,189 - mmaction - INFO - Evaluating top_k_accuracy ...\n",
      "2022-06-07 20:50:57,190 - mmaction - INFO - \n",
      "top1_acc\t0.9834\n",
      "2022-06-07 20:50:57,191 - mmaction - INFO - Evaluating mean_class_accuracy ...\n",
      "2022-06-07 20:50:57,192 - mmaction - INFO - \n",
      "mean_acc\t0.9834\n"
     ]
    },
    {
     "name": "stdout",
     "output_type": "stream",
     "text": [
      "[>>>>>>>>>>>>>>>>>>>>>>>>>>>>>] 422/422, 35.1 task/s, elapsed: 12s, ETA:     0s"
     ]
    },
    {
     "name": "stderr",
     "output_type": "stream",
     "text": [
      "2022-06-07 20:53:21,948 - mmaction - INFO - Evaluating top_k_accuracy ...\n",
      "2022-06-07 20:53:21,949 - mmaction - INFO - \n",
      "top1_acc\t0.9787\n",
      "2022-06-07 20:53:21,950 - mmaction - INFO - Evaluating mean_class_accuracy ...\n",
      "2022-06-07 20:53:21,950 - mmaction - INFO - \n",
      "mean_acc\t0.9787\n",
      "2022-06-07 20:55:34,214 - mmaction - INFO - Saving checkpoint at 20 epochs\n"
     ]
    },
    {
     "name": "stdout",
     "output_type": "stream",
     "text": [
      "[>>>>>>>>>>>>>>>>>>>>>>>>>>>>>] 422/422, 35.4 task/s, elapsed: 12s, ETA:     0s"
     ]
    },
    {
     "name": "stderr",
     "output_type": "stream",
     "text": [
      "2022-06-07 20:55:46,432 - mmaction - INFO - Evaluating top_k_accuracy ...\n",
      "2022-06-07 20:55:46,433 - mmaction - INFO - \n",
      "top1_acc\t0.9597\n",
      "2022-06-07 20:55:46,433 - mmaction - INFO - Evaluating mean_class_accuracy ...\n",
      "2022-06-07 20:55:46,434 - mmaction - INFO - \n",
      "mean_acc\t0.9597\n"
     ]
    },
    {
     "name": "stdout",
     "output_type": "stream",
     "text": [
      "[>>>>>>>>>>>>>>>>>>>>>>>>>>>>>] 422/422, 35.3 task/s, elapsed: 12s, ETA:     0s"
     ]
    },
    {
     "name": "stderr",
     "output_type": "stream",
     "text": [
      "2022-06-07 20:58:10,944 - mmaction - INFO - Evaluating top_k_accuracy ...\n",
      "2022-06-07 20:58:10,945 - mmaction - INFO - \n",
      "top1_acc\t0.9858\n",
      "2022-06-07 20:58:10,946 - mmaction - INFO - Evaluating mean_class_accuracy ...\n",
      "2022-06-07 20:58:10,947 - mmaction - INFO - \n",
      "mean_acc\t0.9858\n"
     ]
    },
    {
     "name": "stdout",
     "output_type": "stream",
     "text": [
      "[>>>>>>>>>>>>>>>>>>>>>>>>>>>>>] 422/422, 35.4 task/s, elapsed: 12s, ETA:     0s"
     ]
    },
    {
     "name": "stderr",
     "output_type": "stream",
     "text": [
      "2022-06-07 21:00:35,936 - mmaction - INFO - Evaluating top_k_accuracy ...\n",
      "2022-06-07 21:00:35,937 - mmaction - INFO - \n",
      "top1_acc\t0.9858\n",
      "2022-06-07 21:00:35,938 - mmaction - INFO - Evaluating mean_class_accuracy ...\n",
      "2022-06-07 21:00:35,939 - mmaction - INFO - \n",
      "mean_acc\t0.9858\n"
     ]
    },
    {
     "name": "stdout",
     "output_type": "stream",
     "text": [
      "[>>>>>>>>>>>>>>>>>>>>>>>>>>>>>] 422/422, 34.4 task/s, elapsed: 12s, ETA:     0s"
     ]
    },
    {
     "name": "stderr",
     "output_type": "stream",
     "text": [
      "2022-06-07 21:03:00,518 - mmaction - INFO - Evaluating top_k_accuracy ...\n",
      "2022-06-07 21:03:00,519 - mmaction - INFO - \n",
      "top1_acc\t0.9882\n",
      "2022-06-07 21:03:00,519 - mmaction - INFO - Evaluating mean_class_accuracy ...\n",
      "2022-06-07 21:03:00,520 - mmaction - INFO - \n",
      "mean_acc\t0.9882\n"
     ]
    },
    {
     "name": "stdout",
     "output_type": "stream",
     "text": [
      "[>>>>>>>>>>>>>>>>>>>>>>>>>>>>>] 422/422, 35.0 task/s, elapsed: 12s, ETA:     0s"
     ]
    },
    {
     "name": "stderr",
     "output_type": "stream",
     "text": [
      "2022-06-07 21:05:26,972 - mmaction - INFO - Evaluating top_k_accuracy ...\n",
      "2022-06-07 21:05:26,973 - mmaction - INFO - \n",
      "top1_acc\t0.9668\n",
      "2022-06-07 21:05:26,974 - mmaction - INFO - Evaluating mean_class_accuracy ...\n",
      "2022-06-07 21:05:26,974 - mmaction - INFO - \n",
      "mean_acc\t0.9668\n",
      "2022-06-07 21:07:40,472 - mmaction - INFO - Saving checkpoint at 25 epochs\n"
     ]
    },
    {
     "name": "stdout",
     "output_type": "stream",
     "text": [
      "[>>>>>>>>>>>>>>>>>>>>>>>>>>>>>] 422/422, 35.0 task/s, elapsed: 12s, ETA:     0s"
     ]
    },
    {
     "name": "stderr",
     "output_type": "stream",
     "text": [
      "2022-06-07 21:07:52,805 - mmaction - INFO - Evaluating top_k_accuracy ...\n",
      "2022-06-07 21:07:52,806 - mmaction - INFO - \n",
      "top1_acc\t0.9905\n",
      "2022-06-07 21:07:52,807 - mmaction - INFO - Evaluating mean_class_accuracy ...\n",
      "2022-06-07 21:07:52,808 - mmaction - INFO - \n",
      "mean_acc\t0.9905\n"
     ]
    },
    {
     "name": "stdout",
     "output_type": "stream",
     "text": [
      "[>>>>>>>>>>>>>>>>>>>>>>>>>>>>>] 422/422, 35.0 task/s, elapsed: 12s, ETA:     0s"
     ]
    },
    {
     "name": "stderr",
     "output_type": "stream",
     "text": [
      "2022-06-07 21:10:18,255 - mmaction - INFO - Evaluating top_k_accuracy ...\n",
      "2022-06-07 21:10:18,257 - mmaction - INFO - \n",
      "top1_acc\t0.9882\n",
      "2022-06-07 21:10:18,257 - mmaction - INFO - Evaluating mean_class_accuracy ...\n",
      "2022-06-07 21:10:18,258 - mmaction - INFO - \n",
      "mean_acc\t0.9882\n"
     ]
    },
    {
     "name": "stdout",
     "output_type": "stream",
     "text": [
      "[>>>>>>>>>>>>>>>>>>>>>>>>>>>>>] 422/422, 35.0 task/s, elapsed: 12s, ETA:     0s"
     ]
    },
    {
     "name": "stderr",
     "output_type": "stream",
     "text": [
      "2022-06-07 21:12:42,938 - mmaction - INFO - Evaluating top_k_accuracy ...\n",
      "2022-06-07 21:12:42,939 - mmaction - INFO - \n",
      "top1_acc\t0.9834\n",
      "2022-06-07 21:12:42,939 - mmaction - INFO - Evaluating mean_class_accuracy ...\n",
      "2022-06-07 21:12:42,940 - mmaction - INFO - \n",
      "mean_acc\t0.9834\n"
     ]
    },
    {
     "name": "stdout",
     "output_type": "stream",
     "text": [
      "[>>>>>>>>>>>>>>>>>>>>>>>>>>>>>] 422/422, 34.2 task/s, elapsed: 12s, ETA:     0s"
     ]
    },
    {
     "name": "stderr",
     "output_type": "stream",
     "text": [
      "2022-06-07 21:15:09,362 - mmaction - INFO - Evaluating top_k_accuracy ...\n",
      "2022-06-07 21:15:09,363 - mmaction - INFO - \n",
      "top1_acc\t0.9905\n",
      "2022-06-07 21:15:09,363 - mmaction - INFO - Evaluating mean_class_accuracy ...\n",
      "2022-06-07 21:15:09,364 - mmaction - INFO - \n",
      "mean_acc\t0.9905\n"
     ]
    },
    {
     "name": "stdout",
     "output_type": "stream",
     "text": [
      "[>>>>>>>>>>>>>>>>>>>>>>>>>>>>>] 422/422, 35.1 task/s, elapsed: 12s, ETA:     0s"
     ]
    },
    {
     "name": "stderr",
     "output_type": "stream",
     "text": [
      "2022-06-07 21:17:35,490 - mmaction - INFO - Evaluating top_k_accuracy ...\n",
      "2022-06-07 21:17:35,491 - mmaction - INFO - \n",
      "top1_acc\t0.9882\n",
      "2022-06-07 21:17:35,492 - mmaction - INFO - Evaluating mean_class_accuracy ...\n",
      "2022-06-07 21:17:35,493 - mmaction - INFO - \n",
      "mean_acc\t0.9882\n",
      "2022-06-07 21:19:48,591 - mmaction - INFO - Saving checkpoint at 30 epochs\n"
     ]
    },
    {
     "name": "stdout",
     "output_type": "stream",
     "text": [
      "[>>>>>>>>>>>>>>>>>>>>>>>>>>>>>] 422/422, 35.0 task/s, elapsed: 12s, ETA:     0s"
     ]
    },
    {
     "name": "stderr",
     "output_type": "stream",
     "text": [
      "2022-06-07 21:20:01,241 - mmaction - INFO - Evaluating top_k_accuracy ...\n",
      "2022-06-07 21:20:01,243 - mmaction - INFO - \n",
      "top1_acc\t0.9834\n",
      "2022-06-07 21:20:01,243 - mmaction - INFO - Evaluating mean_class_accuracy ...\n",
      "2022-06-07 21:20:01,244 - mmaction - INFO - \n",
      "mean_acc\t0.9834\n"
     ]
    },
    {
     "data": {
      "text/html": [
       "Waiting for W&B process to finish... <strong style=\"color:green\">(success).</strong>"
      ],
      "text/plain": [
       "<IPython.core.display.HTML object>"
      ]
     },
     "metadata": {},
     "output_type": "display_data"
    },
    {
     "data": {
      "application/vnd.jupyter.widget-view+json": {
       "model_id": "84fbdf4952df46d388a5210b65fb6b8b",
       "version_major": 2,
       "version_minor": 0
      },
      "text/plain": [
       "VBox(children=(Label(value='0.001 MB of 0.001 MB uploaded (0.000 MB deduped)\\r'), FloatProgress(value=1.0, max…"
      ]
     },
     "metadata": {},
     "output_type": "display_data"
    },
    {
     "data": {
      "text/html": [
       "<style>\n",
       "    table.wandb td:nth-child(1) { padding: 0 10px; text-align: left ; width: auto;} td:nth-child(2) {text-align: left ; width: 100%}\n",
       "    .wandb-row { display: flex; flex-direction: row; flex-wrap: wrap; justify-content: flex-start; width: 100% }\n",
       "    .wandb-col { display: flex; flex-direction: column; flex-basis: 100%; flex: 1; padding: 10px; }\n",
       "    </style>\n",
       "<div class=\"wandb-row\"><div class=\"wandb-col\"><h3>Run history:</h3><br/><table class=\"wandb\"><tr><td>learning_rate</td><td>████████████████████▁▁▁▁▁▁▁▁▁▁▁▁▁▁▁▁▁▁▁▁</td></tr><tr><td>momentum</td><td>▁▁▁▁▁▁▁▁▁▁▁▁▁▁▁▁▁▁▁▁▁▁▁▁▁▁▁▁▁▁▁▁▁▁▁▁▁▁▁▁</td></tr><tr><td>train/grad_norm</td><td>▃▃▁▃▃▁▃▃▂▅▂▆▃▃▁▅▅▃▇▃▃▄▄▁▂█▄▃▃▄▃▄▄▆▄▃▇▄▄▂</td></tr><tr><td>train/loss</td><td>▅▅▄▆▅▃▅▆▄▄▅▆▂▅▄▄▃▃▄▂▄▃▄▂▅▄▁▆▃▅▅▄▅▄▅▄█▃▃▄</td></tr><tr><td>train/loss_cls</td><td>▅▅▄▆▅▃▅▆▄▄▅▆▂▅▄▄▃▃▄▂▄▃▄▂▅▄▁▆▃▅▅▄▅▄▅▄█▃▃▄</td></tr><tr><td>train/top1_acc</td><td>▅▅▆▄▅▇▅▅▆▆▅▂█▃▅▆▆▅▅▇▆▆▅▆▅▅▇▃▅▅▅▅▃▅▄▃▁▆▅▅</td></tr><tr><td>train/top5_acc</td><td>▁▁▁▁▁▁▁▁▁▁▁▁▁▁▁▁▁▁▁▁▁▁▁▁▁▁▁▁▁▁▁▁▁▁▁▁▁▁▁▁</td></tr><tr><td>val/eval_iter_num</td><td>▁▁▁▁▁▁▁▁▁▁▁▁▁▁▁▁▁▁▁▁</td></tr><tr><td>val/mean_class_accuracy</td><td>▅▄▆▆▂█▇▆▅▁▇▇▇▃█▇▆█▇▆</td></tr><tr><td>val/top1_acc</td><td>▅▄▆▆▂█▇▆▅▁▇▇▇▃█▇▆█▇▆</td></tr></table><br/></div><div class=\"wandb-col\"><h3>Run summary:</h3><br/><table class=\"wandb\"><tr><td>learning_rate</td><td>0.0</td></tr><tr><td>momentum</td><td>0.9</td></tr><tr><td>train/grad_norm</td><td>11.02718</td></tr><tr><td>train/loss</td><td>0.45231</td></tr><tr><td>train/loss_cls</td><td>0.45231</td></tr><tr><td>train/top1_acc</td><td>0.88</td></tr><tr><td>train/top5_acc</td><td>1.0</td></tr><tr><td>val/eval_iter_num</td><td>422</td></tr><tr><td>val/mean_class_accuracy</td><td>0.98341</td></tr><tr><td>val/top1_acc</td><td>0.98341</td></tr></table><br/></div></div>"
      ],
      "text/plain": [
       "<IPython.core.display.HTML object>"
      ]
     },
     "metadata": {},
     "output_type": "display_data"
    },
    {
     "data": {
      "text/html": [
       "Synced <strong style=\"color:#cdcd00\">azure-terrain-2</strong>: <a href=\"https://wandb.ai/gundam/Binary-squat/runs/2xmaf015\" target=\"_blank\">https://wandb.ai/gundam/Binary-squat/runs/2xmaf015</a><br/>Synced 6 W&B file(s), 0 media file(s), 0 artifact file(s) and 0 other file(s)"
      ],
      "text/plain": [
       "<IPython.core.display.HTML object>"
      ]
     },
     "metadata": {},
     "output_type": "display_data"
    },
    {
     "data": {
      "text/html": [
       "Find logs at: <code>./wandb/run-20220607_203126-2xmaf015/logs</code>"
      ],
      "text/plain": [
       "<IPython.core.display.HTML object>"
      ]
     },
     "metadata": {},
     "output_type": "display_data"
    }
   ],
   "source": [
    "from mmaction.datasets import build_dataset\n",
    "from mmaction.models import build_model\n",
    "from mmaction.apis import train_model\n",
    "\n",
    "import mmcv\n",
    "\n",
    "# Build the dataset\n",
    "datasets = [build_dataset(cfg.data.train)]\n",
    "\n",
    "# Build the recognizer\n",
    "model = build_model(cfg.model, train_cfg=cfg.get('train_cfg'), test_cfg=cfg.get('test_cfg'))\n",
    "\n",
    "# Create work_dir\n",
    "mmcv.mkdir_or_exist(osp.abspath(cfg.work_dir))\n",
    "train_model(model, datasets, cfg, distributed=False, validate=True)\n",
    "\n"
   ]
  },
  {
   "cell_type": "markdown",
   "metadata": {},
   "source": [
    "### Test the trained recognizer"
   ]
  },
  {
   "cell_type": "code",
   "execution_count": 13,
   "metadata": {},
   "outputs": [
    {
     "name": "stdout",
     "output_type": "stream",
     "text": [
      "[>>>>>>>>>>>>>>>>>>>>>>>>>>>>>>] 304/304, 34.0 task/s, elapsed: 9s, ETA:     0s\n",
      "Evaluating top_k_accuracy ...\n",
      "\n",
      "top1_acc\t0.8322\n",
      "\n",
      "Evaluating mean_class_accuracy ...\n",
      "\n",
      "mean_acc\t0.8322\n"
     ]
    }
   ],
   "source": [
    "from mmaction.apis import single_gpu_test\n",
    "from mmaction.datasets import build_dataloader\n",
    "from mmcv.parallel import MMDataParallel\n",
    "\n",
    "# Build a test dataloader\n",
    "dataset = build_dataset(cfg.data.test, dict(test_mode=True))\n",
    "data_loader = build_dataloader(\n",
    "        dataset,\n",
    "        videos_per_gpu=1,\n",
    "        workers_per_gpu=cfg.data.workers_per_gpu,\n",
    "        dist=False,\n",
    "        shuffle=False)\n",
    "model = MMDataParallel(model, device_ids=[0])\n",
    "outputs = single_gpu_test(model, data_loader)\n",
    "\n",
    "eval_config = cfg.evaluation\n",
    "eval_config.pop('interval')\n",
    "eval_res = dataset.evaluate(outputs, **eval_config)"
   ]
  },
  {
   "cell_type": "markdown",
   "metadata": {},
   "source": [
    "## Inference video"
   ]
  },
  {
   "cell_type": "code",
   "execution_count": 14,
   "metadata": {},
   "outputs": [
    {
     "data": {
      "text/plain": [
       "MMDataParallel(\n",
       "  (module): Recognizer2D(\n",
       "    (backbone): ResNetTSM(\n",
       "      (conv1): ConvModule(\n",
       "        (conv): Conv2d(3, 64, kernel_size=(7, 7), stride=(2, 2), padding=(3, 3), bias=False)\n",
       "        (bn): BatchNorm2d(64, eps=1e-05, momentum=0.1, affine=True, track_running_stats=True)\n",
       "        (activate): ReLU(inplace=True)\n",
       "      )\n",
       "      (maxpool): MaxPool2d(kernel_size=3, stride=2, padding=1, dilation=1, ceil_mode=False)\n",
       "      (layer1): Sequential(\n",
       "        (0): Bottleneck(\n",
       "          (conv1): ConvModule(\n",
       "            (conv): TemporalShift(\n",
       "              (net): Conv2d(64, 64, kernel_size=(1, 1), stride=(1, 1), bias=False)\n",
       "            )\n",
       "            (bn): BatchNorm2d(64, eps=1e-05, momentum=0.1, affine=True, track_running_stats=True)\n",
       "            (activate): ReLU(inplace=True)\n",
       "          )\n",
       "          (conv2): ConvModule(\n",
       "            (conv): Conv2d(64, 64, kernel_size=(3, 3), stride=(1, 1), padding=(1, 1), bias=False)\n",
       "            (bn): BatchNorm2d(64, eps=1e-05, momentum=0.1, affine=True, track_running_stats=True)\n",
       "            (activate): ReLU(inplace=True)\n",
       "          )\n",
       "          (conv3): ConvModule(\n",
       "            (conv): Conv2d(64, 256, kernel_size=(1, 1), stride=(1, 1), bias=False)\n",
       "            (bn): BatchNorm2d(256, eps=1e-05, momentum=0.1, affine=True, track_running_stats=True)\n",
       "          )\n",
       "          (relu): ReLU(inplace=True)\n",
       "          (downsample): ConvModule(\n",
       "            (conv): Conv2d(64, 256, kernel_size=(1, 1), stride=(1, 1), bias=False)\n",
       "            (bn): BatchNorm2d(256, eps=1e-05, momentum=0.1, affine=True, track_running_stats=True)\n",
       "          )\n",
       "        )\n",
       "        (1): Bottleneck(\n",
       "          (conv1): ConvModule(\n",
       "            (conv): TemporalShift(\n",
       "              (net): Conv2d(256, 64, kernel_size=(1, 1), stride=(1, 1), bias=False)\n",
       "            )\n",
       "            (bn): BatchNorm2d(64, eps=1e-05, momentum=0.1, affine=True, track_running_stats=True)\n",
       "            (activate): ReLU(inplace=True)\n",
       "          )\n",
       "          (conv2): ConvModule(\n",
       "            (conv): Conv2d(64, 64, kernel_size=(3, 3), stride=(1, 1), padding=(1, 1), bias=False)\n",
       "            (bn): BatchNorm2d(64, eps=1e-05, momentum=0.1, affine=True, track_running_stats=True)\n",
       "            (activate): ReLU(inplace=True)\n",
       "          )\n",
       "          (conv3): ConvModule(\n",
       "            (conv): Conv2d(64, 256, kernel_size=(1, 1), stride=(1, 1), bias=False)\n",
       "            (bn): BatchNorm2d(256, eps=1e-05, momentum=0.1, affine=True, track_running_stats=True)\n",
       "          )\n",
       "          (relu): ReLU(inplace=True)\n",
       "        )\n",
       "        (2): Bottleneck(\n",
       "          (conv1): ConvModule(\n",
       "            (conv): TemporalShift(\n",
       "              (net): Conv2d(256, 64, kernel_size=(1, 1), stride=(1, 1), bias=False)\n",
       "            )\n",
       "            (bn): BatchNorm2d(64, eps=1e-05, momentum=0.1, affine=True, track_running_stats=True)\n",
       "            (activate): ReLU(inplace=True)\n",
       "          )\n",
       "          (conv2): ConvModule(\n",
       "            (conv): Conv2d(64, 64, kernel_size=(3, 3), stride=(1, 1), padding=(1, 1), bias=False)\n",
       "            (bn): BatchNorm2d(64, eps=1e-05, momentum=0.1, affine=True, track_running_stats=True)\n",
       "            (activate): ReLU(inplace=True)\n",
       "          )\n",
       "          (conv3): ConvModule(\n",
       "            (conv): Conv2d(64, 256, kernel_size=(1, 1), stride=(1, 1), bias=False)\n",
       "            (bn): BatchNorm2d(256, eps=1e-05, momentum=0.1, affine=True, track_running_stats=True)\n",
       "          )\n",
       "          (relu): ReLU(inplace=True)\n",
       "        )\n",
       "      )\n",
       "      (layer2): Sequential(\n",
       "        (0): Bottleneck(\n",
       "          (conv1): ConvModule(\n",
       "            (conv): TemporalShift(\n",
       "              (net): Conv2d(256, 128, kernel_size=(1, 1), stride=(1, 1), bias=False)\n",
       "            )\n",
       "            (bn): BatchNorm2d(128, eps=1e-05, momentum=0.1, affine=True, track_running_stats=True)\n",
       "            (activate): ReLU(inplace=True)\n",
       "          )\n",
       "          (conv2): ConvModule(\n",
       "            (conv): Conv2d(128, 128, kernel_size=(3, 3), stride=(2, 2), padding=(1, 1), bias=False)\n",
       "            (bn): BatchNorm2d(128, eps=1e-05, momentum=0.1, affine=True, track_running_stats=True)\n",
       "            (activate): ReLU(inplace=True)\n",
       "          )\n",
       "          (conv3): ConvModule(\n",
       "            (conv): Conv2d(128, 512, kernel_size=(1, 1), stride=(1, 1), bias=False)\n",
       "            (bn): BatchNorm2d(512, eps=1e-05, momentum=0.1, affine=True, track_running_stats=True)\n",
       "          )\n",
       "          (relu): ReLU(inplace=True)\n",
       "          (downsample): ConvModule(\n",
       "            (conv): Conv2d(256, 512, kernel_size=(1, 1), stride=(2, 2), bias=False)\n",
       "            (bn): BatchNorm2d(512, eps=1e-05, momentum=0.1, affine=True, track_running_stats=True)\n",
       "          )\n",
       "        )\n",
       "        (1): Bottleneck(\n",
       "          (conv1): ConvModule(\n",
       "            (conv): TemporalShift(\n",
       "              (net): Conv2d(512, 128, kernel_size=(1, 1), stride=(1, 1), bias=False)\n",
       "            )\n",
       "            (bn): BatchNorm2d(128, eps=1e-05, momentum=0.1, affine=True, track_running_stats=True)\n",
       "            (activate): ReLU(inplace=True)\n",
       "          )\n",
       "          (conv2): ConvModule(\n",
       "            (conv): Conv2d(128, 128, kernel_size=(3, 3), stride=(1, 1), padding=(1, 1), bias=False)\n",
       "            (bn): BatchNorm2d(128, eps=1e-05, momentum=0.1, affine=True, track_running_stats=True)\n",
       "            (activate): ReLU(inplace=True)\n",
       "          )\n",
       "          (conv3): ConvModule(\n",
       "            (conv): Conv2d(128, 512, kernel_size=(1, 1), stride=(1, 1), bias=False)\n",
       "            (bn): BatchNorm2d(512, eps=1e-05, momentum=0.1, affine=True, track_running_stats=True)\n",
       "          )\n",
       "          (relu): ReLU(inplace=True)\n",
       "        )\n",
       "        (2): Bottleneck(\n",
       "          (conv1): ConvModule(\n",
       "            (conv): TemporalShift(\n",
       "              (net): Conv2d(512, 128, kernel_size=(1, 1), stride=(1, 1), bias=False)\n",
       "            )\n",
       "            (bn): BatchNorm2d(128, eps=1e-05, momentum=0.1, affine=True, track_running_stats=True)\n",
       "            (activate): ReLU(inplace=True)\n",
       "          )\n",
       "          (conv2): ConvModule(\n",
       "            (conv): Conv2d(128, 128, kernel_size=(3, 3), stride=(1, 1), padding=(1, 1), bias=False)\n",
       "            (bn): BatchNorm2d(128, eps=1e-05, momentum=0.1, affine=True, track_running_stats=True)\n",
       "            (activate): ReLU(inplace=True)\n",
       "          )\n",
       "          (conv3): ConvModule(\n",
       "            (conv): Conv2d(128, 512, kernel_size=(1, 1), stride=(1, 1), bias=False)\n",
       "            (bn): BatchNorm2d(512, eps=1e-05, momentum=0.1, affine=True, track_running_stats=True)\n",
       "          )\n",
       "          (relu): ReLU(inplace=True)\n",
       "        )\n",
       "        (3): Bottleneck(\n",
       "          (conv1): ConvModule(\n",
       "            (conv): TemporalShift(\n",
       "              (net): Conv2d(512, 128, kernel_size=(1, 1), stride=(1, 1), bias=False)\n",
       "            )\n",
       "            (bn): BatchNorm2d(128, eps=1e-05, momentum=0.1, affine=True, track_running_stats=True)\n",
       "            (activate): ReLU(inplace=True)\n",
       "          )\n",
       "          (conv2): ConvModule(\n",
       "            (conv): Conv2d(128, 128, kernel_size=(3, 3), stride=(1, 1), padding=(1, 1), bias=False)\n",
       "            (bn): BatchNorm2d(128, eps=1e-05, momentum=0.1, affine=True, track_running_stats=True)\n",
       "            (activate): ReLU(inplace=True)\n",
       "          )\n",
       "          (conv3): ConvModule(\n",
       "            (conv): Conv2d(128, 512, kernel_size=(1, 1), stride=(1, 1), bias=False)\n",
       "            (bn): BatchNorm2d(512, eps=1e-05, momentum=0.1, affine=True, track_running_stats=True)\n",
       "          )\n",
       "          (relu): ReLU(inplace=True)\n",
       "        )\n",
       "      )\n",
       "      (layer3): Sequential(\n",
       "        (0): Bottleneck(\n",
       "          (conv1): ConvModule(\n",
       "            (conv): TemporalShift(\n",
       "              (net): Conv2d(512, 256, kernel_size=(1, 1), stride=(1, 1), bias=False)\n",
       "            )\n",
       "            (bn): BatchNorm2d(256, eps=1e-05, momentum=0.1, affine=True, track_running_stats=True)\n",
       "            (activate): ReLU(inplace=True)\n",
       "          )\n",
       "          (conv2): ConvModule(\n",
       "            (conv): Conv2d(256, 256, kernel_size=(3, 3), stride=(2, 2), padding=(1, 1), bias=False)\n",
       "            (bn): BatchNorm2d(256, eps=1e-05, momentum=0.1, affine=True, track_running_stats=True)\n",
       "            (activate): ReLU(inplace=True)\n",
       "          )\n",
       "          (conv3): ConvModule(\n",
       "            (conv): Conv2d(256, 1024, kernel_size=(1, 1), stride=(1, 1), bias=False)\n",
       "            (bn): BatchNorm2d(1024, eps=1e-05, momentum=0.1, affine=True, track_running_stats=True)\n",
       "          )\n",
       "          (relu): ReLU(inplace=True)\n",
       "          (downsample): ConvModule(\n",
       "            (conv): Conv2d(512, 1024, kernel_size=(1, 1), stride=(2, 2), bias=False)\n",
       "            (bn): BatchNorm2d(1024, eps=1e-05, momentum=0.1, affine=True, track_running_stats=True)\n",
       "          )\n",
       "        )\n",
       "        (1): Bottleneck(\n",
       "          (conv1): ConvModule(\n",
       "            (conv): TemporalShift(\n",
       "              (net): Conv2d(1024, 256, kernel_size=(1, 1), stride=(1, 1), bias=False)\n",
       "            )\n",
       "            (bn): BatchNorm2d(256, eps=1e-05, momentum=0.1, affine=True, track_running_stats=True)\n",
       "            (activate): ReLU(inplace=True)\n",
       "          )\n",
       "          (conv2): ConvModule(\n",
       "            (conv): Conv2d(256, 256, kernel_size=(3, 3), stride=(1, 1), padding=(1, 1), bias=False)\n",
       "            (bn): BatchNorm2d(256, eps=1e-05, momentum=0.1, affine=True, track_running_stats=True)\n",
       "            (activate): ReLU(inplace=True)\n",
       "          )\n",
       "          (conv3): ConvModule(\n",
       "            (conv): Conv2d(256, 1024, kernel_size=(1, 1), stride=(1, 1), bias=False)\n",
       "            (bn): BatchNorm2d(1024, eps=1e-05, momentum=0.1, affine=True, track_running_stats=True)\n",
       "          )\n",
       "          (relu): ReLU(inplace=True)\n",
       "        )\n",
       "        (2): Bottleneck(\n",
       "          (conv1): ConvModule(\n",
       "            (conv): TemporalShift(\n",
       "              (net): Conv2d(1024, 256, kernel_size=(1, 1), stride=(1, 1), bias=False)\n",
       "            )\n",
       "            (bn): BatchNorm2d(256, eps=1e-05, momentum=0.1, affine=True, track_running_stats=True)\n",
       "            (activate): ReLU(inplace=True)\n",
       "          )\n",
       "          (conv2): ConvModule(\n",
       "            (conv): Conv2d(256, 256, kernel_size=(3, 3), stride=(1, 1), padding=(1, 1), bias=False)\n",
       "            (bn): BatchNorm2d(256, eps=1e-05, momentum=0.1, affine=True, track_running_stats=True)\n",
       "            (activate): ReLU(inplace=True)\n",
       "          )\n",
       "          (conv3): ConvModule(\n",
       "            (conv): Conv2d(256, 1024, kernel_size=(1, 1), stride=(1, 1), bias=False)\n",
       "            (bn): BatchNorm2d(1024, eps=1e-05, momentum=0.1, affine=True, track_running_stats=True)\n",
       "          )\n",
       "          (relu): ReLU(inplace=True)\n",
       "        )\n",
       "        (3): Bottleneck(\n",
       "          (conv1): ConvModule(\n",
       "            (conv): TemporalShift(\n",
       "              (net): Conv2d(1024, 256, kernel_size=(1, 1), stride=(1, 1), bias=False)\n",
       "            )\n",
       "            (bn): BatchNorm2d(256, eps=1e-05, momentum=0.1, affine=True, track_running_stats=True)\n",
       "            (activate): ReLU(inplace=True)\n",
       "          )\n",
       "          (conv2): ConvModule(\n",
       "            (conv): Conv2d(256, 256, kernel_size=(3, 3), stride=(1, 1), padding=(1, 1), bias=False)\n",
       "            (bn): BatchNorm2d(256, eps=1e-05, momentum=0.1, affine=True, track_running_stats=True)\n",
       "            (activate): ReLU(inplace=True)\n",
       "          )\n",
       "          (conv3): ConvModule(\n",
       "            (conv): Conv2d(256, 1024, kernel_size=(1, 1), stride=(1, 1), bias=False)\n",
       "            (bn): BatchNorm2d(1024, eps=1e-05, momentum=0.1, affine=True, track_running_stats=True)\n",
       "          )\n",
       "          (relu): ReLU(inplace=True)\n",
       "        )\n",
       "        (4): Bottleneck(\n",
       "          (conv1): ConvModule(\n",
       "            (conv): TemporalShift(\n",
       "              (net): Conv2d(1024, 256, kernel_size=(1, 1), stride=(1, 1), bias=False)\n",
       "            )\n",
       "            (bn): BatchNorm2d(256, eps=1e-05, momentum=0.1, affine=True, track_running_stats=True)\n",
       "            (activate): ReLU(inplace=True)\n",
       "          )\n",
       "          (conv2): ConvModule(\n",
       "            (conv): Conv2d(256, 256, kernel_size=(3, 3), stride=(1, 1), padding=(1, 1), bias=False)\n",
       "            (bn): BatchNorm2d(256, eps=1e-05, momentum=0.1, affine=True, track_running_stats=True)\n",
       "            (activate): ReLU(inplace=True)\n",
       "          )\n",
       "          (conv3): ConvModule(\n",
       "            (conv): Conv2d(256, 1024, kernel_size=(1, 1), stride=(1, 1), bias=False)\n",
       "            (bn): BatchNorm2d(1024, eps=1e-05, momentum=0.1, affine=True, track_running_stats=True)\n",
       "          )\n",
       "          (relu): ReLU(inplace=True)\n",
       "        )\n",
       "        (5): Bottleneck(\n",
       "          (conv1): ConvModule(\n",
       "            (conv): TemporalShift(\n",
       "              (net): Conv2d(1024, 256, kernel_size=(1, 1), stride=(1, 1), bias=False)\n",
       "            )\n",
       "            (bn): BatchNorm2d(256, eps=1e-05, momentum=0.1, affine=True, track_running_stats=True)\n",
       "            (activate): ReLU(inplace=True)\n",
       "          )\n",
       "          (conv2): ConvModule(\n",
       "            (conv): Conv2d(256, 256, kernel_size=(3, 3), stride=(1, 1), padding=(1, 1), bias=False)\n",
       "            (bn): BatchNorm2d(256, eps=1e-05, momentum=0.1, affine=True, track_running_stats=True)\n",
       "            (activate): ReLU(inplace=True)\n",
       "          )\n",
       "          (conv3): ConvModule(\n",
       "            (conv): Conv2d(256, 1024, kernel_size=(1, 1), stride=(1, 1), bias=False)\n",
       "            (bn): BatchNorm2d(1024, eps=1e-05, momentum=0.1, affine=True, track_running_stats=True)\n",
       "          )\n",
       "          (relu): ReLU(inplace=True)\n",
       "        )\n",
       "      )\n",
       "      (layer4): Sequential(\n",
       "        (0): Bottleneck(\n",
       "          (conv1): ConvModule(\n",
       "            (conv): TemporalShift(\n",
       "              (net): Conv2d(1024, 512, kernel_size=(1, 1), stride=(1, 1), bias=False)\n",
       "            )\n",
       "            (bn): BatchNorm2d(512, eps=1e-05, momentum=0.1, affine=True, track_running_stats=True)\n",
       "            (activate): ReLU(inplace=True)\n",
       "          )\n",
       "          (conv2): ConvModule(\n",
       "            (conv): Conv2d(512, 512, kernel_size=(3, 3), stride=(2, 2), padding=(1, 1), bias=False)\n",
       "            (bn): BatchNorm2d(512, eps=1e-05, momentum=0.1, affine=True, track_running_stats=True)\n",
       "            (activate): ReLU(inplace=True)\n",
       "          )\n",
       "          (conv3): ConvModule(\n",
       "            (conv): Conv2d(512, 2048, kernel_size=(1, 1), stride=(1, 1), bias=False)\n",
       "            (bn): BatchNorm2d(2048, eps=1e-05, momentum=0.1, affine=True, track_running_stats=True)\n",
       "          )\n",
       "          (relu): ReLU(inplace=True)\n",
       "          (downsample): ConvModule(\n",
       "            (conv): Conv2d(1024, 2048, kernel_size=(1, 1), stride=(2, 2), bias=False)\n",
       "            (bn): BatchNorm2d(2048, eps=1e-05, momentum=0.1, affine=True, track_running_stats=True)\n",
       "          )\n",
       "        )\n",
       "        (1): Bottleneck(\n",
       "          (conv1): ConvModule(\n",
       "            (conv): TemporalShift(\n",
       "              (net): Conv2d(2048, 512, kernel_size=(1, 1), stride=(1, 1), bias=False)\n",
       "            )\n",
       "            (bn): BatchNorm2d(512, eps=1e-05, momentum=0.1, affine=True, track_running_stats=True)\n",
       "            (activate): ReLU(inplace=True)\n",
       "          )\n",
       "          (conv2): ConvModule(\n",
       "            (conv): Conv2d(512, 512, kernel_size=(3, 3), stride=(1, 1), padding=(1, 1), bias=False)\n",
       "            (bn): BatchNorm2d(512, eps=1e-05, momentum=0.1, affine=True, track_running_stats=True)\n",
       "            (activate): ReLU(inplace=True)\n",
       "          )\n",
       "          (conv3): ConvModule(\n",
       "            (conv): Conv2d(512, 2048, kernel_size=(1, 1), stride=(1, 1), bias=False)\n",
       "            (bn): BatchNorm2d(2048, eps=1e-05, momentum=0.1, affine=True, track_running_stats=True)\n",
       "          )\n",
       "          (relu): ReLU(inplace=True)\n",
       "        )\n",
       "        (2): Bottleneck(\n",
       "          (conv1): ConvModule(\n",
       "            (conv): TemporalShift(\n",
       "              (net): Conv2d(2048, 512, kernel_size=(1, 1), stride=(1, 1), bias=False)\n",
       "            )\n",
       "            (bn): BatchNorm2d(512, eps=1e-05, momentum=0.1, affine=True, track_running_stats=True)\n",
       "            (activate): ReLU(inplace=True)\n",
       "          )\n",
       "          (conv2): ConvModule(\n",
       "            (conv): Conv2d(512, 512, kernel_size=(3, 3), stride=(1, 1), padding=(1, 1), bias=False)\n",
       "            (bn): BatchNorm2d(512, eps=1e-05, momentum=0.1, affine=True, track_running_stats=True)\n",
       "            (activate): ReLU(inplace=True)\n",
       "          )\n",
       "          (conv3): ConvModule(\n",
       "            (conv): Conv2d(512, 2048, kernel_size=(1, 1), stride=(1, 1), bias=False)\n",
       "            (bn): BatchNorm2d(2048, eps=1e-05, momentum=0.1, affine=True, track_running_stats=True)\n",
       "          )\n",
       "          (relu): ReLU(inplace=True)\n",
       "        )\n",
       "      )\n",
       "    )\n",
       "    (cls_head): TSMHead(\n",
       "      (loss_cls): CrossEntropyLoss()\n",
       "      (consensus): AvgConsensus()\n",
       "      (dropout): Dropout(p=0.5, inplace=False)\n",
       "      (fc_cls): Linear(in_features=2048, out_features=2, bias=True)\n",
       "      (avg_pool): AdaptiveAvgPool2d(output_size=1)\n",
       "    )\n",
       "  )\n",
       ")"
      ]
     },
     "execution_count": 14,
     "metadata": {},
     "output_type": "execute_result"
    }
   ],
   "source": [
    "from mmaction.apis import init_recognizer\n",
    "best_ckpt = '/home/umi/projects/WorkoutDetector/WorkoutDetector/work_dirs/tsm_8_binary_squat_20220607_1956/best_top1_acc_epoch_16.pth'\n",
    "model = init_recognizer(cfg, best_ckpt, device='cuda')\n",
    "with torch.no_grad():\n",
    "    scores = model(return_loss=False, **cur_data)[0]"
   ]
  }
 ],
 "metadata": {
  "interpreter": {
   "hash": "9ac44e3a5a0596b514731e2f84c219b304de7b3485523626a2f8b154e2423b93"
  },
  "kernelspec": {
   "display_name": "Python 3.8.13 ('mmlab')",
   "language": "python",
   "name": "python3"
  },
  "language_info": {
   "codemirror_mode": {
    "name": "ipython",
    "version": 3
   },
   "file_extension": ".py",
   "mimetype": "text/x-python",
   "name": "python",
   "nbconvert_exporter": "python",
   "pygments_lexer": "ipython3",
   "version": "3.8.13"
  },
  "orig_nbformat": 4
 },
 "nbformat": 4,
 "nbformat_minor": 2
}
