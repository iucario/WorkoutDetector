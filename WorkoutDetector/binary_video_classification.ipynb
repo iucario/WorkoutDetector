{
 "cells": [
  {
   "cell_type": "code",
   "execution_count": 1,
   "metadata": {},
   "outputs": [
    {
     "name": "stdout",
     "output_type": "stream",
     "text": [
      "1.11.0+cu113 True\n",
      "0.24.0\n",
      "11.3\n",
      "GCC 7.3\n"
     ]
    }
   ],
   "source": [
    "# Check Pytorch installation\n",
    "import torch, torchvision\n",
    "print(torch.__version__, torch.cuda.is_available())\n",
    "\n",
    "# Check MMAction2 installation\n",
    "import mmaction\n",
    "print(mmaction.__version__)\n",
    "\n",
    "# Check MMCV installation\n",
    "from mmcv.ops import get_compiling_cuda_version, get_compiler_version\n",
    "print(get_compiling_cuda_version())\n",
    "print(get_compiler_version())\n",
    "\n",
    "import warnings\n",
    "warnings.filterwarnings('ignore')\n",
    "import time\n",
    "from tqdm.auto import tqdm"
   ]
  },
  {
   "cell_type": "markdown",
   "metadata": {},
   "source": [
    "### Config"
   ]
  },
  {
   "cell_type": "code",
   "execution_count": 2,
   "metadata": {},
   "outputs": [],
   "source": [
    "config = '../mmaction2/configs/recognition/tsm/tsm_my_config.py'\n",
    "checkpoint = 'https://download.openmmlab.com/mmaction/recognition/tsm/tsm_r50_1x1x8_50e_sthv2_rgb/tsm_r50_256h_1x1x8_50e_sthv2_rgb_20210816-032aa4da.pth'\n",
    "\n",
    "# config = '../mmaction2/configs/recognition/timesformer/timesformer_divST_8x32x1_15e_kinetics400_rgb.py'\n",
    "# checkpoint = 'https://download.openmmlab.com/mmaction/recognition/timesformer/timesformer_divST_8x32x1_15e_kinetics400_rgb/timesformer_divST_8x32x1_15e_kinetics400_rgb-3f8e5d03.pth'\n"
   ]
  },
  {
   "cell_type": "code",
   "execution_count": 3,
   "metadata": {},
   "outputs": [],
   "source": [
    "from mmcv import Config\n",
    "import os.path as osp\n",
    "cfg = Config.fromfile(config)\n",
    "\n",
    "from mmcv.runner import set_random_seed\n",
    "DATASET = '/home/umi/projects/WorkoutDetector/data/Binary/'\n",
    "\n",
    "# Modify dataset type and path\n",
    "cfg.dataset_type = 'RawframeDataset'\n",
    "cfg.data_root = DATASET\n",
    "cfg.data_root_val = DATASET\n",
    "cfg.ann_file_train = DATASET +'squat-train.txt'\n",
    "cfg.ann_file_val = DATASET +'squat-val.txt'\n",
    "cfg.ann_file_test = DATASET +'squat-test.txt'\n",
    "\n",
    "cfg.data.test.ann_file = cfg.ann_file_test\n",
    "cfg.data.test.data_prefix = DATASET\n",
    "\n",
    "cfg.data.train.ann_file = cfg.ann_file_train\n",
    "cfg.data.train.data_prefix = cfg.data_root\n",
    "\n",
    "cfg.data.val.ann_file = cfg.ann_file_val\n",
    "cfg.data.val.data_prefix = cfg.data_root_val\n",
    "\n",
    "cfg.setdefault('omnisource', False)\n",
    "\n",
    "cfg.model.cls_head.num_classes = 2\n",
    "\n",
    "# The original learning rate (LR) is set for 8-GPU training.\n",
    "# We divide it by 8 since we only use one GPU.\n",
    "cfg.data.videos_per_gpu =  max(1, cfg.data.videos_per_gpu // 8)\n",
    "cfg.optimizer.lr = cfg.optimizer.lr / 8 / 16\n",
    "cfg.total_epochs = 10\n",
    "cfg.load_from = checkpoint\n",
    "# cfg.resume_from = osp.join(cfg.work_dir, 'latest.pth')\n",
    "cfg.checkpoint_config.interval = 5\n",
    "\n",
    "cfg.seed = 0\n",
    "set_random_seed(0, deterministic=False)\n",
    "cfg.gpu_ids = range(1)\n",
    "\n",
    "# Save the best\n",
    "cfg.evaluation.save_best='auto'\n",
    "\n",
    "cfg.log_config = dict(\n",
    "    interval=50,\n",
    "    hooks=[\n",
    "        # dict(type='TextLoggerHook'),\n",
    "        dict(type='TensorboardLoggerHook'),\n",
    "        dict(type='WandbLoggerHook', init_kwargs=dict(project='Binary-squat', \n",
    "                                                      config={**cfg})),\n",
    "])\n",
    "cfg.work_dir = f'./work_dirs/tsm_8_binary_squat_{time.strftime(\"%Y%m%d_%H%M\")}'\n",
    "# print(cfg.pretty_text)\n"
   ]
  },
  {
   "cell_type": "markdown",
   "metadata": {},
   "source": [
    "### Train a new recognizer"
   ]
  },
  {
   "cell_type": "code",
   "execution_count": 4,
   "metadata": {},
   "outputs": [
    {
     "name": "stderr",
     "output_type": "stream",
     "text": [
      "2022-06-07 19:55:40,166 - mmaction - INFO - These parameters in pretrained checkpoint are not loaded: {'fc.weight', 'fc.bias'}\n"
     ]
    },
    {
     "name": "stdout",
     "output_type": "stream",
     "text": [
      "load checkpoint from torchvision path: torchvision://resnet50\n"
     ]
    },
    {
     "ename": "KeyError",
     "evalue": "'wandbLoggerHook is not in the hook registry'",
     "output_type": "error",
     "traceback": [
      "\u001b[0;31m---------------------------------------------------------------------------\u001b[0m",
      "\u001b[0;31mKeyError\u001b[0m                                  Traceback (most recent call last)",
      "\u001b[1;32m/home/umi/projects/WorkoutDetector/WorkoutDetector/binary_video_classification.ipynb Cell 6'\u001b[0m in \u001b[0;36m<cell line: 15>\u001b[0;34m()\u001b[0m\n\u001b[1;32m     <a href='vscode-notebook-cell://wsl%2Bubuntu/home/umi/projects/WorkoutDetector/WorkoutDetector/binary_video_classification.ipynb#ch0000005vscode-remote?line=12'>13</a>\u001b[0m \u001b[39m# Create work_dir\u001b[39;00m\n\u001b[1;32m     <a href='vscode-notebook-cell://wsl%2Bubuntu/home/umi/projects/WorkoutDetector/WorkoutDetector/binary_video_classification.ipynb#ch0000005vscode-remote?line=13'>14</a>\u001b[0m mmcv\u001b[39m.\u001b[39mmkdir_or_exist(osp\u001b[39m.\u001b[39mabspath(cfg\u001b[39m.\u001b[39mwork_dir))\n\u001b[0;32m---> <a href='vscode-notebook-cell://wsl%2Bubuntu/home/umi/projects/WorkoutDetector/WorkoutDetector/binary_video_classification.ipynb#ch0000005vscode-remote?line=14'>15</a>\u001b[0m train_model(model, datasets, cfg, distributed\u001b[39m=\u001b[39;49m\u001b[39mFalse\u001b[39;49;00m, validate\u001b[39m=\u001b[39;49m\u001b[39mTrue\u001b[39;49;00m)\n",
      "File \u001b[0;32m~/projects/mmaction2/mmaction/apis/train.py:161\u001b[0m, in \u001b[0;36mtrain_model\u001b[0;34m(model, dataset, cfg, distributed, validate, test, timestamp, meta)\u001b[0m\n\u001b[1;32m    <a href='file:///home/umi/projects/mmaction2/mmaction/apis/train.py?line=157'>158</a>\u001b[0m     optimizer_config \u001b[39m=\u001b[39m cfg\u001b[39m.\u001b[39moptimizer_config\n\u001b[1;32m    <a href='file:///home/umi/projects/mmaction2/mmaction/apis/train.py?line=159'>160</a>\u001b[0m \u001b[39m# register hooks\u001b[39;00m\n\u001b[0;32m--> <a href='file:///home/umi/projects/mmaction2/mmaction/apis/train.py?line=160'>161</a>\u001b[0m runner\u001b[39m.\u001b[39;49mregister_training_hooks(\n\u001b[1;32m    <a href='file:///home/umi/projects/mmaction2/mmaction/apis/train.py?line=161'>162</a>\u001b[0m     cfg\u001b[39m.\u001b[39;49mlr_config,\n\u001b[1;32m    <a href='file:///home/umi/projects/mmaction2/mmaction/apis/train.py?line=162'>163</a>\u001b[0m     optimizer_config,\n\u001b[1;32m    <a href='file:///home/umi/projects/mmaction2/mmaction/apis/train.py?line=163'>164</a>\u001b[0m     cfg\u001b[39m.\u001b[39;49mcheckpoint_config,\n\u001b[1;32m    <a href='file:///home/umi/projects/mmaction2/mmaction/apis/train.py?line=164'>165</a>\u001b[0m     cfg\u001b[39m.\u001b[39;49mlog_config,\n\u001b[1;32m    <a href='file:///home/umi/projects/mmaction2/mmaction/apis/train.py?line=165'>166</a>\u001b[0m     cfg\u001b[39m.\u001b[39;49mget(\u001b[39m'\u001b[39;49m\u001b[39mmomentum_config\u001b[39;49m\u001b[39m'\u001b[39;49m, \u001b[39mNone\u001b[39;49;00m),\n\u001b[1;32m    <a href='file:///home/umi/projects/mmaction2/mmaction/apis/train.py?line=166'>167</a>\u001b[0m     custom_hooks_config\u001b[39m=\u001b[39;49mcfg\u001b[39m.\u001b[39;49mget(\u001b[39m'\u001b[39;49m\u001b[39mcustom_hooks\u001b[39;49m\u001b[39m'\u001b[39;49m, \u001b[39mNone\u001b[39;49;00m))\n\u001b[1;32m    <a href='file:///home/umi/projects/mmaction2/mmaction/apis/train.py?line=168'>169</a>\u001b[0m \u001b[39m# multigrid setting\u001b[39;00m\n\u001b[1;32m    <a href='file:///home/umi/projects/mmaction2/mmaction/apis/train.py?line=169'>170</a>\u001b[0m multigrid_cfg \u001b[39m=\u001b[39m cfg\u001b[39m.\u001b[39mget(\u001b[39m'\u001b[39m\u001b[39mmultigrid\u001b[39m\u001b[39m'\u001b[39m, \u001b[39mNone\u001b[39;00m)\n",
      "File \u001b[0;32m~/miniconda3/envs/mmlab/lib/python3.8/site-packages/mmcv/runner/base_runner.py:543\u001b[0m, in \u001b[0;36mBaseRunner.register_training_hooks\u001b[0;34m(self, lr_config, optimizer_config, checkpoint_config, log_config, momentum_config, timer_config, custom_hooks_config)\u001b[0m\n\u001b[1;32m    <a href='file:///home/umi/miniconda3/envs/mmlab/lib/python3.8/site-packages/mmcv/runner/base_runner.py?line=540'>541</a>\u001b[0m \u001b[39mself\u001b[39m\u001b[39m.\u001b[39mregister_checkpoint_hook(checkpoint_config)\n\u001b[1;32m    <a href='file:///home/umi/miniconda3/envs/mmlab/lib/python3.8/site-packages/mmcv/runner/base_runner.py?line=541'>542</a>\u001b[0m \u001b[39mself\u001b[39m\u001b[39m.\u001b[39mregister_timer_hook(timer_config)\n\u001b[0;32m--> <a href='file:///home/umi/miniconda3/envs/mmlab/lib/python3.8/site-packages/mmcv/runner/base_runner.py?line=542'>543</a>\u001b[0m \u001b[39mself\u001b[39;49m\u001b[39m.\u001b[39;49mregister_logger_hooks(log_config)\n\u001b[1;32m    <a href='file:///home/umi/miniconda3/envs/mmlab/lib/python3.8/site-packages/mmcv/runner/base_runner.py?line=543'>544</a>\u001b[0m \u001b[39mself\u001b[39m\u001b[39m.\u001b[39mregister_custom_hooks(custom_hooks_config)\n",
      "File \u001b[0;32m~/miniconda3/envs/mmlab/lib/python3.8/site-packages/mmcv/runner/base_runner.py:468\u001b[0m, in \u001b[0;36mBaseRunner.register_logger_hooks\u001b[0;34m(self, log_config)\u001b[0m\n\u001b[1;32m    <a href='file:///home/umi/miniconda3/envs/mmlab/lib/python3.8/site-packages/mmcv/runner/base_runner.py?line=465'>466</a>\u001b[0m log_interval \u001b[39m=\u001b[39m log_config[\u001b[39m'\u001b[39m\u001b[39minterval\u001b[39m\u001b[39m'\u001b[39m]\n\u001b[1;32m    <a href='file:///home/umi/miniconda3/envs/mmlab/lib/python3.8/site-packages/mmcv/runner/base_runner.py?line=466'>467</a>\u001b[0m \u001b[39mfor\u001b[39;00m info \u001b[39min\u001b[39;00m log_config[\u001b[39m'\u001b[39m\u001b[39mhooks\u001b[39m\u001b[39m'\u001b[39m]:\n\u001b[0;32m--> <a href='file:///home/umi/miniconda3/envs/mmlab/lib/python3.8/site-packages/mmcv/runner/base_runner.py?line=467'>468</a>\u001b[0m     logger_hook \u001b[39m=\u001b[39m mmcv\u001b[39m.\u001b[39;49mbuild_from_cfg(\n\u001b[1;32m    <a href='file:///home/umi/miniconda3/envs/mmlab/lib/python3.8/site-packages/mmcv/runner/base_runner.py?line=468'>469</a>\u001b[0m         info, HOOKS, default_args\u001b[39m=\u001b[39;49m\u001b[39mdict\u001b[39;49m(interval\u001b[39m=\u001b[39;49mlog_interval))\n\u001b[1;32m    <a href='file:///home/umi/miniconda3/envs/mmlab/lib/python3.8/site-packages/mmcv/runner/base_runner.py?line=469'>470</a>\u001b[0m     \u001b[39mself\u001b[39m\u001b[39m.\u001b[39mregister_hook(logger_hook, priority\u001b[39m=\u001b[39m\u001b[39m'\u001b[39m\u001b[39mVERY_LOW\u001b[39m\u001b[39m'\u001b[39m)\n",
      "File \u001b[0;32m~/miniconda3/envs/mmlab/lib/python3.8/site-packages/mmcv/utils/registry.py:44\u001b[0m, in \u001b[0;36mbuild_from_cfg\u001b[0;34m(cfg, registry, default_args)\u001b[0m\n\u001b[1;32m     <a href='file:///home/umi/miniconda3/envs/mmlab/lib/python3.8/site-packages/mmcv/utils/registry.py?line=41'>42</a>\u001b[0m     obj_cls \u001b[39m=\u001b[39m registry\u001b[39m.\u001b[39mget(obj_type)\n\u001b[1;32m     <a href='file:///home/umi/miniconda3/envs/mmlab/lib/python3.8/site-packages/mmcv/utils/registry.py?line=42'>43</a>\u001b[0m     \u001b[39mif\u001b[39;00m obj_cls \u001b[39mis\u001b[39;00m \u001b[39mNone\u001b[39;00m:\n\u001b[0;32m---> <a href='file:///home/umi/miniconda3/envs/mmlab/lib/python3.8/site-packages/mmcv/utils/registry.py?line=43'>44</a>\u001b[0m         \u001b[39mraise\u001b[39;00m \u001b[39mKeyError\u001b[39;00m(\n\u001b[1;32m     <a href='file:///home/umi/miniconda3/envs/mmlab/lib/python3.8/site-packages/mmcv/utils/registry.py?line=44'>45</a>\u001b[0m             \u001b[39mf\u001b[39m\u001b[39m'\u001b[39m\u001b[39m{\u001b[39;00mobj_type\u001b[39m}\u001b[39;00m\u001b[39m is not in the \u001b[39m\u001b[39m{\u001b[39;00mregistry\u001b[39m.\u001b[39mname\u001b[39m}\u001b[39;00m\u001b[39m registry\u001b[39m\u001b[39m'\u001b[39m)\n\u001b[1;32m     <a href='file:///home/umi/miniconda3/envs/mmlab/lib/python3.8/site-packages/mmcv/utils/registry.py?line=45'>46</a>\u001b[0m \u001b[39melif\u001b[39;00m inspect\u001b[39m.\u001b[39misclass(obj_type):\n\u001b[1;32m     <a href='file:///home/umi/miniconda3/envs/mmlab/lib/python3.8/site-packages/mmcv/utils/registry.py?line=46'>47</a>\u001b[0m     obj_cls \u001b[39m=\u001b[39m obj_type\n",
      "\u001b[0;31mKeyError\u001b[0m: 'wandbLoggerHook is not in the hook registry'"
     ]
    }
   ],
   "source": [
    "from mmaction.datasets import build_dataset\n",
    "from mmaction.models import build_model\n",
    "from mmaction.apis import train_model\n",
    "\n",
    "import mmcv\n",
    "\n",
    "# Build the dataset\n",
    "datasets = [build_dataset(cfg.data.train)]\n",
    "\n",
    "# Build the recognizer\n",
    "model = build_model(cfg.model, train_cfg=cfg.get('train_cfg'), test_cfg=cfg.get('test_cfg'))\n",
    "\n",
    "# Create work_dir\n",
    "mmcv.mkdir_or_exist(osp.abspath(cfg.work_dir))\n",
    "train_model(model, datasets, cfg, distributed=False, validate=True)\n",
    "\n"
   ]
  },
  {
   "cell_type": "markdown",
   "metadata": {},
   "source": [
    "### Test the trained recognizer"
   ]
  },
  {
   "cell_type": "code",
   "execution_count": null,
   "metadata": {},
   "outputs": [
    {
     "name": "stdout",
     "output_type": "stream",
     "text": [
      "[>>>>>>>>>>>>>>>>>>>>>>>>>>>>>] 304/304, 12.2 task/s, elapsed: 25s, ETA:     0s\n",
      "Evaluating top_k_accuracy ...\n",
      "\n",
      "top1_acc\t0.6743\n",
      "top5_acc\t1.0000\n",
      "\n",
      "Evaluating mean_class_accuracy ...\n",
      "\n",
      "mean_acc\t0.6743\n"
     ]
    }
   ],
   "source": [
    "from mmaction.apis import single_gpu_test\n",
    "from mmaction.datasets import build_dataloader\n",
    "from mmcv.parallel import MMDataParallel\n",
    "\n",
    "# Build a test dataloader\n",
    "dataset = build_dataset(cfg.data.test, dict(test_mode=True))\n",
    "data_loader = build_dataloader(\n",
    "        dataset,\n",
    "        videos_per_gpu=1,\n",
    "        workers_per_gpu=cfg.data.workers_per_gpu,\n",
    "        dist=False,\n",
    "        shuffle=False)\n",
    "model = MMDataParallel(model, device_ids=[0])\n",
    "outputs = single_gpu_test(model, data_loader)\n",
    "\n",
    "eval_config = cfg.evaluation\n",
    "eval_config.pop('interval')\n",
    "eval_res = dataset.evaluate(outputs, **eval_config)"
   ]
  }
 ],
 "metadata": {
  "interpreter": {
   "hash": "9ac44e3a5a0596b514731e2f84c219b304de7b3485523626a2f8b154e2423b93"
  },
  "kernelspec": {
   "display_name": "Python 3.8.13 ('mmlab')",
   "language": "python",
   "name": "python3"
  },
  "language_info": {
   "codemirror_mode": {
    "name": "ipython",
    "version": 3
   },
   "file_extension": ".py",
   "mimetype": "text/x-python",
   "name": "python",
   "nbconvert_exporter": "python",
   "pygments_lexer": "ipython3",
   "version": "3.8.13"
  },
  "orig_nbformat": 4
 },
 "nbformat": 4,
 "nbformat_minor": 2
}
