{
 "cells": [
  {
   "cell_type": "code",
<<<<<<< HEAD
   "execution_count": 4,
=======
   "execution_count": 64,
>>>>>>> 72a199eb4dcaa839515409b2b1367cef5f3ca1c8
   "metadata": {},
   "outputs": [],
   "source": [
    "import pandas as pd\n",
    "import numpy as np\n",
    "import matplotlib.pyplot as plt\n",
    "import os\n",
    "from IPython.display import display"
   ]
  },
  {
   "cell_type": "code",
<<<<<<< HEAD
   "execution_count": 5,
=======
   "execution_count": 46,
>>>>>>> 72a199eb4dcaa839515409b2b1367cef5f3ca1c8
   "metadata": {},
   "outputs": [
    {
     "name": "stdout",
     "output_type": "stream",
     "text": [
      "758 152 131\n",
      "total: 1041\n"
     ]
    },
    {
     "data": {
      "text/html": [
       "<div>\n",
       "<style scoped>\n",
       "    .dataframe tbody tr th:only-of-type {\n",
       "        vertical-align: middle;\n",
       "    }\n",
       "\n",
       "    .dataframe tbody tr th {\n",
       "        vertical-align: top;\n",
       "    }\n",
       "\n",
       "    .dataframe thead th {\n",
       "        text-align: right;\n",
       "    }\n",
       "</style>\n",
       "<table border=\"1\" class=\"dataframe\">\n",
       "  <thead>\n",
       "    <tr style=\"text-align: right;\">\n",
       "      <th></th>\n",
       "      <th>type</th>\n",
       "      <th>name</th>\n",
       "      <th>count</th>\n",
       "      <th>L1</th>\n",
       "      <th>L2</th>\n",
       "      <th>L3</th>\n",
       "      <th>L4</th>\n",
       "      <th>L5</th>\n",
       "      <th>L6</th>\n",
       "      <th>L7</th>\n",
       "      <th>...</th>\n",
       "      <th>L293</th>\n",
       "      <th>L294</th>\n",
       "      <th>L295</th>\n",
       "      <th>L296</th>\n",
       "      <th>L297</th>\n",
       "      <th>L298</th>\n",
       "      <th>L299</th>\n",
       "      <th>L300</th>\n",
       "      <th>L301</th>\n",
       "      <th>L302</th>\n",
       "    </tr>\n",
       "  </thead>\n",
       "  <tbody>\n",
       "    <tr>\n",
       "      <th>0</th>\n",
       "      <td>frontraise</td>\n",
       "      <td>train951.mp4</td>\n",
       "      <td>4.0</td>\n",
       "      <td>6.0</td>\n",
       "      <td>72.0</td>\n",
       "      <td>72.0</td>\n",
       "      <td>132.0</td>\n",
       "      <td>132.0</td>\n",
       "      <td>204.0</td>\n",
       "      <td>204.0</td>\n",
       "      <td>...</td>\n",
       "      <td>NaN</td>\n",
       "      <td>NaN</td>\n",
       "      <td>NaN</td>\n",
       "      <td>NaN</td>\n",
       "      <td>NaN</td>\n",
       "      <td>NaN</td>\n",
       "      <td>NaN</td>\n",
       "      <td>NaN</td>\n",
       "      <td>NaN</td>\n",
       "      <td>NaN</td>\n",
       "    </tr>\n",
       "    <tr>\n",
       "      <th>1</th>\n",
       "      <td>frontraise</td>\n",
       "      <td>train952.mp4</td>\n",
       "      <td>10.0</td>\n",
       "      <td>13.0</td>\n",
       "      <td>62.0</td>\n",
       "      <td>62.0</td>\n",
       "      <td>103.0</td>\n",
       "      <td>103.0</td>\n",
       "      <td>126.0</td>\n",
       "      <td>126.0</td>\n",
       "      <td>...</td>\n",
       "      <td>NaN</td>\n",
       "      <td>NaN</td>\n",
       "      <td>NaN</td>\n",
       "      <td>NaN</td>\n",
       "      <td>NaN</td>\n",
       "      <td>NaN</td>\n",
       "      <td>NaN</td>\n",
       "      <td>NaN</td>\n",
       "      <td>NaN</td>\n",
       "      <td>NaN</td>\n",
       "    </tr>\n",
       "    <tr>\n",
       "      <th>2</th>\n",
       "      <td>pullups</td>\n",
       "      <td>test1463.mp4</td>\n",
       "      <td>7.0</td>\n",
       "      <td>21.0</td>\n",
       "      <td>60.0</td>\n",
       "      <td>60.0</td>\n",
       "      <td>98.0</td>\n",
       "      <td>98.0</td>\n",
       "      <td>132.0</td>\n",
       "      <td>132.0</td>\n",
       "      <td>...</td>\n",
       "      <td>NaN</td>\n",
       "      <td>NaN</td>\n",
       "      <td>NaN</td>\n",
       "      <td>NaN</td>\n",
       "      <td>NaN</td>\n",
       "      <td>NaN</td>\n",
       "      <td>NaN</td>\n",
       "      <td>NaN</td>\n",
       "      <td>NaN</td>\n",
       "      <td>NaN</td>\n",
       "    </tr>\n",
       "    <tr>\n",
       "      <th>3</th>\n",
       "      <td>squant</td>\n",
       "      <td>test2340.mp4</td>\n",
       "      <td>4.0</td>\n",
       "      <td>0.0</td>\n",
       "      <td>86.0</td>\n",
       "      <td>86.0</td>\n",
       "      <td>155.0</td>\n",
       "      <td>155.0</td>\n",
       "      <td>218.0</td>\n",
       "      <td>219.0</td>\n",
       "      <td>...</td>\n",
       "      <td>NaN</td>\n",
       "      <td>NaN</td>\n",
       "      <td>NaN</td>\n",
       "      <td>NaN</td>\n",
       "      <td>NaN</td>\n",
       "      <td>NaN</td>\n",
       "      <td>NaN</td>\n",
       "      <td>NaN</td>\n",
       "      <td>NaN</td>\n",
       "      <td>NaN</td>\n",
       "    </tr>\n",
       "    <tr>\n",
       "      <th>4</th>\n",
       "      <td>front_raise</td>\n",
       "      <td>stu5_11.mp4</td>\n",
       "      <td>6.0</td>\n",
       "      <td>104.0</td>\n",
       "      <td>179.0</td>\n",
       "      <td>179.0</td>\n",
       "      <td>255.0</td>\n",
       "      <td>255.0</td>\n",
       "      <td>330.0</td>\n",
       "      <td>426.0</td>\n",
       "      <td>...</td>\n",
       "      <td>NaN</td>\n",
       "      <td>NaN</td>\n",
       "      <td>NaN</td>\n",
       "      <td>NaN</td>\n",
       "      <td>NaN</td>\n",
       "      <td>NaN</td>\n",
       "      <td>NaN</td>\n",
       "      <td>NaN</td>\n",
       "      <td>NaN</td>\n",
       "      <td>NaN</td>\n",
       "    </tr>\n",
       "  </tbody>\n",
       "</table>\n",
       "<p>5 rows × 305 columns</p>\n",
       "</div>"
      ],
      "text/plain": [
       "          type          name  count     L1     L2     L3     L4     L5     L6  \\\n",
       "0   frontraise  train951.mp4    4.0    6.0   72.0   72.0  132.0  132.0  204.0   \n",
       "1   frontraise  train952.mp4   10.0   13.0   62.0   62.0  103.0  103.0  126.0   \n",
       "2      pullups  test1463.mp4    7.0   21.0   60.0   60.0   98.0   98.0  132.0   \n",
       "3       squant  test2340.mp4    4.0    0.0   86.0   86.0  155.0  155.0  218.0   \n",
       "4  front_raise   stu5_11.mp4    6.0  104.0  179.0  179.0  255.0  255.0  330.0   \n",
       "\n",
       "      L7  ...  L293  L294  L295  L296  L297  L298  L299  L300  L301  L302  \n",
       "0  204.0  ...   NaN   NaN   NaN   NaN   NaN   NaN   NaN   NaN   NaN   NaN  \n",
       "1  126.0  ...   NaN   NaN   NaN   NaN   NaN   NaN   NaN   NaN   NaN   NaN  \n",
       "2  132.0  ...   NaN   NaN   NaN   NaN   NaN   NaN   NaN   NaN   NaN   NaN  \n",
       "3  219.0  ...   NaN   NaN   NaN   NaN   NaN   NaN   NaN   NaN   NaN   NaN  \n",
       "4  426.0  ...   NaN   NaN   NaN   NaN   NaN   NaN   NaN   NaN   NaN   NaN  \n",
       "\n",
       "[5 rows x 305 columns]"
      ]
     },
<<<<<<< HEAD
     "execution_count": 5,
=======
     "execution_count": 46,
>>>>>>> 72a199eb4dcaa839515409b2b1367cef5f3ca1c8
     "metadata": {},
     "output_type": "execute_result"
    }
   ],
   "source": [
<<<<<<< HEAD
    "datadir = 'data/RepCountA'\n",
=======
    "datadir = 'data\\RepCountA'\n",
>>>>>>> 72a199eb4dcaa839515409b2b1367cef5f3ca1c8
    "train_csv = os.path.join(datadir, 'annotation/train.csv')\n",
    "test_csv = os.path.join(datadir, 'annotation/test.csv')\n",
    "val_csv = os.path.join(datadir, 'annotation/valid.csv')\n",
    "\n",
    "train_df = pd.read_csv(train_csv, index_col=0)\n",
    "test_df = pd.read_csv(test_csv, index_col=0)\n",
    "val_df = pd.read_csv(val_csv, index_col=0)\n",
    "\n",
    "print(len(train_df), len(test_df), len(val_df))\n",
    "print('total:', len(train_df) + len(test_df) + len(val_df))\n",
    "\n",
    "train_df.head()"
   ]
  },
  {
   "cell_type": "code",
<<<<<<< HEAD
   "execution_count": 6,
=======
   "execution_count": 39,
>>>>>>> 72a199eb4dcaa839515409b2b1367cef5f3ca1c8
   "metadata": {},
   "outputs": [
    {
     "data": {
      "text/plain": [
       "800"
      ]
     },
<<<<<<< HEAD
     "execution_count": 6,
=======
     "execution_count": 39,
>>>>>>> 72a199eb4dcaa839515409b2b1367cef5f3ca1c8
     "metadata": {},
     "output_type": "execute_result"
    }
   ],
   "source": [
    "original_data = 'data/RepCountA/original_data/filename_mapping.csv'\n",
    "ori = pd.read_csv(original_data, index_col=0)\n",
    "len(ori)"
   ]
  },
  {
   "cell_type": "code",
<<<<<<< HEAD
   "execution_count": 7,
=======
   "execution_count": 37,
>>>>>>> 72a199eb4dcaa839515409b2b1367cef5f3ca1c8
   "metadata": {},
   "outputs": [
    {
     "data": {
      "text/html": [
       "<div>\n",
       "<style scoped>\n",
       "    .dataframe tbody tr th:only-of-type {\n",
       "        vertical-align: middle;\n",
       "    }\n",
       "\n",
       "    .dataframe tbody tr th {\n",
       "        vertical-align: top;\n",
       "    }\n",
       "\n",
       "    .dataframe thead th {\n",
       "        text-align: right;\n",
       "    }\n",
       "</style>\n",
       "<table border=\"1\" class=\"dataframe\">\n",
       "  <thead>\n",
       "    <tr style=\"text-align: right;\">\n",
       "      <th></th>\n",
       "      <th>class</th>\n",
       "      <th>vid_st</th>\n",
       "      <th>vid</th>\n",
       "      <th>stuid</th>\n",
       "      <th>rename</th>\n",
       "    </tr>\n",
       "  </thead>\n",
       "  <tbody>\n",
       "    <tr>\n",
       "      <th>0</th>\n",
       "      <td>battle_rope</td>\n",
       "      <td>1pzpaYrhdOo_13.mp4</td>\n",
       "      <td>1pzpaYrhdOo</td>\n",
       "      <td>1</td>\n",
       "      <td>stu1_0</td>\n",
       "    </tr>\n",
       "    <tr>\n",
       "      <th>1</th>\n",
       "      <td>battle_rope</td>\n",
       "      <td>1pzpaYrhdOo_93.mp4</td>\n",
       "      <td>1pzpaYrhdOo</td>\n",
       "      <td>4</td>\n",
       "      <td>stu4_0</td>\n",
       "    </tr>\n",
       "    <tr>\n",
       "      <th>2</th>\n",
       "      <td>battle_rope</td>\n",
       "      <td>7wDx6mZDxA8_0.mp4</td>\n",
       "      <td>7wDx6mZDxA8</td>\n",
       "      <td>3</td>\n",
       "      <td>stu3_0</td>\n",
       "    </tr>\n",
       "    <tr>\n",
       "      <th>3</th>\n",
       "      <td>battle_rope</td>\n",
       "      <td>DcRj7jtKhk4_52.mp4</td>\n",
       "      <td>DcRj7jtKhk4</td>\n",
       "      <td>10</td>\n",
       "      <td>stu10_0</td>\n",
       "    </tr>\n",
       "    <tr>\n",
       "      <th>4</th>\n",
       "      <td>battle_rope</td>\n",
       "      <td>FyGBSs1X1qM_105.mp4</td>\n",
       "      <td>FyGBSs1X1qM</td>\n",
       "      <td>3</td>\n",
       "      <td>stu3_1</td>\n",
       "    </tr>\n",
       "  </tbody>\n",
       "</table>\n",
       "</div>"
      ],
      "text/plain": [
       "         class               vid_st          vid  stuid   rename\n",
       "0  battle_rope   1pzpaYrhdOo_13.mp4  1pzpaYrhdOo      1   stu1_0\n",
       "1  battle_rope   1pzpaYrhdOo_93.mp4  1pzpaYrhdOo      4   stu4_0\n",
       "2  battle_rope    7wDx6mZDxA8_0.mp4  7wDx6mZDxA8      3   stu3_0\n",
       "3  battle_rope   DcRj7jtKhk4_52.mp4  DcRj7jtKhk4     10  stu10_0\n",
       "4  battle_rope  FyGBSs1X1qM_105.mp4  FyGBSs1X1qM      3   stu3_1"
      ]
     },
<<<<<<< HEAD
     "execution_count": 7,
=======
     "execution_count": 37,
>>>>>>> 72a199eb4dcaa839515409b2b1367cef5f3ca1c8
     "metadata": {},
     "output_type": "execute_result"
    }
   ],
   "source": [
    "ori.head()"
   ]
  },
  {
   "cell_type": "code",
<<<<<<< HEAD
   "execution_count": 8,
=======
   "execution_count": 61,
>>>>>>> 72a199eb4dcaa839515409b2b1367cef5f3ca1c8
   "metadata": {},
   "outputs": [],
   "source": [
    "# add column 'name' to ori\n",
    "ori['name'] = ori['rename'].apply(lambda x: x+'.mp4')"
   ]
  },
  {
   "cell_type": "code",
<<<<<<< HEAD
   "execution_count": 9,
=======
   "execution_count": 38,
>>>>>>> 72a199eb4dcaa839515409b2b1367cef5f3ca1c8
   "metadata": {},
   "outputs": [
    {
     "data": {
      "text/html": [
       "<div>\n",
       "<style scoped>\n",
       "    .dataframe tbody tr th:only-of-type {\n",
       "        vertical-align: middle;\n",
       "    }\n",
       "\n",
       "    .dataframe tbody tr th {\n",
       "        vertical-align: top;\n",
       "    }\n",
       "\n",
       "    .dataframe thead th {\n",
       "        text-align: right;\n",
       "    }\n",
       "</style>\n",
       "<table border=\"1\" class=\"dataframe\">\n",
       "  <thead>\n",
       "    <tr style=\"text-align: right;\">\n",
       "      <th></th>\n",
       "      <th>vid_st</th>\n",
       "      <th>vid</th>\n",
       "      <th>stuid</th>\n",
       "      <th>rename</th>\n",
<<<<<<< HEAD
       "      <th>name</th>\n",
=======
>>>>>>> 72a199eb4dcaa839515409b2b1367cef5f3ca1c8
       "    </tr>\n",
       "    <tr>\n",
       "      <th>class</th>\n",
       "      <th></th>\n",
       "      <th></th>\n",
       "      <th></th>\n",
       "      <th></th>\n",
<<<<<<< HEAD
       "      <th></th>\n",
=======
>>>>>>> 72a199eb4dcaa839515409b2b1367cef5f3ca1c8
       "    </tr>\n",
       "  </thead>\n",
       "  <tbody>\n",
       "    <tr>\n",
       "      <th>battle_rope</th>\n",
       "      <td>20</td>\n",
       "      <td>20</td>\n",
       "      <td>20</td>\n",
       "      <td>20</td>\n",
<<<<<<< HEAD
       "      <td>20</td>\n",
=======
>>>>>>> 72a199eb4dcaa839515409b2b1367cef5f3ca1c8
       "    </tr>\n",
       "    <tr>\n",
       "      <th>bench_pressing</th>\n",
       "      <td>107</td>\n",
       "      <td>107</td>\n",
       "      <td>107</td>\n",
       "      <td>107</td>\n",
<<<<<<< HEAD
       "      <td>107</td>\n",
=======
>>>>>>> 72a199eb4dcaa839515409b2b1367cef5f3ca1c8
       "    </tr>\n",
       "    <tr>\n",
       "      <th>front_raise</th>\n",
       "      <td>106</td>\n",
       "      <td>106</td>\n",
       "      <td>106</td>\n",
       "      <td>106</td>\n",
<<<<<<< HEAD
       "      <td>106</td>\n",
=======
>>>>>>> 72a199eb4dcaa839515409b2b1367cef5f3ca1c8
       "    </tr>\n",
       "    <tr>\n",
       "      <th>jump_jack</th>\n",
       "      <td>113</td>\n",
       "      <td>113</td>\n",
       "      <td>113</td>\n",
       "      <td>113</td>\n",
<<<<<<< HEAD
       "      <td>113</td>\n",
=======
>>>>>>> 72a199eb4dcaa839515409b2b1367cef5f3ca1c8
       "    </tr>\n",
       "    <tr>\n",
       "      <th>others</th>\n",
       "      <td>7</td>\n",
       "      <td>7</td>\n",
       "      <td>7</td>\n",
       "      <td>7</td>\n",
<<<<<<< HEAD
       "      <td>7</td>\n",
=======
>>>>>>> 72a199eb4dcaa839515409b2b1367cef5f3ca1c8
       "    </tr>\n",
       "    <tr>\n",
       "      <th>pull_up</th>\n",
       "      <td>112</td>\n",
       "      <td>112</td>\n",
       "      <td>112</td>\n",
       "      <td>112</td>\n",
<<<<<<< HEAD
       "      <td>112</td>\n",
=======
>>>>>>> 72a199eb4dcaa839515409b2b1367cef5f3ca1c8
       "    </tr>\n",
       "    <tr>\n",
       "      <th>push_up</th>\n",
       "      <td>107</td>\n",
       "      <td>107</td>\n",
       "      <td>107</td>\n",
       "      <td>107</td>\n",
<<<<<<< HEAD
       "      <td>107</td>\n",
=======
>>>>>>> 72a199eb4dcaa839515409b2b1367cef5f3ca1c8
       "    </tr>\n",
       "    <tr>\n",
       "      <th>situp</th>\n",
       "      <td>106</td>\n",
       "      <td>106</td>\n",
       "      <td>106</td>\n",
       "      <td>106</td>\n",
<<<<<<< HEAD
       "      <td>106</td>\n",
=======
>>>>>>> 72a199eb4dcaa839515409b2b1367cef5f3ca1c8
       "    </tr>\n",
       "    <tr>\n",
       "      <th>squat</th>\n",
       "      <td>122</td>\n",
       "      <td>122</td>\n",
       "      <td>122</td>\n",
       "      <td>122</td>\n",
<<<<<<< HEAD
       "      <td>122</td>\n",
=======
>>>>>>> 72a199eb4dcaa839515409b2b1367cef5f3ca1c8
       "    </tr>\n",
       "  </tbody>\n",
       "</table>\n",
       "</div>"
      ],
      "text/plain": [
<<<<<<< HEAD
       "                vid_st  vid  stuid  rename  name\n",
       "class                                           \n",
       "battle_rope         20   20     20      20    20\n",
       "bench_pressing     107  107    107     107   107\n",
       "front_raise        106  106    106     106   106\n",
       "jump_jack          113  113    113     113   113\n",
       "others               7    7      7       7     7\n",
       "pull_up            112  112    112     112   112\n",
       "push_up            107  107    107     107   107\n",
       "situp              106  106    106     106   106\n",
       "squat              122  122    122     122   122"
      ]
     },
     "execution_count": 9,
=======
       "                vid_st  vid  stuid  rename\n",
       "class                                     \n",
       "battle_rope         20   20     20      20\n",
       "bench_pressing     107  107    107     107\n",
       "front_raise        106  106    106     106\n",
       "jump_jack          113  113    113     113\n",
       "others               7    7      7       7\n",
       "pull_up            112  112    112     112\n",
       "push_up            107  107    107     107\n",
       "situp              106  106    106     106\n",
       "squat              122  122    122     122"
      ]
     },
     "execution_count": 38,
>>>>>>> 72a199eb4dcaa839515409b2b1367cef5f3ca1c8
     "metadata": {},
     "output_type": "execute_result"
    }
   ],
   "source": [
    "ori.groupby('class').count()"
   ]
  },
  {
   "cell_type": "code",
<<<<<<< HEAD
   "execution_count": 10,
=======
   "execution_count": 97,
>>>>>>> 72a199eb4dcaa839515409b2b1367cef5f3ca1c8
   "metadata": {},
   "outputs": [
    {
     "data": {
      "text/html": [
       "<div>\n",
       "<style scoped>\n",
       "    .dataframe tbody tr th:only-of-type {\n",
       "        vertical-align: middle;\n",
       "    }\n",
       "\n",
       "    .dataframe tbody tr th {\n",
       "        vertical-align: top;\n",
       "    }\n",
       "\n",
       "    .dataframe thead th {\n",
       "        text-align: right;\n",
       "    }\n",
       "</style>\n",
       "<table border=\"1\" class=\"dataframe\">\n",
       "  <thead>\n",
       "    <tr style=\"text-align: right;\">\n",
       "      <th></th>\n",
       "      <th>name</th>\n",
       "      <th>count</th>\n",
       "    </tr>\n",
       "    <tr>\n",
       "      <th>type</th>\n",
       "      <th></th>\n",
       "      <th></th>\n",
       "    </tr>\n",
       "  </thead>\n",
       "  <tbody>\n",
       "    <tr>\n",
       "      <th>situp</th>\n",
       "      <td>93</td>\n",
       "      <td>93</td>\n",
       "    </tr>\n",
       "    <tr>\n",
       "      <th>squat</th>\n",
       "      <td>80</td>\n",
       "      <td>80</td>\n",
       "    </tr>\n",
       "    <tr>\n",
       "      <th>bench_pressing</th>\n",
       "      <td>74</td>\n",
       "      <td>74</td>\n",
       "    </tr>\n",
       "    <tr>\n",
       "      <th>pull_up</th>\n",
       "      <td>74</td>\n",
       "      <td>74</td>\n",
       "    </tr>\n",
       "    <tr>\n",
       "      <th>push_up</th>\n",
       "      <td>72</td>\n",
       "      <td>71</td>\n",
       "    </tr>\n",
       "    <tr>\n",
       "      <th>pommelhorse</th>\n",
       "      <td>69</td>\n",
       "      <td>69</td>\n",
       "    </tr>\n",
       "    <tr>\n",
       "      <th>front_raise</th>\n",
       "      <td>68</td>\n",
       "      <td>68</td>\n",
       "    </tr>\n",
       "    <tr>\n",
       "      <th>jump_jack</th>\n",
       "      <td>61</td>\n",
       "      <td>61</td>\n",
       "    </tr>\n",
       "    <tr>\n",
       "      <th>others</th>\n",
       "      <td>37</td>\n",
       "      <td>37</td>\n",
       "    </tr>\n",
       "    <tr>\n",
       "      <th>frontraise</th>\n",
       "      <td>25</td>\n",
       "      <td>25</td>\n",
       "    </tr>\n",
       "    <tr>\n",
       "      <th>squant</th>\n",
       "      <td>21</td>\n",
       "      <td>21</td>\n",
       "    </tr>\n",
       "    <tr>\n",
       "      <th>pullups</th>\n",
       "      <td>20</td>\n",
       "      <td>20</td>\n",
       "    </tr>\n",
       "    <tr>\n",
       "      <th>benchpressing</th>\n",
       "      <td>19</td>\n",
       "      <td>19</td>\n",
       "    </tr>\n",
       "    <tr>\n",
       "      <th>pushups</th>\n",
       "      <td>17</td>\n",
       "      <td>17</td>\n",
       "    </tr>\n",
       "    <tr>\n",
       "      <th>jumpjacks</th>\n",
       "      <td>15</td>\n",
       "      <td>15</td>\n",
       "    </tr>\n",
       "    <tr>\n",
       "      <th>battle_rope</th>\n",
       "      <td>13</td>\n",
       "      <td>13</td>\n",
       "    </tr>\n",
       "  </tbody>\n",
       "</table>\n",
       "</div>"
      ],
      "text/plain": [
       "                name  count\n",
       "type                       \n",
       "situp             93     93\n",
       "squat             80     80\n",
       "bench_pressing    74     74\n",
       "pull_up           74     74\n",
       "push_up           72     71\n",
       "pommelhorse       69     69\n",
       "front_raise       68     68\n",
       "jump_jack         61     61\n",
       "others            37     37\n",
       "frontraise        25     25\n",
       "squant            21     21\n",
       "pullups           20     20\n",
       "benchpressing     19     19\n",
       "pushups           17     17\n",
       "jumpjacks         15     15\n",
       "battle_rope       13     13"
      ]
     },
<<<<<<< HEAD
     "execution_count": 10,
=======
     "execution_count": 97,
>>>>>>> 72a199eb4dcaa839515409b2b1367cef5f3ca1c8
     "metadata": {},
     "output_type": "execute_result"
    }
   ],
   "source": [
    "classes = train_df['type'].unique()\n",
    "df = train_df.groupby('type').count()\n",
    "df = df[['name', 'count']]\n",
    "df.sort_values('count', ascending=False)"
   ]
  },
  {
   "cell_type": "code",
<<<<<<< HEAD
   "execution_count": 11,
=======
   "execution_count": 68,
>>>>>>> 72a199eb4dcaa839515409b2b1367cef5f3ca1c8
   "metadata": {},
   "outputs": [
    {
     "data": {
      "text/html": [
       "<div>\n",
       "<style scoped>\n",
       "    .dataframe tbody tr th:only-of-type {\n",
       "        vertical-align: middle;\n",
       "    }\n",
       "\n",
       "    .dataframe tbody tr th {\n",
       "        vertical-align: top;\n",
       "    }\n",
       "\n",
       "    .dataframe thead th {\n",
       "        text-align: right;\n",
       "    }\n",
       "</style>\n",
       "<table border=\"1\" class=\"dataframe\">\n",
       "  <thead>\n",
       "    <tr style=\"text-align: right;\">\n",
       "      <th></th>\n",
       "      <th>type</th>\n",
       "      <th>name</th>\n",
       "      <th>count</th>\n",
       "    </tr>\n",
       "  </thead>\n",
       "  <tbody>\n",
       "    <tr>\n",
       "      <th>3</th>\n",
       "      <td>squant</td>\n",
       "      <td>test2340.mp4</td>\n",
       "      <td>4.0</td>\n",
       "    </tr>\n",
       "    <tr>\n",
       "      <th>88</th>\n",
       "      <td>squant</td>\n",
       "      <td>train3948.mp4</td>\n",
       "      <td>2.0</td>\n",
       "    </tr>\n",
       "    <tr>\n",
       "      <th>170</th>\n",
       "      <td>squant</td>\n",
       "      <td>val1235.mp4</td>\n",
       "      <td>2.0</td>\n",
       "    </tr>\n",
       "    <tr>\n",
       "      <th>182</th>\n",
       "      <td>squant</td>\n",
       "      <td>train3959.mp4</td>\n",
       "      <td>2.0</td>\n",
       "    </tr>\n",
       "    <tr>\n",
       "      <th>195</th>\n",
       "      <td>squant</td>\n",
       "      <td>test2319.mp4</td>\n",
       "      <td>7.0</td>\n",
       "    </tr>\n",
       "    <tr>\n",
       "      <th>220</th>\n",
       "      <td>squant</td>\n",
       "      <td>train3944.mp4</td>\n",
       "      <td>2.0</td>\n",
       "    </tr>\n",
       "    <tr>\n",
       "      <th>236</th>\n",
       "      <td>squant</td>\n",
       "      <td>val1250.mp4</td>\n",
       "      <td>4.0</td>\n",
       "    </tr>\n",
       "    <tr>\n",
       "      <th>299</th>\n",
       "      <td>squant</td>\n",
       "      <td>val1256.mp4</td>\n",
       "      <td>2.0</td>\n",
       "    </tr>\n",
       "    <tr>\n",
       "      <th>304</th>\n",
       "      <td>squant</td>\n",
       "      <td>test2326.mp4</td>\n",
       "      <td>2.0</td>\n",
       "    </tr>\n",
       "    <tr>\n",
       "      <th>351</th>\n",
       "      <td>squant</td>\n",
       "      <td>train3951.mp4</td>\n",
       "      <td>4.0</td>\n",
       "    </tr>\n",
       "    <tr>\n",
       "      <th>370</th>\n",
       "      <td>squant</td>\n",
       "      <td>test2299.mp4</td>\n",
       "      <td>2.0</td>\n",
       "    </tr>\n",
       "    <tr>\n",
       "      <th>372</th>\n",
       "      <td>squant</td>\n",
       "      <td>test2309.mp4</td>\n",
       "      <td>2.0</td>\n",
       "    </tr>\n",
       "    <tr>\n",
       "      <th>394</th>\n",
       "      <td>squant</td>\n",
       "      <td>val1258.mp4</td>\n",
       "      <td>3.0</td>\n",
       "    </tr>\n",
       "    <tr>\n",
       "      <th>414</th>\n",
       "      <td>squant</td>\n",
       "      <td>test2318.mp4</td>\n",
       "      <td>4.0</td>\n",
       "    </tr>\n",
       "    <tr>\n",
       "      <th>487</th>\n",
       "      <td>squant</td>\n",
       "      <td>test2317.mp4</td>\n",
       "      <td>3.0</td>\n",
       "    </tr>\n",
       "    <tr>\n",
       "      <th>526</th>\n",
       "      <td>squant</td>\n",
       "      <td>test2295.mp4</td>\n",
       "      <td>1.0</td>\n",
       "    </tr>\n",
       "    <tr>\n",
       "      <th>577</th>\n",
       "      <td>squant</td>\n",
       "      <td>test2323.mp4</td>\n",
       "      <td>2.0</td>\n",
       "    </tr>\n",
       "    <tr>\n",
       "      <th>614</th>\n",
       "      <td>squant</td>\n",
       "      <td>train3932.mp4</td>\n",
       "      <td>2.0</td>\n",
       "    </tr>\n",
       "    <tr>\n",
       "      <th>625</th>\n",
       "      <td>squant</td>\n",
       "      <td>test2331.mp4</td>\n",
       "      <td>2.0</td>\n",
       "    </tr>\n",
       "    <tr>\n",
       "      <th>653</th>\n",
       "      <td>squant</td>\n",
       "      <td>train3912.mp4</td>\n",
       "      <td>4.0</td>\n",
       "    </tr>\n",
       "    <tr>\n",
       "      <th>655</th>\n",
       "      <td>squant</td>\n",
       "      <td>test2298.mp4</td>\n",
       "      <td>2.0</td>\n",
       "    </tr>\n",
       "  </tbody>\n",
       "</table>\n",
       "</div>"
      ],
      "text/plain": [
       "       type           name  count\n",
       "3    squant   test2340.mp4    4.0\n",
       "88   squant  train3948.mp4    2.0\n",
       "170  squant    val1235.mp4    2.0\n",
       "182  squant  train3959.mp4    2.0\n",
       "195  squant   test2319.mp4    7.0\n",
       "220  squant  train3944.mp4    2.0\n",
       "236  squant    val1250.mp4    4.0\n",
       "299  squant    val1256.mp4    2.0\n",
       "304  squant   test2326.mp4    2.0\n",
       "351  squant  train3951.mp4    4.0\n",
       "370  squant   test2299.mp4    2.0\n",
       "372  squant   test2309.mp4    2.0\n",
       "394  squant    val1258.mp4    3.0\n",
       "414  squant   test2318.mp4    4.0\n",
       "487  squant   test2317.mp4    3.0\n",
       "526  squant   test2295.mp4    1.0\n",
       "577  squant   test2323.mp4    2.0\n",
       "614  squant  train3932.mp4    2.0\n",
       "625  squant   test2331.mp4    2.0\n",
       "653  squant  train3912.mp4    4.0\n",
       "655  squant   test2298.mp4    2.0"
      ]
     },
     "metadata": {},
     "output_type": "display_data"
    },
    {
     "data": {
      "text/html": [
       "<div>\n",
       "<style scoped>\n",
       "    .dataframe tbody tr th:only-of-type {\n",
       "        vertical-align: middle;\n",
       "    }\n",
       "\n",
       "    .dataframe tbody tr th {\n",
       "        vertical-align: top;\n",
       "    }\n",
       "\n",
       "    .dataframe thead th {\n",
       "        text-align: right;\n",
       "    }\n",
       "</style>\n",
       "<table border=\"1\" class=\"dataframe\">\n",
       "  <thead>\n",
       "    <tr style=\"text-align: right;\">\n",
       "      <th></th>\n",
       "      <th>class</th>\n",
       "      <th>vid_st</th>\n",
       "      <th>vid</th>\n",
       "      <th>stuid</th>\n",
       "      <th>rename</th>\n",
       "      <th>name</th>\n",
       "    </tr>\n",
       "  </thead>\n",
       "  <tbody>\n",
       "  </tbody>\n",
       "</table>\n",
       "</div>"
      ],
      "text/plain": [
       "Empty DataFrame\n",
       "Columns: [class, vid_st, vid, stuid, rename, name]\n",
       "Index: []"
      ]
     },
     "metadata": {},
     "output_type": "display_data"
    },
    {
     "data": {
      "text/html": [
       "<div>\n",
       "<style scoped>\n",
       "    .dataframe tbody tr th:only-of-type {\n",
       "        vertical-align: middle;\n",
       "    }\n",
       "\n",
       "    .dataframe tbody tr th {\n",
       "        vertical-align: top;\n",
       "    }\n",
       "\n",
       "    .dataframe thead th {\n",
       "        text-align: right;\n",
       "    }\n",
       "</style>\n",
       "<table border=\"1\" class=\"dataframe\">\n",
       "  <thead>\n",
       "    <tr style=\"text-align: right;\">\n",
       "      <th></th>\n",
       "      <th>type</th>\n",
       "      <th>name</th>\n",
       "      <th>count</th>\n",
       "      <th>class</th>\n",
       "      <th>vid_st</th>\n",
       "      <th>vid</th>\n",
       "      <th>stuid</th>\n",
       "      <th>rename</th>\n",
       "    </tr>\n",
       "  </thead>\n",
       "  <tbody>\n",
       "  </tbody>\n",
       "</table>\n",
       "</div>"
      ],
      "text/plain": [
       "Empty DataFrame\n",
       "Columns: [type, name, count, class, vid_st, vid, stuid, rename]\n",
       "Index: []"
      ]
     },
<<<<<<< HEAD
     "execution_count": 11,
=======
     "execution_count": 68,
>>>>>>> 72a199eb4dcaa839515409b2b1367cef5f3ca1c8
     "metadata": {},
     "output_type": "execute_result"
    }
   ],
   "source": [
    "squant = train_df[train_df['type'] == 'squant']\n",
    "# join ori on name\n",
    "display(squant[['type', 'name', 'count']])\n",
    "display(ori[ori['class']=='squant'])\n",
    "pd.merge(squant[['type', 'name', 'count']], ori, on='name')"
   ]
  },
  {
   "cell_type": "code",
<<<<<<< HEAD
   "execution_count": 12,
=======
   "execution_count": 69,
>>>>>>> 72a199eb4dcaa839515409b2b1367cef5f3ca1c8
   "metadata": {},
   "outputs": [],
   "source": [
    "from IPython.display import Video\n"
   ]
  },
  {
   "cell_type": "code",
<<<<<<< HEAD
   "execution_count": 13,
=======
   "execution_count": 94,
>>>>>>> 72a199eb4dcaa839515409b2b1367cef5f3ca1c8
   "metadata": {},
   "outputs": [],
   "source": [
    "video_path = 'data/RepCountA/video/'\n",
    "iter_squant = squant.iterrows()\n"
   ]
  },
  {
   "cell_type": "markdown",
   "metadata": {},
   "source": [
<<<<<<< HEAD
    "Fix typo. Merge `squant` to `squat`"
=======
    "Fix type. Replace `squant` with `squat`"
   ]
  },
  {
   "cell_type": "code",
   "execution_count": 118,
   "metadata": {},
   "outputs": [
    {
     "data": {
      "text/html": [
       "<div>\n",
       "<style scoped>\n",
       "    .dataframe tbody tr th:only-of-type {\n",
       "        vertical-align: middle;\n",
       "    }\n",
       "\n",
       "    .dataframe tbody tr th {\n",
       "        vertical-align: top;\n",
       "    }\n",
       "\n",
       "    .dataframe thead th {\n",
       "        text-align: right;\n",
       "    }\n",
       "</style>\n",
       "<table border=\"1\" class=\"dataframe\">\n",
       "  <thead>\n",
       "    <tr style=\"text-align: right;\">\n",
       "      <th></th>\n",
       "      <th>name</th>\n",
       "      <th>count</th>\n",
       "    </tr>\n",
       "    <tr>\n",
       "      <th>type</th>\n",
       "      <th></th>\n",
       "      <th></th>\n",
       "    </tr>\n",
       "  </thead>\n",
       "  <tbody>\n",
       "    <tr>\n",
       "      <th>squat</th>\n",
       "      <td>101</td>\n",
       "      <td>101</td>\n",
       "    </tr>\n",
       "    <tr>\n",
       "      <th>situp</th>\n",
       "      <td>93</td>\n",
       "      <td>93</td>\n",
       "    </tr>\n",
       "    <tr>\n",
       "      <th>bench_pressing</th>\n",
       "      <td>74</td>\n",
       "      <td>74</td>\n",
       "    </tr>\n",
       "    <tr>\n",
       "      <th>pull_up</th>\n",
       "      <td>74</td>\n",
       "      <td>74</td>\n",
       "    </tr>\n",
       "    <tr>\n",
       "      <th>push_up</th>\n",
       "      <td>72</td>\n",
       "      <td>71</td>\n",
       "    </tr>\n",
       "    <tr>\n",
       "      <th>pommelhorse</th>\n",
       "      <td>69</td>\n",
       "      <td>69</td>\n",
       "    </tr>\n",
       "    <tr>\n",
       "      <th>front_raise</th>\n",
       "      <td>68</td>\n",
       "      <td>68</td>\n",
       "    </tr>\n",
       "    <tr>\n",
       "      <th>jump_jack</th>\n",
       "      <td>61</td>\n",
       "      <td>61</td>\n",
       "    </tr>\n",
       "    <tr>\n",
       "      <th>others</th>\n",
       "      <td>37</td>\n",
       "      <td>37</td>\n",
       "    </tr>\n",
       "    <tr>\n",
       "      <th>frontraise</th>\n",
       "      <td>25</td>\n",
       "      <td>25</td>\n",
       "    </tr>\n",
       "    <tr>\n",
       "      <th>pullups</th>\n",
       "      <td>20</td>\n",
       "      <td>20</td>\n",
       "    </tr>\n",
       "    <tr>\n",
       "      <th>benchpressing</th>\n",
       "      <td>19</td>\n",
       "      <td>19</td>\n",
       "    </tr>\n",
       "    <tr>\n",
       "      <th>pushups</th>\n",
       "      <td>17</td>\n",
       "      <td>17</td>\n",
       "    </tr>\n",
       "    <tr>\n",
       "      <th>jumpjacks</th>\n",
       "      <td>15</td>\n",
       "      <td>15</td>\n",
       "    </tr>\n",
       "    <tr>\n",
       "      <th>battle_rope</th>\n",
       "      <td>13</td>\n",
       "      <td>13</td>\n",
       "    </tr>\n",
       "  </tbody>\n",
       "</table>\n",
       "</div>"
      ],
      "text/plain": [
       "                name  count\n",
       "type                       \n",
       "squat            101    101\n",
       "situp             93     93\n",
       "bench_pressing    74     74\n",
       "pull_up           74     74\n",
       "push_up           72     71\n",
       "pommelhorse       69     69\n",
       "front_raise       68     68\n",
       "jump_jack         61     61\n",
       "others            37     37\n",
       "frontraise        25     25\n",
       "pullups           20     20\n",
       "benchpressing     19     19\n",
       "pushups           17     17\n",
       "jumpjacks         15     15\n",
       "battle_rope       13     13"
      ]
     },
     "execution_count": 118,
     "metadata": {},
     "output_type": "execute_result"
    }
   ],
   "source": [
    "train_df.replace('squant', 'squat', inplace=True)\n",
    "val_df.replace('squant', 'squat', inplace=True)\n",
    "test_df.replace('squant', 'squat', inplace=True)\n",
    "\n",
    "train_df.groupby('type').count()[['name', 'count']].sort_values('count', ascending=False)"
>>>>>>> 72a199eb4dcaa839515409b2b1367cef5f3ca1c8
   ]
  },
  {
   "cell_type": "markdown",
   "metadata": {},
   "source": [
    "# Dataloader"
   ]
  },
  {
   "cell_type": "code",
<<<<<<< HEAD
   "execution_count": 15,
=======
   "execution_count": 100,
>>>>>>> 72a199eb4dcaa839515409b2b1367cef5f3ca1c8
   "metadata": {},
   "outputs": [
    {
     "data": {
      "text/plain": [
       "'front_raise'"
      ]
     },
     "metadata": {},
     "output_type": "display_data"
    }
   ],
   "source": [
    "name = 'stu1_15.mp4'\n",
    "row = train_df[train_df['name'] == name]\n",
    "label = row['type'].values[0]\n",
    "display(label)"
   ]
  },
  {
   "cell_type": "markdown",
   "metadata": {},
   "source": [
    "Csv to txt. Openmmlab format. One video per line separated by space."
   ]
  },
  {
   "cell_type": "code",
<<<<<<< HEAD
   "execution_count": 16,
=======
   "execution_count": 120,
>>>>>>> 72a199eb4dcaa839515409b2b1367cef5f3ca1c8
   "metadata": {},
   "outputs": [
    {
     "data": {
      "text/plain": [
<<<<<<< HEAD
       "dict_values([0, 1, 8, 3, 4, 5, 6, 7, 8, 9, 10, 11, 12, 13, 14, 2])"
      ]
     },
     "execution_count": 16,
=======
       "{'frontraise': 0,\n",
       " 'pullups': 1,\n",
       " 'squat': 2,\n",
       " 'front_raise': 3,\n",
       " 'bench_pressing': 4,\n",
       " 'jump_jack': 5,\n",
       " 'situp': 6,\n",
       " 'benchpressing': 7,\n",
       " 'pull_up': 8,\n",
       " 'push_up': 9,\n",
       " 'jumpjacks': 10,\n",
       " 'pushups': 11,\n",
       " 'others': 12,\n",
       " 'battle_rope': 13,\n",
       " 'pommelhorse': 14}"
      ]
     },
     "execution_count": 120,
>>>>>>> 72a199eb4dcaa839515409b2b1367cef5f3ca1c8
     "metadata": {},
     "output_type": "execute_result"
    }
   ],
   "source": [
<<<<<<< HEAD
    "class_dict = dict(zip(classes, range(len(classes))))\n",
    "class_dict['squant'] = class_dict['squat']\n",
    "class_dict['pommelhorse'] = 2\n",
    "class_dict.values()"
=======
    "classes = train_df['type'].unique()\n",
    "class_dict = dict(zip(classes, range(len(classes))))\n",
    "\n",
    "class_dict"
>>>>>>> 72a199eb4dcaa839515409b2b1367cef5f3ca1c8
   ]
  },
  {
   "cell_type": "code",
<<<<<<< HEAD
   "execution_count": 17,
=======
   "execution_count": 113,
>>>>>>> 72a199eb4dcaa839515409b2b1367cef5f3ca1c8
   "metadata": {},
   "outputs": [],
   "source": [
    "with open('train.txt', 'w') as f:\n",
    "    train_df.apply(lambda x: f.write(x['name'] + ' ' + str(class_dict[x['type']]) + '\\n'), axis=1)"
   ]
  },
  {
   "cell_type": "code",
<<<<<<< HEAD
   "execution_count": 18,
=======
   "execution_count": 114,
>>>>>>> 72a199eb4dcaa839515409b2b1367cef5f3ca1c8
   "metadata": {},
   "outputs": [],
   "source": [
    "with open('val.txt', 'w') as f:\n",
    "    val_df.apply(lambda x: f.write(x['name'] + ' ' + str(class_dict[x['type']]) + '\\n'), axis=1)\n",
    "\n",
    "with open('test.txt', 'w') as f:\n",
    "    test_df.apply(lambda x: f.write(x['name'] + ' ' + str(class_dict[x['type']]) + '\\n'), axis=1)"
   ]
<<<<<<< HEAD
  },
  {
   "cell_type": "markdown",
   "metadata": {},
   "source": [
    "# Action detection data preparation"
   ]
  },
  {
   "cell_type": "code",
   "execution_count": 105,
   "metadata": {},
   "outputs": [
    {
     "name": "stdout",
     "output_type": "stream",
     "text": [
      "        type         name  count  L1  L2  L3  L4  L5  L6  L7  ...  L293  L294  \\\n",
      "585  push_up  stu6_44.mp4    NaN NaN NaN NaN NaN NaN NaN NaN  ...   NaN   NaN   \n",
      "\n",
      "     L295  L296  L297  L298  L299  L300  L301  L302  \n",
      "585   NaN   NaN   NaN   NaN   NaN   NaN   NaN   NaN  \n",
      "\n",
      "[1 rows x 305 columns]\n"
     ]
    }
   ],
   "source": [
    "d_train = dict()\n",
    "d_val = dict()\n",
    "d_test = dict()\n",
    "def func(d, x):\n",
    "    d[x['name']] = [i for i in x[x.notna()].values[3:]]\n",
    "\n",
    "train_df.apply(lambda x: func(d_train, x), axis=1)\n",
    "train_df.head()\n",
    "\n",
    "print(train_df[train_df['L1'].isna()])\n"
   ]
  },
  {
   "cell_type": "code",
   "execution_count": 107,
   "metadata": {},
   "outputs": [
    {
     "name": "stdout",
     "output_type": "stream",
     "text": [
      "[]\n",
      "[]\n",
      "[]\n"
     ]
    }
   ],
   "source": [
    "# concat because I don't need to count repetitions right now\n",
    "# Yes, all are continuous\n",
    "# Write to file in format: [name, start, end, class]\n",
    "with open('train_detection.txt', 'w') as f:\n",
    "    for k, v in d_train.items():\n",
    "        if len(v):\n",
    "            f.write(f'{k} {int(v[0])} {int(v[-1])} {train_df[train_df[\"name\"] == k][\"type\"].values[0]}\\n')\n",
    "\n",
    "# same for val and test\n",
    "d_val = dict()\n",
    "val_df.apply(lambda x: func(d_val, x), axis=1)\n",
    "\n",
    "\n",
    "with open('val_detection.txt', 'w') as f:\n",
    "    for k, v in d_val.items():\n",
    "        if len(v):\n",
    "            f.write(f'{k} {int(v[0])} {int(v[-1])} {val_df[val_df[\"name\"] == k][\"type\"].values[0]}\\n')\n",
    "\n",
    "\n",
    "d_test = dict()\n",
    "test_df.apply(lambda x: func(d_test,x), axis=1)\n",
    "\n",
    "\n",
    "with open('test_detection.txt', 'w') as f:\n",
    "    for k, v in d_test.items():\n",
    "        if len(v):\n",
    "            f.write(f'{k} {int(v[0])} {int(v[-1])} {test_df[test_df[\"name\"] == k][\"type\"].values[0]}\\n')\n",
    "\n",
    "\n"
   ]
  },
  {
   "cell_type": "markdown",
   "metadata": {},
   "source": [
    "# Dataloader for action detection\n",
    "\n",
    "I found the videos are quite densed. There are not many background in the videos. So I can safely use the whole video for action recognition.\n",
    "\n",
    "Skipping this. Doing frame extraction instead."
   ]
  },
  {
   "cell_type": "code",
   "execution_count": 10,
   "metadata": {},
   "outputs": [],
   "source": [
    "import os.path as osp\n",
    "data_dir = 'data/RepCountA/video'\n",
    "rawframes_dir = osp.join('data/RepCountA/', 'rawframes')\n",
    "train_txt = osp.join(data_dir, 'train.txt')\n",
    "val_txt = osp.join(data_dir, 'val.txt')\n",
    "test_txt = osp.join(data_dir, 'test.txt')\n",
    "train_video = osp.join(data_dir, 'train')\n",
    "val_video = osp.join(data_dir, 'val')\n",
    "test_video = osp.join(data_dir, 'test')"
   ]
  },
  {
   "cell_type": "code",
   "execution_count": null,
   "metadata": {},
   "outputs": [],
   "source": [
    "# extract frames from videos\n",
    "# images are in folder with name of video. image name format 'img_{:05d}.jpg'\n",
    "import subprocess\n",
    "\n",
    "def extract_frames(video_dir, output_dir):\n",
    "    for name in os.listdir(video_dir):\n",
    "        folder_name = name.split('.')[0]\n",
    "        mkdir_cmd = f'mkdir {osp.join(output_dir,  folder_name)}'\n",
    "        # subprocess.run(mkdir_cmd, shell=True)\n",
    "        cmd = f'ffmpeg -i {video_dir}/{name} {output_dir}/{folder_name}/img_%05d.jpg'\n",
    "        subprocess.run(cmd, shell=True, stdout=subprocess.DEVNULL)\n"
   ]
  },
  {
   "cell_type": "code",
   "execution_count": 15,
   "metadata": {},
   "outputs": [],
   "source": [
    "# build rawframe file list. line format: [path, num_frames, class]\n",
    "\n",
    "def get_label(txt):\n",
    "    with open(txt, 'r') as f:\n",
    "        train_lines = f.readlines()\n",
    "        d_train = dict()\n",
    "        for line in train_lines:\n",
    "            name, label = line.rstrip().split(' ')\n",
    "            d_train[name.split('.')[0]] = label\n",
    "\n",
    "    return d_train\n",
    "\n",
    "\n",
    "def build_file_list(rawframes_dir, input_txt, output_txt):\n",
    "    for name in os.listdir(rawframes_dir):\n",
    "        num_frames = len(os.listdir(osp.join(rawframes_dir, name)))\n",
    "        d = get_label(input_txt)\n",
    "        label = d[name]\n",
    "        with open(output_txt, 'a') as f:\n",
    "            f.write(f'{name} {num_frames} {label}\\n')\n",
    "\n",
    "\n",
    "build_file_list(osp.join(rawframes_dir, 'test'), test_txt,\n",
    "                osp.join(data_dir, 'rawframes_test.txt'))\n"
   ]
=======
>>>>>>> 72a199eb4dcaa839515409b2b1367cef5f3ca1c8
  }
 ],
 "metadata": {
  "interpreter": {
<<<<<<< HEAD
   "hash": "9ac44e3a5a0596b514731e2f84c219b304de7b3485523626a2f8b154e2423b93"
  },
  "kernelspec": {
   "display_name": "Python 3.8.13 ('mmlab')",
=======
   "hash": "6deebe2b6c7a3fc5cd075ffe89f3ba7e7310f85d9af63e76c7275543219241fc"
  },
  "kernelspec": {
   "display_name": "Python 3.8.5 ('base')",
>>>>>>> 72a199eb4dcaa839515409b2b1367cef5f3ca1c8
   "language": "python",
   "name": "python3"
  },
  "language_info": {
   "codemirror_mode": {
    "name": "ipython",
    "version": 3
   },
   "file_extension": ".py",
   "mimetype": "text/x-python",
   "name": "python",
   "nbconvert_exporter": "python",
   "pygments_lexer": "ipython3",
<<<<<<< HEAD
   "version": "3.8.13"
=======
   "version": "3.8.5"
>>>>>>> 72a199eb4dcaa839515409b2b1367cef5f3ca1c8
  },
  "orig_nbformat": 4
 },
 "nbformat": 4,
 "nbformat_minor": 2
}
